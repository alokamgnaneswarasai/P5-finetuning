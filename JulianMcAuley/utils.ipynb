{
 "cells": [
  {
   "cell_type": "code",
   "execution_count": 12,
   "metadata": {},
   "outputs": [],
   "source": [
    "import json\n",
    "import pandas as pd\n",
    "import numpy as np\n",
    "import matplotlib.pyplot as plt\n",
    "import seaborn as sns\n",
    "import os\n",
    "import pandas as pd"
   ]
  },
  {
   "cell_type": "code",
   "execution_count": 3,
   "metadata": {},
   "outputs": [
    {
     "name": "stdout",
     "output_type": "stream",
     "text": [
      "         isbn text_reviews_count    series country_code language_code  \\\n",
      "0  0312853122                  1        []           US                 \n",
      "1  0743509986                  6        []           US                 \n",
      "2                              7  [189911]           US           eng   \n",
      "3  0743294297               3282        []           US           eng   \n",
      "4  0850308712                  5        []           US                 \n",
      "\n",
      "                                     popular_shelves        asin is_ebook  \\\n",
      "0  [{'count': '3', 'name': 'to-read'}, {'count': ...                false   \n",
      "1  [{'count': '2634', 'name': 'to-read'}, {'count...                false   \n",
      "2  [{'count': '58', 'name': 'to-read'}, {'count':...  B00071IKUY    false   \n",
      "3  [{'count': '7615', 'name': 'to-read'}, {'count...                false   \n",
      "4  [{'count': '32', 'name': 'to-read'}, {'count':...                false   \n",
      "\n",
      "  average_rating kindle_asin  ... publication_month edition_information  \\\n",
      "0           4.00              ...                 9                       \n",
      "1           3.23  B000FC0PBC  ...                10            Abridged   \n",
      "2           4.03              ...                     Book Club Edition   \n",
      "3           3.49  B002ENBLOK  ...                 7                       \n",
      "4           3.40              ...                                         \n",
      "\n",
      "  publication_year                                                url  \\\n",
      "0             1984  https://www.goodreads.com/book/show/5333265-w-...   \n",
      "1             2001  https://www.goodreads.com/book/show/1333909.Go...   \n",
      "2             1987  https://www.goodreads.com/book/show/7327624-th...   \n",
      "3             2009  https://www.goodreads.com/book/show/6066819-be...   \n",
      "4                   https://www.goodreads.com/book/show/287140.Run...   \n",
      "\n",
      "                                           image_url  book_id ratings_count  \\\n",
      "0  https://images.gr-assets.com/books/1310220028m...  5333265             3   \n",
      "1  https://s.gr-assets.com/assets/nophoto/book/11...  1333909            10   \n",
      "2  https://images.gr-assets.com/books/1304100136m...  7327624           140   \n",
      "3  https://s.gr-assets.com/assets/nophoto/book/11...  6066819         51184   \n",
      "4  https://images.gr-assets.com/books/1413219371m...   287140            15   \n",
      "\n",
      "   work_id                                              title  \\\n",
      "0  5400751                        W.C. Fields: A Life on Film   \n",
      "1  1323437                                        Good Harbor   \n",
      "2  8948723  The Unschooled Wizard (Sun Wolf and Starhawk, ...   \n",
      "3  6243154                               Best Friends Forever   \n",
      "4   278577  Runic Astrology: Starcraft and Timekeeping in ...   \n",
      "\n",
      "                                title_without_series  \n",
      "0                        W.C. Fields: A Life on Film  \n",
      "1                                        Good Harbor  \n",
      "2  The Unschooled Wizard (Sun Wolf and Starhawk, ...  \n",
      "3                               Best Friends Forever  \n",
      "4  Runic Astrology: Starcraft and Timekeeping in ...  \n",
      "\n",
      "[5 rows x 29 columns]\n",
      "Index(['isbn', 'text_reviews_count', 'series', 'country_code', 'language_code',\n",
      "       'popular_shelves', 'asin', 'is_ebook', 'average_rating', 'kindle_asin',\n",
      "       'similar_books', 'description', 'format', 'link', 'authors',\n",
      "       'publisher', 'num_pages', 'publication_day', 'isbn13',\n",
      "       'publication_month', 'edition_information', 'publication_year', 'url',\n",
      "       'image_url', 'book_id', 'ratings_count', 'work_id', 'title',\n",
      "       'title_without_series'],\n",
      "      dtype='object')\n"
     ]
    }
   ],
   "source": [
    "# Help me in reading the goodreads_books.json file\n",
    "import json\n",
    "import pandas as pd\n",
    "import numpy as np\n",
    "import matplotlib.pyplot as plt\n",
    "import seaborn as sns\n",
    "\n",
    "# Load the data\n",
    "with open('goodreads_books.json', 'r') as f:\n",
    "    data = []\n",
    "    for line in f:\n",
    "        data.append(json.loads(line))\n",
    "\n",
    "# Convert the data to a pandas DataFrame\n",
    "df = pd.DataFrame(data)\n",
    "\n",
    "# Display the first few rows of the DataFrame\n",
    "print(df.head())\n",
    "\n",
    "# Display the columns of the DataFrame\n",
    "print(df.columns)\n",
    "\n"
   ]
  },
  {
   "cell_type": "code",
   "execution_count": 4,
   "metadata": {},
   "outputs": [
    {
     "name": "stdout",
     "output_type": "stream",
     "text": [
      "2360655\n"
     ]
    }
   ],
   "source": [
    "# print the nooofrows in data frame\n",
    "print(df.shape[0])  # These are the noof books in the dataset"
   ]
  },
  {
   "cell_type": "markdown",
   "metadata": {},
   "source": [
    "## Now let us load the goodreads interactions.csv file and convert it in the required format and store in pickle file "
   ]
  },
  {
   "cell_type": "code",
   "execution_count": 13,
   "metadata": {},
   "outputs": [
    {
     "name": "stdout",
     "output_type": "stream",
     "text": [
      "   user_id  book_id  is_read  rating  is_reviewed\n",
      "0        0      948        1       5            0\n",
      "1        0      947        1       5            1\n",
      "2        0      946        1       5            0\n",
      "3        0      945        1       5            0\n",
      "4        0      944        1       5            0\n"
     ]
    }
   ],
   "source": [
    "# read the csv file from goodreads_interactions.csv the fle is in the same directory\n",
    "interactions = pd.read_csv('goodreads_interactions.csv')\n",
    "# and print the first few rows of the data frame\n",
    "print(interactions.head())\n",
    "\n"
   ]
  },
  {
   "cell_type": "code",
   "execution_count": 14,
   "metadata": {},
   "outputs": [
    {
     "data": {
      "image/png": "[encoded data removed]",
      "text/plain": [
       "<Figure size 640x480 with 1 Axes>"
      ]
     },
     "metadata": {},
     "output_type": "display_data"
    }
   ],
   "source": [
    "# Now do the data analysis in the interactions data frame \n",
    "# plot the histogram of the ratings\n",
    "plt.hist(interactions['rating'])\n",
    "plt.xlabel('Rating')\n",
    "plt.ylabel('Frequency')\n",
    "plt.title('Histogram of Ratings')\n",
    "plt.show()\n"
   ]
  },
  {
   "cell_type": "code",
   "execution_count": 15,
   "metadata": {},
   "outputs": [
    {
     "name": "stdout",
     "output_type": "stream",
     "text": [
      "228648342\n",
      "876145\n",
      "2360650\n"
     ]
    }
   ],
   "source": [
    "# Plot the noof rows in a data frame\n",
    "print(interactions.shape[0])  # These are the noof interactions in the dataset\n",
    "\n",
    "# Now also plot the noof unique users in the dataset\n",
    "print(interactions['user_id'].nunique())\n",
    "\n",
    "# Now also plot the noof unique books in the dataset\n",
    "print(interactions['book_id'].nunique())\n"
   ]
  },
  {
   "cell_type": "code",
   "execution_count": 16,
   "metadata": {},
   "outputs": [
    {
     "name": "stdout",
     "output_type": "stream",
     "text": [
      "22864834\n",
      "{'user_id': 0, 'book_id': 948, 'rating': 5}\n",
      "Loaded the data from the pickle file successfully!\n"
     ]
    }
   ],
   "source": [
    "# Now i want data as a dictionary where keys are dict_keys(['train', 'val', 'test', 'train_indices', 'val_indices', 'test_indices']) and where each value is also a dictionary with keys dict_keys(['user_id', 'book_id', 'rating']) and values are the corresponding data for that split.\n",
    "# I will use the following code to do this\n",
    "# First i will split the data into train, val and test\n",
    "# Then i will convert the data into a dictionary\n",
    "# Then i will print the data\n",
    "# Then i will save the data into a pickle file\n",
    "\n",
    "# Split the data into train, val and test \n",
    "\n",
    "# first do a on 100 interactions\n",
    "\n",
    "# interactions = interactions.sample(100)\n",
    "\n",
    "train = interactions.sample(frac=0.8)\n",
    "interactions = interactions.drop(train.index)\n",
    "val = interactions.sample(frac=0.5)\n",
    "test = interactions.drop(val.index)\n",
    "\n",
    "# Convert the data into a dictionary where the key train has a list of dictionaries where each dictionary has keys user_id, book_id and rating\n",
    "train_data = []\n",
    "for index, row in train.iterrows():\n",
    "    train_data.append({'user_id': row['user_id'], 'book_id': row['book_id'], 'rating': row['rating']})\n",
    "    \n",
    "val_data = []\n",
    "for index, row in val.iterrows():\n",
    "    val_data.append({'user_id': row['user_id'], 'book_id': row['book_id'], 'rating': row['rating']})\n",
    "    \n",
    "test_data = []  \n",
    "for index, row in test.iterrows():\n",
    "    test_data.append({'user_id': row['user_id'], 'book_id': row['book_id'], 'rating': row['rating']})\n",
    "    \n",
    "# Create the dictionary\n",
    "data = {'train': train_data, 'val': val_data, 'test': test_data, 'train_indices': train.index.tolist(), 'val_indices': val.index.tolist(), 'test_indices': test.index.tolist()}\n",
    "\n",
    "\n",
    "# save the data into a pickle file\n",
    "import pickle\n",
    "with open('goodreads_interactions.pkl', 'wb') as f:\n",
    "    pickle.dump(data, f)\n",
    "    \n",
    "# Load the data from the pickle file\n",
    "with open('goodreads_interactions.pkl', 'rb') as f:\n",
    "    data = pickle.load(f)\n",
    "    \n",
    "test_data = data['test']\n",
    "print(len(test_data))\n",
    "\n",
    "print(test_data[0])\n",
    "\n",
    "\n",
    "print(\"Loaded the data from the pickle file successfully!\")\n",
    "\n"
   ]
  },
  {
   "cell_type": "code",
   "execution_count": 11,
   "metadata": {},
   "outputs": [
    {
     "data": {
      "text/plain": [
       "{'user_id': 266766, 'book_id': 378269, 'rating': 4}"
      ]
     },
     "execution_count": 11,
     "metadata": {},
     "output_type": "execute_result"
    }
   ],
   "source": [
    "data['test'][0]"
   ]
  },
  {
   "cell_type": "code",
   "execution_count": null,
   "metadata": {},
   "outputs": [],
   "source": []
  }
 ],
 "metadata": {
  "kernelspec": {
   "display_name": "Python 3",
   "language": "python",
   "name": "python3"
  },
  "language_info": {
   "codemirror_mode": {
    "name": "ipython",
    "version": 3
   },
   "file_extension": ".py",
   "mimetype": "text/x-python",
   "name": "python",
   "nbconvert_exporter": "python",
   "pygments_lexer": "ipython3",
   "version": "3.8.10"
  }
 },
 "nbformat": 4,
 "nbformat_minor": 2
}
