{
 "cells": [
  {
   "cell_type": "code",
   "execution_count": 2,
   "metadata": {},
   "outputs": [],
   "source": [
    "import json\n",
    "import pandas as pd\n",
    "import numpy as np\n",
    "import matplotlib.pyplot as plt\n",
    "import seaborn as sns\n",
    "import os\n",
    "import pandas as pd"
   ]
  },
  {
   "cell_type": "code",
   "execution_count": 3,
   "metadata": {},
   "outputs": [
    {
     "name": "stdout",
     "output_type": "stream",
     "text": [
      "         isbn text_reviews_count    series country_code language_code  \\\n",
      "0  0312853122                  1        []           US                 \n",
      "1  0743509986                  6        []           US                 \n",
      "2                              7  [189911]           US           eng   \n",
      "3  0743294297               3282        []           US           eng   \n",
      "4  0850308712                  5        []           US                 \n",
      "\n",
      "                                     popular_shelves        asin is_ebook  \\\n",
      "0  [{'count': '3', 'name': 'to-read'}, {'count': ...                false   \n",
      "1  [{'count': '2634', 'name': 'to-read'}, {'count...                false   \n",
      "2  [{'count': '58', 'name': 'to-read'}, {'count':...  B00071IKUY    false   \n",
      "3  [{'count': '7615', 'name': 'to-read'}, {'count...                false   \n",
      "4  [{'count': '32', 'name': 'to-read'}, {'count':...                false   \n",
      "\n",
      "  average_rating kindle_asin  ... publication_month edition_information  \\\n",
      "0           4.00              ...                 9                       \n",
      "1           3.23  B000FC0PBC  ...                10            Abridged   \n",
      "2           4.03              ...                     Book Club Edition   \n",
      "3           3.49  B002ENBLOK  ...                 7                       \n",
      "4           3.40              ...                                         \n",
      "\n",
      "  publication_year                                                url  \\\n",
      "0             1984  https://www.goodreads.com/book/show/5333265-w-...   \n",
      "1             2001  https://www.goodreads.com/book/show/1333909.Go...   \n",
      "2             1987  https://www.goodreads.com/book/show/7327624-th...   \n",
      "3             2009  https://www.goodreads.com/book/show/6066819-be...   \n",
      "4                   https://www.goodreads.com/book/show/287140.Run...   \n",
      "\n",
      "                                           image_url  book_id ratings_count  \\\n",
      "0  https://images.gr-assets.com/books/1310220028m...  5333265             3   \n",
      "1  https://s.gr-assets.com/assets/nophoto/book/11...  1333909            10   \n",
      "2  https://images.gr-assets.com/books/1304100136m...  7327624           140   \n",
      "3  https://s.gr-assets.com/assets/nophoto/book/11...  6066819         51184   \n",
      "4  https://images.gr-assets.com/books/1413219371m...   287140            15   \n",
      "\n",
      "   work_id                                              title  \\\n",
      "0  5400751                        W.C. Fields: A Life on Film   \n",
      "1  1323437                                        Good Harbor   \n",
      "2  8948723  The Unschooled Wizard (Sun Wolf and Starhawk, ...   \n",
      "3  6243154                               Best Friends Forever   \n",
      "4   278577  Runic Astrology: Starcraft and Timekeeping in ...   \n",
      "\n",
      "                                title_without_series  \n",
      "0                        W.C. Fields: A Life on Film  \n",
      "1                                        Good Harbor  \n",
      "2  The Unschooled Wizard (Sun Wolf and Starhawk, ...  \n",
      "3                               Best Friends Forever  \n",
      "4  Runic Astrology: Starcraft and Timekeeping in ...  \n",
      "\n",
      "[5 rows x 29 columns]\n",
      "Index(['isbn', 'text_reviews_count', 'series', 'country_code', 'language_code',\n",
      "       'popular_shelves', 'asin', 'is_ebook', 'average_rating', 'kindle_asin',\n",
      "       'similar_books', 'description', 'format', 'link', 'authors',\n",
      "       'publisher', 'num_pages', 'publication_day', 'isbn13',\n",
      "       'publication_month', 'edition_information', 'publication_year', 'url',\n",
      "       'image_url', 'book_id', 'ratings_count', 'work_id', 'title',\n",
      "       'title_without_series'],\n",
      "      dtype='object')\n"
     ]
    }
   ],
   "source": [
    "# Help me in reading the goodreads_books.json file\n",
    "import json\n",
    "import pandas as pd\n",
    "import numpy as np\n",
    "import matplotlib.pyplot as plt\n",
    "import seaborn as sns\n",
    "\n",
    "# Load the data\n",
    "with open('goodreads_books.json', 'r') as f:\n",
    "    data = []\n",
    "    for line in f:\n",
    "        data.append(json.loads(line))\n",
    "\n",
    "# Convert the data to a pandas DataFrame\n",
    "df = pd.DataFrame(data)\n",
    "\n",
    "# Display the first few rows of the DataFrame\n",
    "print(df.head())\n",
    "\n",
    "# Display the columns of the DataFrame\n",
    "print(df.columns)\n",
    "\n"
   ]
  },
  {
   "cell_type": "code",
   "execution_count": 4,
   "metadata": {},
   "outputs": [
    {
     "name": "stdout",
     "output_type": "stream",
     "text": [
      "2360655\n"
     ]
    }
   ],
   "source": [
    "# print the nooofrows in data frame\n",
    "print(df.shape[0])  # These are the noof books in the dataset"
   ]
  },
  {
   "cell_type": "markdown",
   "metadata": {},
   "source": [
    "## Now let us load the goodreads interactions.csv file and convert it in the required format and store in pickle file "
   ]
  },
  {
   "cell_type": "code",
   "execution_count": 3,
   "metadata": {},
   "outputs": [
    {
     "name": "stdout",
     "output_type": "stream",
     "text": [
      "   user_id  book_id  is_read  rating  is_reviewed\n",
      "0        0      948        1       5            0\n",
      "1        0      947        1       5            1\n",
      "2        0      946        1       5            0\n",
      "3        0      945        1       5            0\n",
      "4        0      944        1       5            0\n"
     ]
    }
   ],
   "source": [
    "# read the csv file from goodreads_interactions.csv the fle is in the same directory\n",
    "interactions = pd.read_csv('goodreads_interactions.csv')\n",
    "# and print the first few rows of the data frame\n",
    "print(interactions.head())\n",
    "\n"
   ]
  },
  {
   "cell_type": "code",
   "execution_count": 5,
   "metadata": {},
   "outputs": [
    {
     "data": {
      "image/png": "[encoded data removed]",
      "text/plain": [
       "<Figure size 640x480 with 1 Axes>"
      ]
     },
     "metadata": {},
     "output_type": "display_data"
    },
    {
     "data": {
      "text/plain": [
       "<Figure size 640x480 with 0 Axes>"
      ]
     },
     "metadata": {},
     "output_type": "display_data"
    }
   ],
   "source": [
    "# Now do the data analysis in the interactions data frame \n",
    "# plot the histogram of the ratings\n",
    "plt.hist(interactions['rating'])\n",
    "plt.xlabel('Rating')\n",
    "plt.ylabel('Frequency')\n",
    "plt.title('Histogram of Ratings')\n",
    "plt.show()\n",
    "# save the plot in /results directory create if it does not exist\n",
    "if not os.path.exists('results'):\n",
    "    os.makedirs('results')\n",
    "plt.savefig('results/histogram_of_ratings.png')\n"
   ]
  },
  {
   "cell_type": "code",
   "execution_count": 4,
   "metadata": {},
   "outputs": [
    {
     "name": "stdout",
     "output_type": "stream",
     "text": [
      "rating\n",
      "0    124096793\n",
      "4     37497451\n",
      "5     35506166\n",
      "3     23307457\n",
      "2      6189946\n",
      "1      2050529\n",
      "Name: count, dtype: int64\n"
     ]
    }
   ],
   "source": [
    "# check the different ratings in the data frame\n",
    "print(interactions['rating'].value_counts())"
   ]
  },
  {
   "cell_type": "code",
   "execution_count": 3,
   "metadata": {},
   "outputs": [
    {
     "name": "stdout",
     "output_type": "stream",
     "text": [
      "228648342\n",
      "876145\n",
      "2360650\n"
     ]
    }
   ],
   "source": [
    "# Plot the noof rows in a data frame\n",
    "print(interactions.shape[0])  # These are the noof interactions in the dataset\n",
    "\n",
    "# Now also plot the noof unique users in the dataset\n",
    "print(interactions['user_id'].nunique())\n",
    "\n",
    "# Now also plot the noof unique books in the dataset\n",
    "print(interactions['book_id'].nunique())\n"
   ]
  },
  {
   "cell_type": "code",
   "execution_count": 4,
   "metadata": {},
   "outputs": [
    {
     "name": "stdout",
     "output_type": "stream",
     "text": [
      "22864834\n",
      "{'user_id': 0, 'book_id': 938, 'rating': 5}\n",
      "Loaded the data from the pickle file successfully!\n"
     ]
    }
   ],
   "source": [
    "# Now i want data as a dictionary where keys are dict_keys(['train', 'val', 'test', 'train_indices', 'val_indices', 'test_indices']) and where each value is also a dictionary with keys dict_keys(['user_id', 'book_id', 'rating']) and values are the corresponding data for that split.\n",
    "# I will use the following code to do this\n",
    "# First i will split the data into train, val and test\n",
    "# Then i will convert the data into a dictionary\n",
    "# Then i will print the data\n",
    "# Then i will save the data into a pickle file\n",
    "\n",
    "# Split the data into train, val and test \n",
    "\n",
    "# first do a on 100 interactions\n",
    "\n",
    "# interactions = interactions.sample(100)\n",
    "\n",
    "train = interactions.sample(frac=0.8)\n",
    "interactions = interactions.drop(train.index)\n",
    "val = interactions.sample(frac=0.5)\n",
    "test = interactions.drop(val.index)\n",
    "\n",
    "# Convert the data into a dictionary where the key train has a list of dictionaries where each dictionary has keys user_id, book_id and rating\n",
    "train_data = []\n",
    "for index, row in train.iterrows():\n",
    "    train_data.append({'user_id': row['user_id'], 'book_id': row['book_id'], 'rating': row['rating']})\n",
    "    \n",
    "val_data = []\n",
    "for index, row in val.iterrows():\n",
    "    val_data.append({'user_id': row['user_id'], 'book_id': row['book_id'], 'rating': row['rating']})\n",
    "    \n",
    "test_data = []  \n",
    "for index, row in test.iterrows():\n",
    "    test_data.append({'user_id': row['user_id'], 'book_id': row['book_id'], 'rating': row['rating']})\n",
    "    \n",
    "# Create the dictionary\n",
    "data = {'train': train_data, 'val': val_data, 'test': test_data, 'train_indices': train.index.tolist(), 'val_indices': val.index.tolist(), 'test_indices': test.index.tolist()}\n",
    "\n",
    "\n",
    "# save the data into a pickle file\n",
    "import pickle\n",
    "with open('goodreads_interactions.pkl', 'wb') as f:\n",
    "    pickle.dump(data, f)\n",
    "    \n",
    "# Load the data from the pickle file\n",
    "with open('goodreads_interactions.pkl', 'rb') as f:\n",
    "    data = pickle.load(f)\n",
    "    \n",
    "test_data = data['test']\n",
    "print(len(test_data))\n",
    "\n",
    "print(test_data[0])\n",
    "\n",
    "\n",
    "print(\"Loaded the data from the pickle file successfully!\")\n",
    "\n"
   ]
  },
  {
   "cell_type": "code",
   "execution_count": 11,
   "metadata": {},
   "outputs": [
    {
     "data": {
      "text/plain": [
       "{'user_id': 266766, 'book_id': 378269, 'rating': 4}"
      ]
     },
     "execution_count": 11,
     "metadata": {},
     "output_type": "execute_result"
    }
   ],
   "source": [
    "data['test'][0]"
   ]
  },
  {
   "cell_type": "markdown",
   "metadata": {},
   "source": [
    "## Now Let us create the txt file for sequential Recommendation where we will have first index as user_id followed by sequence of book_id "
   ]
  },
  {
   "cell_type": "code",
   "execution_count": 5,
   "metadata": {},
   "outputs": [
    {
     "name": "stdout",
     "output_type": "stream",
     "text": [
      "Saved the data into a .txt file successfully!\n"
     ]
    }
   ],
   "source": [
    "# Now create a sequential_data.txt where each line will have first the user id then the sequence of items that the user has rated\n",
    "# Finally save the .txt file\n",
    "\n",
    "# First create a dictionary where the key is the user_id and the value is a list of book_ids that the user has rated\n",
    "user_to_books = {}\n",
    "for interaction in data['train']:\n",
    "    user_id = interaction['user_id']\n",
    "    book_id = interaction['book_id']\n",
    "    if user_id not in user_to_books:\n",
    "        user_to_books[user_id] = []\n",
    "    user_to_books[user_id].append(book_id)\n",
    "    \n",
    "for interaction in data['val']:\n",
    "    user_id = interaction['user_id']\n",
    "    book_id = interaction['book_id']\n",
    "    if user_id not in user_to_books:\n",
    "        user_to_books[user_id] = []\n",
    "    user_to_books[user_id].append(book_id)\n",
    "    \n",
    "for interaction in data['test']:\n",
    "    user_id = interaction['user_id']\n",
    "    book_id = interaction['book_id']\n",
    "    if user_id not in user_to_books:\n",
    "        user_to_books[user_id] = []\n",
    "    user_to_books[user_id].append(book_id)\n",
    "    \n",
    "# Now save the data into a .txt file\n",
    "with open('sequential_data.txt', 'w') as f:\n",
    "    for user_id, books in user_to_books.items():\n",
    "        f.write(str(user_id) + ' ' + ' '.join([str(book) for book in books]) + '\\n')\n",
    "        \n",
    "print(\"Saved the data into a .txt file successfully!\")"
   ]
  },
  {
   "cell_type": "code",
   "execution_count": 6,
   "metadata": {},
   "outputs": [
    {
     "name": "stdout",
     "output_type": "stream",
     "text": [
      "Max length: 119777\n",
      "Min length: 1\n",
      "Average length: 260.97089180443874\n"
     ]
    }
   ],
   "source": [
    "# Now do the data analysis on sequential_data.txt file\n",
    "# do the analysis of maximim,minimum and average sequence length\n",
    "\n",
    "def get_max_min_avg_sequence_length(file_path):\n",
    "    with open(file_path, 'r') as f:\n",
    "        lines = f.readlines()\n",
    "        max_length = 0\n",
    "        min_length = float('inf')\n",
    "        total_length = 0\n",
    "        for line in lines:\n",
    "            sequence = line.strip().split(' ')[1:]\n",
    "            length = len(sequence)\n",
    "            max_length = max(max_length, length)\n",
    "            min_length = min(min_length, length)\n",
    "            total_length += length\n",
    "        avg_length = total_length / len(lines)\n",
    "        return max_length, min_length, avg_length\n",
    "    \n",
    "max_length, min_length, avg_length = get_max_min_avg_sequence_length('sequential_data.txt')\n",
    "print('Max length:', max_length)\n",
    "print('Min length:', min_length)\n",
    "print('Average length:', avg_length)\n",
    "\n"
   ]
  },
  {
   "cell_type": "code",
   "execution_count": 8,
   "metadata": {},
   "outputs": [
    {
     "name": "stdout",
     "output_type": "stream",
     "text": [
      "2877 50274 36554 1003 39882 36605 1473 21885 7436 36991 57405 67617 383713 50365 1402 18871 232 134955 18724 41765 13353 1045 21862 39861 16737 1846 3705 317 82017 19484 20570 1551 12517 5864 57185 75727 7193 330520 36296 36513 383714 92049 6973 383703 48613 5121 8381 1605 23738 998 9038 4469 7342 112006 103983 26362 5166 112965 51640 117900 19419 4362 37378 50893 6969 13488 50901 383712 41896 1271 52748 257103 5836 1053 19415 57302 6839 383702 375775 50359 36272 37626 299730 113452 17248 1504 50259 52431 2577 145446 7161 14828 35861 7049 27455 37063 36537 1505 7499 57178 1821 297 35659 16826 16323 23417 39820 1234 57168 21865 2402 51564 259710 19436 1065 17988 50538 858 134776 39811 21477 7510 103554 36607 26601 5868 1611 8673 36908 7071 1210 52430 14713 62689 19431 6974 62453 26032 294203 98487 4748 20906 50370 37024 5422 6259 7492 22856 48616 6230 176486 1823 2295 383716 57161 938 220505 37506 1555 6716 46517 19590 7469 18696 52432 2867 5236 15450 7009 19456 23413 1592 1572 7452 1067 10295 26381 78213 50413 50469 57282 63258 19428 57436 5863 36773 8000 383706 7376 19492 369933 20883 57330 57153 2787 1207 36377 2512 383705 50539 1635 5189 206255 57192 2401 342714 383704 36115 84513 7993 343918 126 23815 34886 26219 118027 51017 50398 35654 14871 39104 995 1241 1044 36505 57583 52476 108196 36745 199209 98145 19517 37665 19423 51141 21585 13439 51080 80205 999 5865 35703 383710 536 50292 51103 20765 57276 46816 21542 24945 111831 383707 6229 100931 19421 25956 21769 19566 19476 3304 2370 89788 21401 2403 67636 29973 19346 968 13546 119975 50322 81954 1200 149390 39933 19509 57608 36545 20880 34008 122796 5867 1136 5793 36571 152616 19665 57143 36546 7972 5238 18061 118069 14549 37020 1000 14830 133751 6127 16959 57056 5866 21863 50820 383708 586 111861 446 111984 7517 36614 2785 50935 383709 215501 7008 23801 35640 36393 56971 57271 8962 383715 25335 7476 39876 90118 21864 40372 63269 51037 12437 27995 25955 57098 7461 36320 252943 41899 37382 16144 939 5456 23416 1233 164845 203034 132229 26005 61340 19438 7955 2519 36976 36598 8227 19480 6963 383717 7459 9356 383711 181615 138 1634 36491 102137 36536 36769 57055\n",
      "\n",
      "876145\n"
     ]
    }
   ],
   "source": [
    "# Print one line in sequential_data.txt\n",
    "\n",
    "with open('sequential_data.txt', 'r') as f:\n",
    "    \n",
    "    for i in range(1):\n",
    "        print(f.readline())\n",
    "        \n",
    "# check noof rows in sequential_data.txt\n",
    "with open('sequential_data.txt', 'r') as f:\n",
    "    lines = f.readlines()\n",
    "    print(len(lines))\n",
    "    \n",
    "        "
   ]
  },
  {
   "cell_type": "code",
   "execution_count": 9,
   "metadata": {},
   "outputs": [
    {
     "name": "stdout",
     "output_type": "stream",
     "text": [
      "Sorted the data in the file successfully!\n"
     ]
    }
   ],
   "source": [
    "# Now sort the data in the sequential_data.txt file based on the user_id\n",
    "# and save the data into a new file called sequential_data_sorted.txt\n",
    "\n",
    "with open('sequential_data.txt', 'r') as f:\n",
    "    lines = f.readlines()\n",
    "    lines.sort(key=lambda x: int(x.split(' ')[0]))\n",
    "    \n",
    "with open('sequential_data_sorted.txt', 'w') as f:\n",
    "    for line in lines:\n",
    "        f.write(line)\n",
    "        \n",
    "print(\"Sorted the data in the file successfully!\")"
   ]
  },
  {
   "cell_type": "code",
   "execution_count": 10,
   "metadata": {},
   "outputs": [
    {
     "name": "stdout",
     "output_type": "stream",
     "text": [
      "0 583 582 75 239 54 657 827 270 456 586 301 139 156 723 517 720 909 596 944 776 626 314 719 908 842 47 293 649 937 674 579 880 211 540 260 78 769 264 700 145 35 761 83 148 788 932 655 55 762 266 892 823 646 734 61 219 379 415 824 697 358 783 385 801 656 812 740 744 849 431 275 759 500 809 550 585 164 176 936 603 622 508 367 895 71 184 758 572 353 414 845 861 104 859 30 5 98 400 862 803 395 261 800 182 504 782 299 73 941 19 470 45 381 900 153 259 869 947 676 922 311 144 514 594 212 571 374 286 410 584 728 521 430 581 498 792 929 501 811 238 163 773 154 516 488 194 375 660 33 66 273 608 220 110 435 77 440 838 627 256 371 878 11 324 12 727 648 417 907 68 183 402 699 591 350 67 99 659 466 112 565 664 128 446 296 43 539 888 882 173 204 787 666 303 36 702 772 248 477 625 615 831 711 683 606 187 234 447 846 833 298 121 394 138 614 721 10 241 267 151 885 254 760 315 237 355 903 423 855 524 269 46 457 921 268 123 169 225 799 605 668 283 141 857 62 644 600 653 202 919 623 515 9 717 948 868 636 351 231 388 523 817 784 166 661 21 360 566 634 867 199 598 221 860 926 499 610 836 934 0 40 305 106 910 707 692 708 119 382 748 806 262 354 84 133 633 352 37 796 27 409 280 344 678 424 290 511 463 677 559 420 193 386 569 587 774 236 401 685 327 155 552 195 8 333 483 2 492 670 429 461 894 647 158 853 736 682 15 795 847 445 913 426 109 362 877 347 503 258 843 680 619 79 218 852 80 485 696 74 39 729 396 107 733 26 651 484 804 328 115 928 20 641 553 766 391 946 923 152 506 150 380 122 522 289 519 544 412 662 215 924 64 529 865 915 88 320 471 200 751 756 72 322 433 742 397 22 17 916 897 179 533 671 89 101 413 278 575 890 490 421 464 244 825 489 841 714 361 13 411 309 526 257 743 686 190 814 95 712 527 698 186 837 206 808 770 935 555 86 798 856 875 815 679 872 175 389 285 65 732 50 749 325 246 737 250 419 840 427 272 624 476 669 725 899 886 197 765 713 578 632 724 863 541 449 652 100 120 665 741 102 287 274 143 881 316 455 654 224 883 818 232 570 518 161 943 162 279 905 335 1 691 939 23 452 549 384 428 130 912 835 189 97 710 63 616 326 675 131 588 137 893 323 265 14 848 763 364 681 567 147 638 378 851 205 210 422 356 227 111 92 233 387 755 439 530 60 377 650 29 781 580 889 405 589 140 441 198 930 612 474 345 667 165 348 124 343 551 136 91 407 754 349 573 383 752 132 731 793 942 94 291 105 373 284 563 839 459 536 891 602 341 918 300 425 593 393 896 42 337 534 562 705 548 887 170 146 108 512 342 745 207 694 561 738 372 214 779 873 797 52 24 854 604 618 171 672 475 543 628 438 437 538 870 125 481 794 444 790 545 609 191 494 442 192 168 911 906 468 684 203 243 114 531 715 51 645 599 830 436 4 556 805 448 821 607 716 778 346 277 331 558 369 785 810 116 117 363 222 294 321 486 828 472 339 704 826 590 302 18 213 118 276 746 159 557 493 735 7 706 454 525 307 217 359 629 103 902 520 469 90 113 312 310 229 174 509 226 718 230 568 491 6 637 547 177 554 791 631 281 201 399 181 864 443 462 366 940 216 432 780 453 807 642 904 722 640 620 577 513 56 460 850 822 3 874 38 510 819 813 898 497 172 249 188 535 816 709 925 701 473 630 576 135 901 127 357 507 496 59 53 574 434 931 560 775 502 252 933 329 688 564 920 917 160 185 81 70 673 750 739 408 157 235 398 834 730 726 167 178 945 44 542 223 747 757 282 134 28 617 16 253 866 546 403 390 288 495 764 876 786 142 879 450 482 318 416 479 690 695 927 689 505 643 149 332 938 914 884 871 858 844 832 829 820 802 789 777 771 768 767 753 703 693 687 663 658 639 635 621 613 611 601 597 595 592 537 532 528 487 480 478 467 465 458 451 418 406 404 392 376 370 368 365 340 338 336 334 330 319 317 313 308 306 304 297 295 292 271 263 255 251 247 245 242 240 228 209 208 196 180 129 126 96 93 87 85 82 76 69 58 57 49 48 41 34 32 31 25\n",
      "\n",
      "1 706 1064 1028 987 846 1051 976 998 1037 1038 971 939 1065 1045 1012 1052 1010 966 1041 956 1046 1047 1011 970 259 974 952 953 957 1060 980 977 1044 1054 1058 960 992 973 1056 986 1050 1007 1031 972 1053 994 988 1013 996 1035 1042 950 1033 984 1016 1048 991 990 1025 1009 951 961 858 944 943 1055 1027 955 949 1040 704 969 1022 1003 958 1019 1006 1049 1032 1018 1030 978 1036 1014 1061 1021 1002 967 536 1005 993 965 954 1026 1024 1057 964 983 828 938 989 1017 982 439 531 1063 668 963 1023 1029 997 1020 979 981 941 975 1004 1043 669 1015 959 1059 968 995 1034 1062 1039 670 1008 1001 1000 999 985 613 772 962\n",
      "\n",
      "2 1197 1164 1070 1129 999 1095 786 1190 1079 1227 1134 1198 1215 1184 1143 1093 1075 862 530 997 1115 1179 1120 839 1125 1107 1131 586 1092 1103 1212 1136 1119 1174 1121 1165 1096 1139 1155 547 1081 1199 1187 1132 1168 704 1188 458 858 1009 1011 1069 1111 898 1102 1195 1130 1077 1189 1089 1141 1105 1010 1090 924 1099 1223 1180 1091 1106 821 1000 1080 1181 1193 1200 1146 1173 1100 1167 1071 1214 1175 1086 939 1166 1218 1118 1162 1123 1182 1013 1127 1191 1085 1073 1133 1087 1183 1196 1208 1171 1177 1172 531 1101 739 1205 1149 1216 1185 947 1012 1112 1137 941 1226 1147 1144 1072 1074 1098 1157 706 66 1151 1217 1007 1138 1160 1169 1210 1192 613 943 1219 1207 1088 1159 1176 1153 438 1047 938 1110 1117 1145 1122 1116 1113 1220 1124 1194 1142 1222 1083 1209 1221 499 1128 1152 1204 1082 1201 1224 1213 1104 1084 1078 1135 1154 1068 1053 461 1148 1225 968 1003 1211 1206 1203 828 892 1202 1186 1178 1170 1163 1161 1158 1156 1150 1140 1045 1126 51 1114 1109 1108 1097 1094 1076 1067 1066\n",
      "\n",
      "3 1496 1387 1230 1396 1390 1238 1318 1373 1480 20 1314 1424 417 1349 1438 1443 1283 1451 1422 1466 1320 1201 1323 1336 1327 1088 1382 1249 1308 1254 1307 1289 152 1351 1007 1296 1375 1315 1405 1383 1359 1377 1303 317 1462 1329 1428 1473 1340 1367 1384 1275 1326 1366 1157 1294 1379 536 1442 1263 1444 1342 1420 1364 1205 1285 1445 1339 1331 1297 1343 1385 1261 1242 1306 1356 1301 1338 1413 1389 1471 1489 1350 1321 1264 220 1252 1332 1247 1246 1410 1436 707 1446 1346 1400 1418 1378 1448 1423 1403 1313 553 1337 1481 1454 1259 1463 1241 737 1395 1381 1475 1284 1406 1288 1156 1272 1441 1096 1374 1361 1426 1408 1333 1429 1392 1486 1239 1397 1493 493 1348 1477 1456 1292 1453 1304 1344 1483 1452 1434 1271 1328 1075 1309 1120 1267 1435 1467 1399 1270 1324 1457 1447 1274 1488 1287 1459 1330 1191 1228 1322 1393 1417 1257 1469 1260 1474 1458 439 1484 1295 1470 1245 1407 1394 105 1240 1011 1325 1437 899 334 1291 1253 1277 1449 1077 1290 1455 1376 1430 1233 1266 1478 1300 412 1371 1409 1353 150 1232 1460 1380 1262 197 1432 255 1050 1345 1334 1360 1485 1398 1425 1401 1235 1305 1368 1358 1411 1354 1365 1298 1415 1492 1431 1490 1222 1311 1421 1196 1248 1256 1317 1280 1293 1369 1250 1244 1352 1258 1404 1461 1004 1391 1472 1207 332 1012 1476 1450 1347 1494 1479 1362 1487 1279 1433 1414 1211 1363 1416 1412 1335 1310 1231 1419 1341 1286 1202 1255 1237 1372 1268 1243 1388 1468 1357 1234 1355 1265 1278 1482 1495 1491 1465 1464 1440 1439 1427 1210 1402 1386 1370 1319 1316 1312 1302 1299 1282 1281 1276 1273 1269 1251 1236 1229\n",
      "\n",
      "4 1566 1558 1516 1594 1600 1533 1582 1615 1508 1197 233 1604 1536 1585 1551 1312 1556 1596 1370 1500 1483 1503 1598 1548 1544 1511 1623 1577 1433 1531 1368 1570 1513 1520 1580 1565 1532 1386 1610 1633 1620 1541 1313 1366 1501 1553 307 677 1588 1283 1408 1515 1586 1522 1590 1612 1611 1552 1523 1518 1629 1387 1537 1519 1002 1619 410 197 1521 1507 1524 1578 1497 1571 1614 1471 407 1584 999 1562 1607 1625 1561 1589 1543 1465 1622 1512 1560 1525 1534 1004 1599 1592 1601 1504 1514 671 1606 1535 1540 1631 1602 1613 1448 1510 325 609 1402 1549 1583 1526 1616 996 1569 1555 995 1517 1568 1587 1473 1564 1626 1617 1330 1605 332 1506 234 1530 1334 1563 1557 1320 858 1494 1250 255 1597 1630 1591 1572 1608 1579 1430 1628 1542 1505 1559 1550 1595 1618 1242 1538 1593 1554 1545 1529 1609 1573 1539 994 1603 684 1575 1632 1627 1624 1621 1233 1455 1581 1423 1576 1574 964 1450 1567 1123 1547 1546 535 1528 1527 1509 1502 1499 1498\n",
      "\n"
     ]
    }
   ],
   "source": [
    "# Now print the first few lines of the sorted file\n",
    "with open('sequential_data_sorted.txt', 'r') as f:\n",
    "    for i in range(5):\n",
    "        print(f.readline())\n",
    "        \n",
    "        "
   ]
  },
  {
   "cell_type": "markdown",
   "metadata": {},
   "source": [
    "# Now let us do the analysis on pkl filde"
   ]
  },
  {
   "cell_type": "code",
   "execution_count": 6,
   "metadata": {},
   "outputs": [],
   "source": [
    "# Load the goodreads_interactions.pkl file \n",
    "import pickle\n",
    "with open('goodreads_interactions.pkl', 'rb') as f:\n",
    "    data = pickle.load(f)\n",
    "    \n",
    "\n",
    "\n",
    "    "
   ]
  },
  {
   "cell_type": "code",
   "execution_count": 12,
   "metadata": {},
   "outputs": [
    {
     "name": "stdout",
     "output_type": "stream",
     "text": [
      "average rating in train_data is 1.801311521643766\n",
      "average rating in test_data is 1.8014939885415306\n",
      "average rating in val_data is 1.801414783942888\n"
     ]
    },
    {
     "data": {
      "image/png": "[encoded data removed]",
      "text/plain": [
       "<Figure size 640x480 with 1 Axes>"
      ]
     },
     "metadata": {},
     "output_type": "display_data"
    },
    {
     "data": {
      "image/png": "[encoded data removed]",
      "text/plain": [
       "<Figure size 640x480 with 1 Axes>"
      ]
     },
     "metadata": {},
     "output_type": "display_data"
    },
    {
     "data": {
      "text/plain": [
       "<Figure size 640x480 with 0 Axes>"
      ]
     },
     "metadata": {},
     "output_type": "display_data"
    }
   ],
   "source": [
    "# Now do the rating analysis on the data['train'] , data['val'] and data['test'] data\n",
    "train_data = data['train']\n",
    "val_data = data['val']\n",
    "test_data = data['test']\n",
    "\n",
    "# First get the average rating in the train data\n",
    "train_ratings = [interaction['rating'] for interaction in train_data]\n",
    "test_ratings = [interaction['rating'] for interaction in test_data]\n",
    "val_ratings = [interaction['rating'] for interaction in val_data]\n",
    "\n",
    "train_avg_rating = sum(train_ratings) / len(train_ratings)\n",
    "test_avg_rating = sum(test_ratings) / len(test_ratings)\n",
    "val_avg_rating = sum(val_ratings) / len(val_ratings)\n",
    "\n",
    "print(f'average rating in train_data is {train_avg_rating}')\n",
    "print(f'average rating in test_data is {test_avg_rating}')\n",
    "print(f'average rating in val_data is {val_avg_rating}')\n",
    "\n",
    "\n",
    "# plot the histogram of the ratings\n",
    "plt.hist(train_ratings, bins=6, alpha=0.5, label='Train',color='magenta')\n",
    "plt.hist(val_ratings, bins=6, alpha=0.5, label='Val',color='darkred')\n",
    "plt.hist(test_ratings, bins=6, alpha=0.5, label='Test',color='darkgreen')\n",
    "plt.xlabel('Rating')\n",
    "plt.ylabel('Frequency')\n",
    "plt.title('Histogram of Ratings')\n",
    "plt.legend()\n",
    "plt.show()\n",
    "plt.savefig('results/histogram_of_ratings_train_val_test.png')\n",
    "\n",
    "# Plot the average rating in the train, val and test data\n",
    "plt.bar(['Train', 'Val', 'Test'], [train_avg_rating, val_avg_rating, test_avg_rating])\n",
    "plt.ylabel('Average Rating')\n",
    "plt.title('Average Rating in Train, Val and Test Data')\n",
    "plt.show()\n",
    "plt.savefig('results/average_rating_train_val_test.png')\n"
   ]
  },
  {
   "cell_type": "code",
   "execution_count": 13,
   "metadata": {},
   "outputs": [
    {
     "data": {
      "image/png": "[encoded data removed]",
      "text/plain": [
       "<Figure size 640x480 with 1 Axes>"
      ]
     },
     "metadata": {},
     "output_type": "display_data"
    },
    {
     "data": {
      "text/plain": [
       "<Figure size 640x480 with 0 Axes>"
      ]
     },
     "metadata": {},
     "output_type": "display_data"
    }
   ],
   "source": [
    "plt.hist(train_ratings, bins=6, alpha=0.5, label='Train',color='magenta')\n",
    "plt.hist(val_ratings, bins=6, alpha=0.5, label='Val',color='darkred')\n",
    "plt.hist(test_ratings, bins=6, alpha=0.5, label='Test',color='darkgreen')\n",
    "plt.xlabel('Rating')\n",
    "plt.ylabel('Frequency')\n",
    "plt.title('Histogram of Ratings')\n",
    "plt.legend()\n",
    "plt.show()\n",
    "plt.savefig('results/histogram_of_ratings_train_val_test.png')"
   ]
  },
  {
   "cell_type": "code",
   "execution_count": null,
   "metadata": {},
   "outputs": [],
   "source": []
  }
 ],
 "metadata": {
  "kernelspec": {
   "display_name": "Python 3",
   "language": "python",
   "name": "python3"
  },
  "language_info": {
   "codemirror_mode": {
    "name": "ipython",
    "version": 3
   },
   "file_extension": ".py",
   "mimetype": "text/x-python",
   "name": "python",
   "nbconvert_exporter": "python",
   "pygments_lexer": "ipython3",
   "version": "3.8.10"
  }
 },
 "nbformat": 4,
 "nbformat_minor": 2
}
