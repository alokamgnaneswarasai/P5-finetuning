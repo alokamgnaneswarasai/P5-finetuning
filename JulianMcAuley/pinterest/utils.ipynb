{
 "cells": [
  {
   "cell_type": "code",
   "execution_count": null,
   "metadata": {},
   "outputs": [],
   "source": [
    "# read the data from the pinterest.txt file\n",
    "\n",
    "with open('pinterest.txt') as file:\n",
    "    data = file.readlines()\n",
    "\n",
    "# print just the first 5 lines\n",
    "print(data[:5])\n"
   ]
  },
  {
   "cell_type": "code",
   "execution_count": null,
   "metadata": {},
   "outputs": [],
   "source": [
    "# The first fivelines are like this 'board_id,image\\n', '119134421331766936,58dcc5617e646ccd77205b4de9e01510.jpg\\n', '119134421331766936,0aa168f8b273fab6f840713aeb2972eb.jpg\\n', '119134421331766936,94cd90fd42a27abdd71b07dedd90aa9a.jpg\\n', '119134421331766936,682b2df3f7e6ee4885c1a12b59a81dfa.jpg\\n'\n",
    "\n",
    "# help me in converting the .txt file  to sequential_data.txt file where the first column is board id followed by all the images in that board id(sepereated by space) and then the next board id and its images and so on.\n",
    "\n",
    "# also map that images url to a unique number and save that mapping in a file called image_mapping.txt, also map the board id to a unique number and save that mapping in a file called board_mapping.txt\n",
    "\n",
    "# so in sequentiaal_data.txt file first line is like board_id followed by unique image id which can be mapped to image url using image_mapping.txt file \n",
    "\n",
    "# start\n",
    "import pandas as pd\n",
    "import numpy as np\n",
    "\n",
    "# create a dataframe from the data\n",
    "df = pd.DataFrame(data, columns=['data'])\n",
    "\n",
    "# remove the '\\n' from the data\n",
    "df['data'] = df['data'].str.replace('\\n', '')\n",
    "\n",
    "# split the data into two columns , only retain the baord_ids who have atleast 20 images in them\n",
    "df[['board_id', 'image']] = df['data'].str.split(',', expand=True)\n",
    "\n",
    "# delete the board_id who has less than 20 images in them and also delete the corresponding images\n",
    "\n",
    "df = df.groupby('board_id').filter(lambda x: len(x) >= 20)\n",
    "\n",
    "# drop the data column\n",
    "df.drop('data', axis=1, inplace=True)\n",
    "\n",
    "# convert the board_id and image to int\n",
    "# df['board_id'] = df['board_id'].astype(int)\n",
    "df['image'] = df['image'].astype(str)\n",
    "\n",
    "# create a dictionary for board_id and image\n",
    "board_id = df['board_id'].unique()\n",
    "image = df['image'].unique()\n",
    "\n",
    "board_id_dict = {board_id[i]: i for i in range(len(board_id))}\n",
    "image_dict = {image[i]: i for i in range(len(image))}\n",
    "              \n",
    "# save the board_id_dict and image_dict to a file\n",
    "with open('board_mapping.txt', 'w') as file:\n",
    "    for key, value in board_id_dict.items():\n",
    "        file.write(f'{key},{value}\\n')\n",
    "\n",
    "with open('image_mapping.txt', 'w') as file:\n",
    "\n",
    "    for key, value in image_dict.items():\n",
    "        file.write(f'{key},{value}\\n')\n",
    "\n",
    "# map the board_id and image to the unique number\n",
    "df['board_id'] = df['board_id'].map(board_id_dict)\n",
    "df['image'] = df['image'].map(image_dict)\n",
    "\n",
    "df = df.groupby('board_id')['image'].apply(lambda x: ' '.join(x.astype(str))).reset_index()\n",
    "\n",
    "# save the data to a file\n",
    "\n",
    "df.to_csv('sequential_data.txt', index=False)\n",
    "\n",
    "# end\n"
   ]
  },
  {
   "cell_type": "code",
   "execution_count": null,
   "metadata": {},
   "outputs": [],
   "source": [
    "# print the first 5 lines of the new file\n",
    "\n",
    "with open('sequential_data.txt') as file:\n",
    "    data = file.readlines()\n",
    "\n",
    "print(data[:5])\n",
    "\n"
   ]
  },
  {
   "cell_type": "code",
   "execution_count": null,
   "metadata": {},
   "outputs": [],
   "source": [
    "# printed like this ['board_id,image\\n', '0,0\\n', '1,1 2 3 4 5 6 7 8 9 10 11 12 13 14 15 16 17\\n', '2,18 3 19 20 21 22 23 24 25 26 27 28 29 30 31 32\\n', '3,33 34 35 36 37 38 39 40 41 42 43 44 45 46 47 48 49 50 51 52 53 54 55 56\\n']\n",
    "\n",
    "# i dont want comma to seperate the board_id and images, i want space to seperate them. so the first line should be like 'board_id image\\n' , spo modify the file accordingly\n",
    "\n",
    "# so load the file and modify it accordingly all rows should be like this 'board_id image1 image2 image3 ...'\n",
    "\n",
    "# start\n",
    "\n",
    "with open('sequential_data.txt') as file:\n",
    "    data = file.readlines()\n",
    "\n",
    "# modify the data\n",
    "data[0] = 'board_id image\\n'\n",
    "\n",
    "for i in range(1, len(data)):\n",
    "    data[i] = data[i].replace(',', ' ')\n",
    "\n",
    "# And also delete the  data[0] = 'board_id,image\\n' line from the file\n",
    "\n",
    "data.pop(0)\n",
    "\n",
    "# save the data to a file\n",
    "with open('sequential_data.txt', 'w') as file:\n",
    "    file.writelines(data)\n",
    "\n",
    "\n",
    "# print noof unique image and \n",
    "# end\n",
    "\n"
   ]
  },
  {
   "cell_type": "code",
   "execution_count": 2,
   "metadata": {},
   "outputs": [],
   "source": [
    "import bson"
   ]
  }
 ],
 "metadata": {
  "kernelspec": {
   "display_name": "Python 3",
   "language": "python",
   "name": "python3"
  },
  "language_info": {
   "codemirror_mode": {
    "name": "ipython",
    "version": 3
   },
   "file_extension": ".py",
   "mimetype": "text/x-python",
   "name": "python",
   "nbconvert_exporter": "python",
   "pygments_lexer": "ipython3",
   "version": "3.8.10"
  }
 },
 "nbformat": 4,
 "nbformat_minor": 2
}
