{
 "cells": [
  {
   "cell_type": "markdown",
   "metadata": {},
   "source": [
    "# Twitch Dataset\n",
    "\n",
    "## Description\n",
    "The Twitch dataset is a collection of data related to user activity on the streaming platform, Twitch. The data was collected every 10 minutes over a period of 43 days, capturing all streamers and users connected to their chats.\n",
    "\n",
    "## Basic Statistics\n",
    "- Total Users: 100k (full dataset: 15.5M)\n",
    "- Total Streamers (items): 162.6k (full dataset: 465k)\n",
    "- Total Interactions: 3M (full dataset: 124M)\n",
    "- Time steps: 6148\n",
    "\n",
    "## Metadata\n",
    "The dataset includes the following metadata:\n",
    "- User ID (anonymized)\n",
    "- Stream ID\n",
    "- Streamer username\n",
    "- Time start\n",
    "- Time stop\n",
    "\n",
    "The start and stop times are provided as integers, representing periods of 10 minutes. The Stream ID can be used to retrieve a single broadcast segment from a streamer.\n",
    "\n",
    "## Example\n",
    "Here are some example entries from the dataset:\n",
    "\n",
    "    1,34347669376,grimnax,5415,5419\n",
    "    1,34391109664,jtgtv,5869,5870\n",
    "    1,34395247264,towshun,5898,5899\n",
    "    1,34405646144,mithrain,6024,6025\n",
    "    2,33848559952,chfhdtpgus1,206,207\n",
    "    2,33881429664,sal_gu,519,524\n",
    "    2,33921292016,chfhdtpgus1,922,924"
   ]
  },
  {
   "cell_type": "code",
   "execution_count": 4,
   "metadata": {},
   "outputs": [
    {
     "name": "stdout",
     "output_type": "stream",
     "text": [
      "162625\n"
     ]
    },
    {
     "name": "stderr",
     "output_type": "stream",
     "text": [
      "/tmp/ipykernel_2487018/901091329.py:40: PerformanceWarning: DataFrame is highly fragmented.  This is usually the result of calling `frame.insert` many times, which has poor performance.  Consider joining all columns at once using pd.concat(axis=1) instead. To get a de-fragmented frame, use `newframe = frame.copy()`\n",
      "  df_grouped.reset_index(inplace=True)\n"
     ]
    }
   ],
   "source": [
    "import pandas as pd\n",
    "\n",
    "# Read the CSV file\n",
    "df = pd.read_csv('100k_a.csv', header=None)\n",
    "\n",
    "# Name the columns\n",
    "df.columns = ['user_id', 'stream_id', 'streamer_username', 'time_start', 'time_stop']\n",
    "\n",
    "\n",
    "# map the streamer_username to a unique number\n",
    "stream_id_names = df['streamer_username'].unique()\n",
    "print(len(stream_id_names))\n",
    "stream_id_name_map = {stream_id_name: i for i, stream_id_name in enumerate(stream_id_names)}\n",
    "\n",
    "df['streamer_username'] = df['streamer_username'].map(stream_id_name_map)\n",
    "\n",
    "\n",
    "\n",
    "# Sort the DataFrame\n",
    "df = df.sort_values(by=['user_id', 'time_start'])\n",
    "\n",
    "# Group the DataFrame by 'user_id' and concatenate the 'stream_id's into a list\n",
    "grouped = df.groupby('user_id')['streamer_username'].apply(list)\n",
    "\n",
    "# Transform the grouped data into a DataFrame\n",
    "df_grouped = grouped.apply(pd.Series)\n",
    "\n",
    "# Replace NaN values with an empty string\n",
    "# df_grouped = df_grouped.fillna('')\n",
    "\n",
    "df_grouped = df_grouped.fillna(-1)\n",
    "\n",
    "# Convert the DataFrame to integer\n",
    "df_grouped = df_grouped.astype(int)\n",
    "\n",
    "# Replace the temporary value with an empty string\n",
    "df_grouped = df_grouped.replace(-1, '')\n",
    "\n",
    "# Reset the index to include 'user_id' in the output file\n",
    "df_grouped.reset_index(inplace=True)\n",
    "\n",
    "# Write the DataFrame to a text file\n",
    "df_grouped.to_csv('sequential_recommendation_data.txt', sep=' ', header=False, index=False)"
   ]
  },
  {
   "cell_type": "code",
   "execution_count": null,
   "metadata": {},
   "outputs": [],
   "source": []
  }
 ],
 "metadata": {
  "kernelspec": {
   "display_name": "Python 3",
   "language": "python",
   "name": "python3"
  },
  "language_info": {
   "codemirror_mode": {
    "name": "ipython",
    "version": 3
   },
   "file_extension": ".py",
   "mimetype": "text/x-python",
   "name": "python",
   "nbconvert_exporter": "python",
   "pygments_lexer": "ipython3",
   "version": "3.8.10"
  }
 },
 "nbformat": 4,
 "nbformat_minor": 2
}
