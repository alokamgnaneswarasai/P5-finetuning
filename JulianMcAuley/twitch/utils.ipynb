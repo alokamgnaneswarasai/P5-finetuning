{
 "cells": [
  {
   "cell_type": "markdown",
   "metadata": {},
   "source": [
    "# Twitch Dataset\n",
    "\n",
    "## Description\n",
    "The Twitch dataset is a collection of data related to user activity on the streaming platform, Twitch. The data was collected every 10 minutes over a period of 43 days, capturing all streamers and users connected to their chats.\n",
    "\n",
    "## Basic Statistics\n",
    "- Total Users: 100k (full dataset: 15.5M)\n",
    "- Total Streamers (items): 162.6k (full dataset: 465k)\n",
    "- Total Interactions: 3M (full dataset: 124M)\n",
    "- Time steps: 6148\n",
    "\n",
    "## Metadata\n",
    "The dataset includes the following metadata:\n",
    "- User ID (anonymized)\n",
    "- Stream ID\n",
    "- Streamer username\n",
    "- Time start\n",
    "- Time stop\n",
    "\n",
    "The start and stop times are provided as integers, representing periods of 10 minutes. The Stream ID can be used to retrieve a single broadcast segment from a streamer.\n",
    "\n",
    "## Example\n",
    "Here are some example entries from the dataset:\n",
    "\n",
    "    1,34347669376,grimnax,5415,5419\n",
    "    1,34391109664,jtgtv,5869,5870\n",
    "    1,34395247264,towshun,5898,5899\n",
    "    1,34405646144,mithrain,6024,6025\n",
    "    2,33848559952,chfhdtpgus1,206,207\n",
    "    2,33881429664,sal_gu,519,524\n",
    "    2,33921292016,chfhdtpgus1,922,924"
   ]
  },
  {
   "cell_type": "markdown",
   "metadata": {},
   "source": []
  }
 ],
 "metadata": {
  "language_info": {
   "name": "python"
  }
 },
 "nbformat": 4,
 "nbformat_minor": 2
}
