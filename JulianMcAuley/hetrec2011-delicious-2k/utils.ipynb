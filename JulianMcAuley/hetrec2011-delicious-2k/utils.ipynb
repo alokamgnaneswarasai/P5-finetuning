{
 "cells": [
  {
   "cell_type": "code",
   "execution_count": 5,
   "metadata": {},
   "outputs": [
    {
     "name": "stdout",
     "output_type": "stream",
     "text": [
      "No of users: 1868\n",
      "No of tags: 40898\n",
      "No of interactions: 437594\n",
      "No of bookmarks: 69224\n"
     ]
    }
   ],
   "source": [
    "# read the user_taggedbookmarks.dat and find unique noof users and tags and noof interations\n",
    "\n",
    "import os\n",
    "\n",
    "if not os.path.exists('user_taggedbookmarks.dat'):\n",
    "    print('user_taggedbookmarks.dat not found')\n",
    "    exit(1)\n",
    "\n",
    "\n",
    "with open('user_taggedbookmarks.dat', 'r') as f:\n",
    "    lines = f.readlines()\n",
    "\n",
    "users = set()\n",
    "tags = set()\n",
    "interactions = 0\n",
    "bookmarks = set()\n",
    "for line in lines:\n",
    "    interactions += 1\n",
    "    # userID\tbookmarkID\ttagID\tday\tmonth\tyear\thour\tminute\tsecond is given\n",
    "    # so we are interested in userID and bookmarkID\n",
    "    parts = line.split('\\t')\n",
    "    user = parts[0]\n",
    "\n",
    "    bookmark = parts[1]\n",
    "    tag = parts[2]\n",
    "    users.add(user)\n",
    "    tags.add(tag)\n",
    "    bookmarks.add(bookmark)\n",
    "\n",
    "print('No of users:', len(users))\n",
    "print('No of tags:', len(tags))\n",
    "print('No of interactions:', interactions)\n",
    "print('No of bookmarks:', len(bookmarks))\n"
   ]
  },
  {
   "cell_type": "code",
   "execution_count": 7,
   "metadata": {},
   "outputs": [],
   "source": [
    "# Now create a dictionary map which assigns each user to a unique number and each bookmark_id to a unique number\n",
    "\n",
    "user_map = {}\n",
    "bookmark_map = {}\n",
    "\n",
    "\n",
    "for i, user in enumerate(users):\n",
    "    user_map[user] = i\n",
    "\n",
    "\n",
    "\n",
    "for i, bookmark in enumerate(bookmarks):\n",
    "    bookmark_map[bookmark] = i\n",
    "\n"
   ]
  },
  {
   "cell_type": "code",
   "execution_count": 8,
   "metadata": {},
   "outputs": [
    {
     "name": "stdout",
     "output_type": "stream",
     "text": [
      "   user  bookmark\n",
      "0  1602     25743\n",
      "1   693     37866\n",
      "2   693     25270\n",
      "3   693     47976\n",
      "4   693     47976\n"
     ]
    }
   ],
   "source": [
    "# make a dataframe with mapped userid and mapped bookmarkid\n",
    "import pandas as pd\n",
    "\n",
    "data = []\n",
    "for line in lines:\n",
    "    parts = line.split('\\t')\n",
    "    user = parts[0]\n",
    "    bookmark = parts[1]\n",
    "    data.append([user_map[user], bookmark_map[bookmark]])\n",
    "\n",
    "df = pd.DataFrame(data, columns=['user', 'bookmark'])\n",
    "\n",
    "print(df.head())\n",
    "\n",
    "\n"
   ]
  },
  {
   "cell_type": "code",
   "execution_count": 11,
   "metadata": {},
   "outputs": [
    {
     "name": "stdout",
     "output_type": "stream",
     "text": [
      "user\n",
      "0    [65020, 65020, 65020, 65020, 65020, 65020, 440...\n",
      "1    [845, 845, 845, 845, 60711, 60711, 60711, 6071...\n",
      "2    [6404, 6404, 57122, 57122, 57122, 34242, 34242...\n",
      "3    [34125, 34125, 34125, 51952, 51952, 51952, 386...\n",
      "4    [60691, 60691, 60691, 64263, 64263, 64263, 367...\n",
      "Name: bookmark, dtype: object\n"
     ]
    }
   ],
   "source": [
    "# Now group by user so that each user has a list of bookmarks\n",
    "grouped = df.groupby('user')['bookmark'].apply(list)\n",
    "\n",
    "print(grouped.head())\n",
    "\n"
   ]
  },
  {
   "cell_type": "code",
   "execution_count": 13,
   "metadata": {},
   "outputs": [
    {
     "name": "stdout",
     "output_type": "stream",
     "text": [
      "sequential_data.txt created\n"
     ]
    }
   ],
   "source": [
    "# Now create a sequntial_data.txt file which has the data in the format where each line is a user and the bookmarks are separated by space\n",
    "with open('sequential_data.txt', 'w') as f:\n",
    "    for user, bookmarks in grouped.items():\n",
    "        f.write(str(user) + ' ' + ' '.join(map(str, bookmarks)) + '\\n')\n",
    "\n",
    "print('sequential_data.txt created')\n"
   ]
  },
  {
   "cell_type": "code",
   "execution_count": null,
   "metadata": {},
   "outputs": [],
   "source": []
  }
 ],
 "metadata": {
  "kernelspec": {
   "display_name": "Python 3",
   "language": "python",
   "name": "python3"
  },
  "language_info": {
   "codemirror_mode": {
    "name": "ipython",
    "version": 3
   },
   "file_extension": ".py",
   "mimetype": "text/x-python",
   "name": "python",
   "nbconvert_exporter": "python",
   "pygments_lexer": "ipython3",
   "version": "3.8.10"
  }
 },
 "nbformat": 4,
 "nbformat_minor": 2
}
