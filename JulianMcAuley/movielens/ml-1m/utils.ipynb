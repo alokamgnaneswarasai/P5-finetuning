{
 "cells": [
  {
   "cell_type": "code",
   "execution_count": 5,
   "metadata": {},
   "outputs": [
    {
     "name": "stdout",
     "output_type": "stream",
     "text": [
      "   UserID                                            MovieID\n",
      "0       1  [3186, 1270, 1721, 1022, 2340, 1836, 3408, 280...\n",
      "1       2  [1198, 1210, 1217, 2717, 1293, 2943, 1225, 119...\n",
      "2       3  [593, 2858, 3534, 1968, 1431, 1961, 1266, 1378...\n",
      "3       4  [1210, 1097, 3468, 480, 3527, 260, 1196, 1198,...\n",
      "4       5  [2717, 908, 919, 1250, 356, 2858, 1127, 2188, ...\n"
     ]
    }
   ],
   "source": [
    "import pandas as pd\n",
    "\n",
    "# Read the ratings.dat file\n",
    "ratings = pd.read_csv('ratings.dat', sep='::', engine='python', names=['UserID', 'MovieID', 'Rating', 'Timestamp'])\n",
    "\n",
    "# Sort by UserID and Timestamp\n",
    "ratings = ratings.sort_values(by=['UserID', 'Timestamp'])\n",
    "\n",
    "# Group by UserID\n",
    "grouped = ratings.groupby('UserID')['MovieID'].apply(list)\n",
    "\n",
    "# Create a DataFrame with UserID and their movie sequences\n",
    "sequences_df = grouped.reset_index()\n",
    "\n",
    "# Save to a CSV file\n",
    "sequences_df.to_csv('sequential_recommendation_data.csv', index=False, header=False)\n",
    "\n",
    "# Example: Print the first few rows of the DataFrame\n",
    "print(sequences_df.head())\n"
   ]
  },
  {
   "cell_type": "code",
   "execution_count": 25,
   "metadata": {},
   "outputs": [
    {
     "name": "stdout",
     "output_type": "stream",
     "text": [
      "   UserID                                            MovieID\n",
      "0       1  3186, 1270, 1721, 1022, 2340, 1836, 3408, 2804...\n",
      "1       2  1198, 1210, 1217, 2717, 1293, 2943, 1225, 1193...\n",
      "2       3  593, 2858, 3534, 1968, 1431, 1961, 1266, 1378,...\n",
      "3       4  1210, 1097, 3468, 480, 3527, 260, 1196, 1198, ...\n",
      "4       5  2717, 908, 919, 1250, 356, 2858, 1127, 2188, 2...\n"
     ]
    }
   ],
   "source": [
    "import pandas as pd\n",
    "\n",
    "# Read the ratings.dat file\n",
    "ratings = pd.read_csv('ratings.dat', sep='::', engine='python', names=['UserID', 'MovieID', 'Rating', 'Timestamp'])\n",
    "\n",
    "# Sort by UserID and Timestamp\n",
    "ratings = ratings.sort_values(by=['UserID', 'Timestamp'])\n",
    "\n",
    "# Group by UserID\n",
    "grouped = ratings.groupby('UserID')['MovieID'].apply(list)\n",
    "\n",
    "# Create a DataFrame with UserID and their movie sequences\n",
    "sequences_df = grouped.reset_index()\n",
    "\n",
    "# Convert the movie sequences to a string without square brackets\n",
    "sequences_df['MovieID'] = sequences_df['MovieID'].apply(lambda x: ', '.join(map(str, x)))\n",
    "\n",
    "# Save to a CSV file\n",
    "sequences_df.to_csv('sequential_recommendation_data.csv', index=False, header=False)\n",
    "\n",
    "# Example: Print the first few rows of the DataFrame\n",
    "print(sequences_df.head())\n"
   ]
  },
  {
   "cell_type": "code",
   "execution_count": 29,
   "metadata": {},
   "outputs": [
    {
     "name": "stdout",
     "output_type": "stream",
     "text": [
      "UserID\n",
      "1    [3186, 1270, 1721, 1022, 2340, 1836, 3408, 280...\n",
      "2    [1198, 1210, 1217, 2717, 1293, 2943, 1225, 119...\n",
      "3    [593, 2858, 3534, 1968, 1431, 1961, 1266, 1378...\n",
      "4    [1210, 1097, 3468, 480, 3527, 260, 1196, 1198,...\n",
      "5    [2717, 908, 919, 1250, 356, 2858, 1127, 2188, ...\n",
      "Name: MovieID, dtype: object\n"
     ]
    }
   ],
   "source": [
    "import pandas as pd\n",
    "\n",
    "# Read the ratings.dat file\n",
    "ratings = pd.read_csv('ratings.dat', sep='::', engine='python', names=['UserID', 'MovieID', 'Rating', 'Timestamp'])\n",
    "\n",
    "# Sort by UserID and Timestamp\n",
    "ratings = ratings.sort_values(by=['UserID', 'Timestamp'])\n",
    "\n",
    "# Group by UserID\n",
    "grouped = ratings.groupby('UserID')['MovieID'].apply(list)\n",
    "\n",
    "# Save to a .txt file\n",
    "with open('sequential_recommendation_data.txt', 'w') as file:\n",
    "    for user_id, movie_ids in grouped.items():\n",
    "        file.write(f\"{user_id} {' '.join(map(str, movie_ids))}\\n\")\n",
    "\n",
    "# Example: Print the first few rows of the DataFrame\n",
    "print(grouped.head())\n"
   ]
  },
  {
   "cell_type": "code",
   "execution_count": 4,
   "metadata": {},
   "outputs": [
    {
     "name": "stdout",
     "output_type": "stream",
     "text": [
      "Number of unique users: 6040\n",
      "Number of unique movies: 3706\n",
      "Number of interactions: 1000209\n",
      "Sparsity of the data: 0.955316\n",
      "Average rating of movies: 3.58\n",
      "Average sequence length of users: 165.60\n"
     ]
    }
   ],
   "source": [
    "import pandas as pd\n",
    "\n",
    "# Load the ratings data\n",
    "ratings = pd.read_csv('ratings.dat', sep='::', engine='python', names=['UserID', 'MovieID', 'Rating', 'Timestamp'])\n",
    "\n",
    "# Number of unique users\n",
    "num_users = ratings['UserID'].nunique()\n",
    "\n",
    "# Number of unique movies\n",
    "num_movies = ratings['MovieID'].nunique()\n",
    "\n",
    "# Sparsity of the data\n",
    "num_ratings = len(ratings)\n",
    "total_possible_ratings = num_users * num_movies\n",
    "sparsity = 1 - (num_ratings / total_possible_ratings)\n",
    "\n",
    "# Average rating of movies\n",
    "average_rating = ratings['Rating'].mean()\n",
    "\n",
    "# Average sequence length of users\n",
    "grouped = ratings.groupby('UserID')['MovieID'].apply(list)\n",
    "average_sequence_length = grouped.apply(len).mean()\n",
    "\n",
    "num_interactions = ratings.shape[0]\n",
    "\n",
    "# Print the analysis results\n",
    "print(f\"Number of unique users: {num_users}\")\n",
    "print(f\"Number of unique movies: {num_movies}\")\n",
    "print(f\"Number of interactions: {num_interactions}\")\n",
    "print(f\"Sparsity of the data: {sparsity:.6f}\")\n",
    "print(f\"Average rating of movies: {average_rating:.2f}\")\n",
    "print(f\"Average sequence length of users: {average_sequence_length:.2f}\")\n",
    "\n"
   ]
  },
  {
   "cell_type": "code",
   "execution_count": 30,
   "metadata": {},
   "outputs": [
    {
     "name": "stdout",
     "output_type": "stream",
     "text": [
      "Max sequence length of users: 2314\n",
      "Min sequence length of users: 20\n"
     ]
    }
   ],
   "source": [
    "# Also print max and min sequence length\n",
    "max_sequence_length = grouped.apply(len).max()\n",
    "min_sequence_length = grouped.apply(len).min()\n",
    "\n",
    "print(f\"Max sequence length of users: {max_sequence_length}\")\n",
    "print(f\"Min sequence length of users: {min_sequence_length}\")\n"
   ]
  },
  {
   "cell_type": "code",
   "execution_count": null,
   "metadata": {},
   "outputs": [],
   "source": []
  }
 ],
 "metadata": {
  "kernelspec": {
   "display_name": "Python 3",
   "language": "python",
   "name": "python3"
  },
  "language_info": {
   "codemirror_mode": {
    "name": "ipython",
    "version": 3
   },
   "file_extension": ".py",
   "mimetype": "text/x-python",
   "name": "python",
   "nbconvert_exporter": "python",
   "pygments_lexer": "ipython3",
   "version": "3.8.10"
  }
 },
 "nbformat": 4,
 "nbformat_minor": 2
}
