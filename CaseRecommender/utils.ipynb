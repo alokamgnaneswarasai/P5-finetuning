{
 "cells": [
  {
   "cell_type": "code",
   "execution_count": 7,
   "metadata": {},
   "outputs": [],
   "source": [
    "from caserecc.utils.split_database import SplitDatabase # i want to import from this directory not predefined directory\n",
    "\n",
    "import pandas as pd"
   ]
  },
  {
   "cell_type": "code",
   "execution_count": 8,
   "metadata": {},
   "outputs": [
    {
     "name": "stdout",
     "output_type": "stream",
     "text": [
      "   User_ID  Anime_ID  Feedback\n",
      "0        1         1         8\n",
      "1        1         3         5\n",
      "2        1         5         9\n",
      "3        1         6         9\n",
      "4        1         7         8\n"
     ]
    }
   ],
   "source": [
    "train_df = pd.read_csv('anime_ratings.dat', delimiter='\\t')\n",
    "\n",
    "# Now store it as anime_ratings.csv\n",
    "train_df.to_csv('anime_ratings.csv', index=False)\n",
    "\n",
    "print(train_df.head())"
   ]
  },
  {
   "cell_type": "code",
   "execution_count": 9,
   "metadata": {},
   "outputs": [
    {
     "name": "stdout",
     "output_type": "stream",
     "text": [
      "anime_ratings.csv\n",
      "file_check: anime_ratings.csv\n",
      "anime_ratings.csv\n",
      "['User_ID', 'Anime_ID', 'Feedback']\n",
      "['User_ID', 'Anime_ID', 'Feedback']\n",
      "Index([0, 1, 2], dtype='int64')\n"
     ]
    }
   ],
   "source": [
    "SplitDatabase(input_file='anime_ratings.csv', dir_folds='fold/', n_splits=5, header=0).k_fold_cross_validation()\n"
   ]
  },
  {
   "cell_type": "code",
   "execution_count": 10,
   "metadata": {},
   "outputs": [],
   "source": [
    "tr = 'fold/folds/0/train.dat'\n",
    "te = 'fold/folds/0/test.dat'\n",
    "# tr = 'data/beauty/train_index.dat'\n",
    "# te = 'data/beauty/test_index.dat'"
   ]
  },
  {
   "cell_type": "code",
   "execution_count": 11,
   "metadata": {},
   "outputs": [
    {
     "name": "stdout",
     "output_type": "stream",
     "text": [
      "fold/folds/0/train.dat\n",
      "file_check: fold/folds/0/train.dat\n",
      "fold/folds/0/test.dat\n",
      "file_check: fold/folds/0/test.dat\n",
      "[Case Recommender: Item Recommendation > ItemKNN Algorithm]\n",
      "\n",
      "train data:: 4653 users and 6912 items (335954 interactions) | sparsity:: 98.96%\n",
      "test data:: 4256 users and 5307 items (83989 interactions) | sparsity:: 99.63%\n",
      "\n",
      "training_time:: 134.192102 sec\n",
      "prediction_time:: 685.084301 sec\n",
      "\n",
      "\n",
      "Eval:: PREC@1: 0.447133 PREC@3: 0.363017 PREC@5: 0.319737 PREC@10: 0.257754 RECALL@1: 0.047449 RECALL@3: 0.101261 RECALL@5: 0.136706 RECALL@10: 0.203804 MAP@1: 0.447133 MAP@3: 0.525023 MAP@5: 0.521731 MAP@10: 0.489336 NDCG@1: 0.447133 NDCG@3: 0.597565 NDCG@5: 0.603469 NDCG@10: 0.593373 \n"
     ]
    }
   ],
   "source": [
    "from caserecc.recommenders.item_recommendation.itemknn import ItemKNN\n",
    "ItemKNN(tr, te).compute()"
   ]
  },
  {
   "cell_type": "code",
   "execution_count": null,
   "metadata": {},
   "outputs": [
    {
     "name": "stdout",
     "output_type": "stream",
     "text": [
      "train.dat\n",
      "file_check: train.dat\n"
     ]
    },
    {
     "ename": "ValueError",
     "evalue": "invalid literal for int() with base 10: 'A1YJEY40YUW4SE'",
     "output_type": "error",
     "traceback": [
      "\u001b[0;31m---------------------------------------------------------------------------\u001b[0m",
      "\u001b[0;31mValueError\u001b[0m                                Traceback (most recent call last)",
      "Cell \u001b[0;32mIn[22], line 2\u001b[0m\n\u001b[1;32m      1\u001b[0m \u001b[38;5;28;01mfrom\u001b[39;00m \u001b[38;5;21;01mcaserecc\u001b[39;00m\u001b[38;5;21;01m.\u001b[39;00m\u001b[38;5;21;01mrecommenders\u001b[39;00m\u001b[38;5;21;01m.\u001b[39;00m\u001b[38;5;21;01mrating_prediction\u001b[39;00m\u001b[38;5;21;01m.\u001b[39;00m\u001b[38;5;21;01mitemknn\u001b[39;00m \u001b[38;5;28;01mimport\u001b[39;00m ItemKNN\n\u001b[0;32m----> 2\u001b[0m \u001b[43mItemKNN\u001b[49m\u001b[43m(\u001b[49m\u001b[43mtr\u001b[49m\u001b[43m,\u001b[49m\u001b[43m \u001b[49m\u001b[43mte\u001b[49m\u001b[43m)\u001b[49m\u001b[38;5;241;43m.\u001b[39;49m\u001b[43mcompute\u001b[49m\u001b[43m(\u001b[49m\u001b[43m)\u001b[49m\n",
      "File \u001b[0;32m~/CaseRecommender/caserecc/recommenders/rating_prediction/itemknn.py:240\u001b[0m, in \u001b[0;36mItemKNN.compute\u001b[0;34m(self, verbose, metrics, verbose_evaluation, as_table, table_sep)\u001b[0m\n\u001b[1;32m    219\u001b[0m \u001b[38;5;28;01mdef\u001b[39;00m \u001b[38;5;21mcompute\u001b[39m(\u001b[38;5;28mself\u001b[39m, verbose\u001b[38;5;241m=\u001b[39m\u001b[38;5;28;01mTrue\u001b[39;00m, metrics\u001b[38;5;241m=\u001b[39m\u001b[38;5;28;01mNone\u001b[39;00m, verbose_evaluation\u001b[38;5;241m=\u001b[39m\u001b[38;5;28;01mTrue\u001b[39;00m, as_table\u001b[38;5;241m=\u001b[39m\u001b[38;5;28;01mFalse\u001b[39;00m, table_sep\u001b[38;5;241m=\u001b[39m\u001b[38;5;124m'\u001b[39m\u001b[38;5;130;01m\\t\u001b[39;00m\u001b[38;5;124m'\u001b[39m):\n\u001b[1;32m    220\u001b[0m \u001b[38;5;250m    \u001b[39m\u001b[38;5;124;03m\"\"\"\u001b[39;00m\n\u001b[1;32m    221\u001b[0m \u001b[38;5;124;03m    Extends compute method from BaseItemRecommendation. Method to run recommender algorithm\u001b[39;00m\n\u001b[1;32m    222\u001b[0m \n\u001b[0;32m   (...)\u001b[0m\n\u001b[1;32m    237\u001b[0m \n\u001b[1;32m    238\u001b[0m \u001b[38;5;124;03m    \"\"\"\u001b[39;00m\n\u001b[0;32m--> 240\u001b[0m     \u001b[38;5;28;43msuper\u001b[39;49m\u001b[43m(\u001b[49m\u001b[43mItemKNN\u001b[49m\u001b[43m,\u001b[49m\u001b[43m \u001b[49m\u001b[38;5;28;43mself\u001b[39;49m\u001b[43m)\u001b[49m\u001b[38;5;241;43m.\u001b[39;49m\u001b[43mcompute\u001b[49m\u001b[43m(\u001b[49m\u001b[43mverbose\u001b[49m\u001b[38;5;241;43m=\u001b[39;49m\u001b[43mverbose\u001b[49m\u001b[43m)\u001b[49m\n\u001b[1;32m    242\u001b[0m     \u001b[38;5;28;01mif\u001b[39;00m verbose:\n\u001b[1;32m    243\u001b[0m         \u001b[38;5;28mself\u001b[39m\u001b[38;5;241m.\u001b[39minit_model()\n",
      "File \u001b[0;32m~/CaseRecommender/caserecc/recommenders/rating_prediction/base_rating_prediction.py:183\u001b[0m, in \u001b[0;36mBaseRatingPrediction.compute\u001b[0;34m(self, verbose)\u001b[0m\n\u001b[1;32m    174\u001b[0m \u001b[38;5;250m\u001b[39m\u001b[38;5;124;03m\"\"\"\u001b[39;00m\n\u001b[1;32m    175\u001b[0m \u001b[38;5;124;03mMethod to run the recommender algorithm\u001b[39;00m\n\u001b[1;32m    176\u001b[0m \n\u001b[0;32m   (...)\u001b[0m\n\u001b[1;32m    179\u001b[0m \n\u001b[1;32m    180\u001b[0m \u001b[38;5;124;03m\"\"\"\u001b[39;00m\n\u001b[1;32m    182\u001b[0m \u001b[38;5;66;03m# read files\u001b[39;00m\n\u001b[0;32m--> 183\u001b[0m \u001b[38;5;28;43mself\u001b[39;49m\u001b[38;5;241;43m.\u001b[39;49m\u001b[43mread_files\u001b[49m\u001b[43m(\u001b[49m\u001b[43m)\u001b[49m\n\u001b[1;32m    185\u001b[0m \u001b[38;5;66;03m# initialize empty predictions (Don't remove: important to Cross Validation)\u001b[39;00m\n\u001b[1;32m    186\u001b[0m \u001b[38;5;28mself\u001b[39m\u001b[38;5;241m.\u001b[39mpredictions \u001b[38;5;241m=\u001b[39m []\n",
      "File \u001b[0;32m~/CaseRecommender/caserecc/recommenders/rating_prediction/base_rating_prediction.py:80\u001b[0m, in \u001b[0;36mBaseRatingPrediction.read_files\u001b[0;34m(self)\u001b[0m\n\u001b[1;32m     72\u001b[0m \u001b[38;5;250m\u001b[39m\u001b[38;5;124;03m\"\"\"\u001b[39;00m\n\u001b[1;32m     73\u001b[0m \u001b[38;5;124;03mMethod to initialize recommender algorithm.\u001b[39;00m\n\u001b[1;32m     74\u001b[0m \n\u001b[1;32m     75\u001b[0m \u001b[38;5;124;03m\"\"\"\u001b[39;00m\n\u001b[1;32m     77\u001b[0m \u001b[38;5;66;03m# Getting train_set as a dict_file = {'feedback': dict_feedback, 'users': list_users, 'items': list_items, \u001b[39;00m\n\u001b[1;32m     78\u001b[0m \u001b[38;5;66;03m#               'sparsity': sparsity, 'number_interactions': number_interactions, 'users_viewed_item': users_viewed_item, 'items_unobserved': items_unobserved,\u001b[39;00m\n\u001b[1;32m     79\u001b[0m \u001b[38;5;66;03m#               'items_seen_by_user': items_seen_by_user, 'mean_value': mean_value, 'max_value': max(list_feedback), 'min_value': min(list_feedback)}\u001b[39;00m\n\u001b[0;32m---> 80\u001b[0m \u001b[38;5;28mself\u001b[39m\u001b[38;5;241m.\u001b[39mtrain_set \u001b[38;5;241m=\u001b[39m \u001b[43mReadFile\u001b[49m\u001b[43m(\u001b[49m\u001b[38;5;28;43mself\u001b[39;49m\u001b[38;5;241;43m.\u001b[39;49m\u001b[43mtrain_file\u001b[49m\u001b[43m,\u001b[49m\u001b[43m \u001b[49m\u001b[43msep\u001b[49m\u001b[38;5;241;43m=\u001b[39;49m\u001b[38;5;28;43mself\u001b[39;49m\u001b[38;5;241;43m.\u001b[39;49m\u001b[43msep\u001b[49m\u001b[43m)\u001b[49m\u001b[38;5;241;43m.\u001b[39;49m\u001b[43mread\u001b[49m\u001b[43m(\u001b[49m\u001b[43m)\u001b[49m \n\u001b[1;32m     82\u001b[0m \u001b[38;5;28;01mif\u001b[39;00m \u001b[38;5;28mself\u001b[39m\u001b[38;5;241m.\u001b[39mtest_file \u001b[38;5;129;01mis\u001b[39;00m \u001b[38;5;129;01mnot\u001b[39;00m \u001b[38;5;28;01mNone\u001b[39;00m:\n\u001b[1;32m     83\u001b[0m     \u001b[38;5;28mself\u001b[39m\u001b[38;5;241m.\u001b[39mtest_set \u001b[38;5;241m=\u001b[39m ReadFile(\u001b[38;5;28mself\u001b[39m\u001b[38;5;241m.\u001b[39mtest_file, sep\u001b[38;5;241m=\u001b[39m\u001b[38;5;28mself\u001b[39m\u001b[38;5;241m.\u001b[39msep)\u001b[38;5;241m.\u001b[39mread()\n",
      "File \u001b[0;32m~/CaseRecommender/caserecc/utils/process_data.py:82\u001b[0m, in \u001b[0;36mReadFile.read\u001b[0;34m(self)\u001b[0m\n\u001b[1;32m     79\u001b[0m \u001b[38;5;28;01mif\u001b[39;00m \u001b[38;5;28mlen\u001b[39m(inline) \u001b[38;5;241m==\u001b[39m \u001b[38;5;241m1\u001b[39m:\n\u001b[1;32m     80\u001b[0m     \u001b[38;5;28;01mraise\u001b[39;00m \u001b[38;5;167;01mTypeError\u001b[39;00m(\u001b[38;5;124m\"\u001b[39m\u001b[38;5;124mError: Space type (sep) is invalid!\u001b[39m\u001b[38;5;124m\"\u001b[39m)\n\u001b[0;32m---> 82\u001b[0m user, item, value \u001b[38;5;241m=\u001b[39m \u001b[38;5;28;43mint\u001b[39;49m\u001b[43m(\u001b[49m\u001b[43minline\u001b[49m\u001b[43m[\u001b[49m\u001b[38;5;241;43m0\u001b[39;49m\u001b[43m]\u001b[49m\u001b[43m)\u001b[49m, \u001b[38;5;28mint\u001b[39m(inline[\u001b[38;5;241m1\u001b[39m]), \u001b[38;5;28mfloat\u001b[39m(inline[\u001b[38;5;241m2\u001b[39m])\n\u001b[1;32m     84\u001b[0m dict_feedback\u001b[38;5;241m.\u001b[39msetdefault(user, {})\u001b[38;5;241m.\u001b[39mupdate({item: \u001b[38;5;241m1.0\u001b[39m \u001b[38;5;28;01mif\u001b[39;00m \u001b[38;5;28mself\u001b[39m\u001b[38;5;241m.\u001b[39mas_binary \u001b[38;5;28;01melse\u001b[39;00m value})\n\u001b[1;32m     85\u001b[0m items_seen_by_user\u001b[38;5;241m.\u001b[39msetdefault(user, \u001b[38;5;28mset\u001b[39m())\u001b[38;5;241m.\u001b[39madd(item)\n",
      "\u001b[0;31mValueError\u001b[0m: invalid literal for int() with base 10: 'A1YJEY40YUW4SE'"
     ]
    }
   ],
   "source": [
    "from caserecc.recommenders.rating_prediction.itemknn import ItemKNN\n",
    "ItemKNN(tr, te).compute()"
   ]
  },
  {
   "cell_type": "code",
   "execution_count": 7,
   "metadata": {},
   "outputs": [
    {
     "name": "stdout",
     "output_type": "stream",
     "text": [
      "../../fold/folds/0/train.dat\n",
      "file_check: ../../fold/folds/0/train.dat\n"
     ]
    },
    {
     "ename": "FileNotFoundError",
     "evalue": "[Errno 2] No such file or directory: '../../fold/folds/0/train.dat'",
     "output_type": "error",
     "traceback": [
      "\u001b[0;31m---------------------------------------------------------------------------\u001b[0m",
      "\u001b[0;31mFileNotFoundError\u001b[0m                         Traceback (most recent call last)",
      "Cell \u001b[0;32mIn[7], line 2\u001b[0m\n\u001b[1;32m      1\u001b[0m \u001b[38;5;28;01mfrom\u001b[39;00m \u001b[38;5;21;01mcaserecc\u001b[39;00m\u001b[38;5;21;01m.\u001b[39;00m\u001b[38;5;21;01mrecommenders\u001b[39;00m\u001b[38;5;21;01m.\u001b[39;00m\u001b[38;5;21;01mitem_recommendation\u001b[39;00m\u001b[38;5;21;01m.\u001b[39;00m\u001b[38;5;21;01muserknn\u001b[39;00m \u001b[38;5;28;01mimport\u001b[39;00m UserKNN\n\u001b[0;32m----> 2\u001b[0m \u001b[43mUserKNN\u001b[49m\u001b[43m(\u001b[49m\u001b[43mtr\u001b[49m\u001b[43m,\u001b[49m\u001b[43m \u001b[49m\u001b[43mte\u001b[49m\u001b[43m,\u001b[49m\u001b[43m \u001b[49m\u001b[43mas_binary\u001b[49m\u001b[38;5;241;43m=\u001b[39;49m\u001b[38;5;28;43;01mTrue\u001b[39;49;00m\u001b[43m)\u001b[49m\u001b[38;5;241;43m.\u001b[39;49m\u001b[43mcompute\u001b[49m\u001b[43m(\u001b[49m\u001b[43m)\u001b[49m\n",
      "File \u001b[0;32m~/CaseRecommender/caserecc/recommenders/item_recommendation/userknn.py:190\u001b[0m, in \u001b[0;36mUserKNN.compute\u001b[0;34m(self, verbose, metrics, verbose_evaluation, as_table, table_sep, n_ranks)\u001b[0m\n\u001b[1;32m    168\u001b[0m \u001b[38;5;28;01mdef\u001b[39;00m \u001b[38;5;21mcompute\u001b[39m(\u001b[38;5;28mself\u001b[39m, verbose\u001b[38;5;241m=\u001b[39m\u001b[38;5;28;01mTrue\u001b[39;00m, metrics\u001b[38;5;241m=\u001b[39m\u001b[38;5;28;01mNone\u001b[39;00m, verbose_evaluation\u001b[38;5;241m=\u001b[39m\u001b[38;5;28;01mTrue\u001b[39;00m, \n\u001b[1;32m    169\u001b[0m             as_table\u001b[38;5;241m=\u001b[39m\u001b[38;5;28;01mFalse\u001b[39;00m, table_sep\u001b[38;5;241m=\u001b[39m\u001b[38;5;124m'\u001b[39m\u001b[38;5;130;01m\\t\u001b[39;00m\u001b[38;5;124m'\u001b[39m, n_ranks\u001b[38;5;241m=\u001b[39m\u001b[38;5;28;01mNone\u001b[39;00m):\n\u001b[1;32m    170\u001b[0m \u001b[38;5;250m    \u001b[39m\u001b[38;5;124;03m\"\"\"\u001b[39;00m\n\u001b[1;32m    171\u001b[0m \u001b[38;5;124;03m    Extends compute method from BaseItemRecommendation. Method to run recommender algorithm\u001b[39;00m\n\u001b[1;32m    172\u001b[0m \n\u001b[0;32m   (...)\u001b[0m\n\u001b[1;32m    187\u001b[0m \n\u001b[1;32m    188\u001b[0m \u001b[38;5;124;03m    \"\"\"\u001b[39;00m\n\u001b[0;32m--> 190\u001b[0m     \u001b[38;5;28;43msuper\u001b[39;49m\u001b[43m(\u001b[49m\u001b[43mUserKNN\u001b[49m\u001b[43m,\u001b[49m\u001b[43m \u001b[49m\u001b[38;5;28;43mself\u001b[39;49m\u001b[43m)\u001b[49m\u001b[38;5;241;43m.\u001b[39;49m\u001b[43mcompute\u001b[49m\u001b[43m(\u001b[49m\u001b[43mverbose\u001b[49m\u001b[38;5;241;43m=\u001b[39;49m\u001b[43mverbose\u001b[49m\u001b[43m)\u001b[49m\n\u001b[1;32m    192\u001b[0m     \u001b[38;5;28;01mif\u001b[39;00m verbose:\n\u001b[1;32m    193\u001b[0m         \u001b[38;5;28mprint\u001b[39m(\u001b[38;5;124m\"\u001b[39m\u001b[38;5;124mtraining_time:: \u001b[39m\u001b[38;5;132;01m%4f\u001b[39;00m\u001b[38;5;124m sec\u001b[39m\u001b[38;5;124m\"\u001b[39m \u001b[38;5;241m%\u001b[39m timed(\u001b[38;5;28mself\u001b[39m\u001b[38;5;241m.\u001b[39minit_model))\n",
      "File \u001b[0;32m~/CaseRecommender/caserecc/recommenders/item_recommendation/base_item_recommendation.py:188\u001b[0m, in \u001b[0;36mBaseItemRecommendation.compute\u001b[0;34m(self, verbose)\u001b[0m\n\u001b[1;32m    179\u001b[0m \u001b[38;5;250m\u001b[39m\u001b[38;5;124;03m\"\"\"\u001b[39;00m\n\u001b[1;32m    180\u001b[0m \u001b[38;5;124;03mMethod to run the recommender algorithm\u001b[39;00m\n\u001b[1;32m    181\u001b[0m \n\u001b[0;32m   (...)\u001b[0m\n\u001b[1;32m    184\u001b[0m \n\u001b[1;32m    185\u001b[0m \u001b[38;5;124;03m\"\"\"\u001b[39;00m\n\u001b[1;32m    187\u001b[0m \u001b[38;5;66;03m# read files\u001b[39;00m\n\u001b[0;32m--> 188\u001b[0m \u001b[38;5;28;43mself\u001b[39;49m\u001b[38;5;241;43m.\u001b[39;49m\u001b[43mread_files\u001b[49m\u001b[43m(\u001b[49m\u001b[43m)\u001b[49m\n\u001b[1;32m    190\u001b[0m \u001b[38;5;66;03m# initialize empty ranking (Don't remove: important to Cross Validation)\u001b[39;00m\n\u001b[1;32m    191\u001b[0m \u001b[38;5;28mself\u001b[39m\u001b[38;5;241m.\u001b[39mranking \u001b[38;5;241m=\u001b[39m []\n",
      "File \u001b[0;32m~/CaseRecommender/caserecc/recommenders/item_recommendation/base_item_recommendation.py:83\u001b[0m, in \u001b[0;36mBaseItemRecommendation.read_files\u001b[0;34m(self)\u001b[0m\n\u001b[1;32m     78\u001b[0m \u001b[38;5;28;01mdef\u001b[39;00m \u001b[38;5;21mread_files\u001b[39m(\u001b[38;5;28mself\u001b[39m):\n\u001b[1;32m     79\u001b[0m \u001b[38;5;250m    \u001b[39m\u001b[38;5;124;03m\"\"\"\u001b[39;00m\n\u001b[1;32m     80\u001b[0m \u001b[38;5;124;03m    Method to initialize recommender algorithm.\u001b[39;00m\n\u001b[1;32m     81\u001b[0m \n\u001b[1;32m     82\u001b[0m \u001b[38;5;124;03m    \"\"\"\u001b[39;00m\n\u001b[0;32m---> 83\u001b[0m     \u001b[38;5;28mself\u001b[39m\u001b[38;5;241m.\u001b[39mtrain_set \u001b[38;5;241m=\u001b[39m \u001b[43mReadFile\u001b[49m\u001b[43m(\u001b[49m\u001b[38;5;28;43mself\u001b[39;49m\u001b[38;5;241;43m.\u001b[39;49m\u001b[43mtrain_file\u001b[49m\u001b[43m,\u001b[49m\u001b[43m \u001b[49m\u001b[43msep\u001b[49m\u001b[38;5;241;43m=\u001b[39;49m\u001b[38;5;28;43mself\u001b[39;49m\u001b[38;5;241;43m.\u001b[39;49m\u001b[43msep\u001b[49m\u001b[43m,\u001b[49m\u001b[43m \u001b[49m\u001b[43mas_binary\u001b[49m\u001b[38;5;241;43m=\u001b[39;49m\u001b[38;5;28;43mself\u001b[39;49m\u001b[38;5;241;43m.\u001b[39;49m\u001b[43mas_binary\u001b[49m\u001b[43m)\u001b[49m\u001b[38;5;241m.\u001b[39mread()\n\u001b[1;32m     85\u001b[0m     \u001b[38;5;28;01mif\u001b[39;00m \u001b[38;5;28mself\u001b[39m\u001b[38;5;241m.\u001b[39mtest_file \u001b[38;5;129;01mis\u001b[39;00m \u001b[38;5;129;01mnot\u001b[39;00m \u001b[38;5;28;01mNone\u001b[39;00m:\n\u001b[1;32m     86\u001b[0m         \u001b[38;5;28mself\u001b[39m\u001b[38;5;241m.\u001b[39mtest_set \u001b[38;5;241m=\u001b[39m ReadFile(\u001b[38;5;28mself\u001b[39m\u001b[38;5;241m.\u001b[39mtest_file, sep\u001b[38;5;241m=\u001b[39m\u001b[38;5;28mself\u001b[39m\u001b[38;5;241m.\u001b[39msep)\u001b[38;5;241m.\u001b[39mread()\n",
      "File \u001b[0;32m~/CaseRecommender/caserecc/utils/process_data.py:51\u001b[0m, in \u001b[0;36mReadFile.__init__\u001b[0;34m(self, input_file, sep, header, names, as_binary, binary_col)\u001b[0m\n\u001b[1;32m     48\u001b[0m \u001b[38;5;28mself\u001b[39m\u001b[38;5;241m.\u001b[39mbinary_col \u001b[38;5;241m=\u001b[39m binary_col\n\u001b[1;32m     50\u001b[0m \u001b[38;5;28mprint\u001b[39m(\u001b[38;5;28mself\u001b[39m\u001b[38;5;241m.\u001b[39minput_file)\n\u001b[0;32m---> 51\u001b[0m \u001b[43mcheck_error_file\u001b[49m\u001b[43m(\u001b[49m\u001b[38;5;28;43mself\u001b[39;49m\u001b[38;5;241;43m.\u001b[39;49m\u001b[43minput_file\u001b[49m\u001b[43m)\u001b[49m\n",
      "File \u001b[0;32m~/CaseRecommender/caserecc/utils/extra_functions.py:29\u001b[0m, in \u001b[0;36mcheck_error_file\u001b[0;34m(file_check)\u001b[0m\n\u001b[1;32m     27\u001b[0m \u001b[38;5;28mprint\u001b[39m(\u001b[38;5;124mf\u001b[39m\u001b[38;5;124m\"\u001b[39m\u001b[38;5;124mfile_check: \u001b[39m\u001b[38;5;132;01m{\u001b[39;00mfile_check\u001b[38;5;132;01m}\u001b[39;00m\u001b[38;5;124m\"\u001b[39m)\n\u001b[1;32m     28\u001b[0m \u001b[38;5;28;01mtry\u001b[39;00m:\n\u001b[0;32m---> 29\u001b[0m     \u001b[38;5;28;43mopen\u001b[39;49m\u001b[43m(\u001b[49m\u001b[43mfile_check\u001b[49m\u001b[43m)\u001b[49m\n\u001b[1;32m     30\u001b[0m \u001b[38;5;28;01mexcept\u001b[39;00m \u001b[38;5;167;01mTypeError\u001b[39;00m:\n\u001b[1;32m     31\u001b[0m     \u001b[38;5;28;01mraise\u001b[39;00m \u001b[38;5;167;01mTypeError\u001b[39;00m(\u001b[38;5;124m\"\u001b[39m\u001b[38;5;124mFile cannot be empty or file is invalid: \u001b[39m\u001b[38;5;124m\"\u001b[39m \u001b[38;5;241m+\u001b[39m \u001b[38;5;28mstr\u001b[39m(file_check))\n",
      "\u001b[0;31mFileNotFoundError\u001b[0m: [Errno 2] No such file or directory: '../../fold/folds/0/train.dat'"
     ]
    }
   ],
   "source": [
    "from caserecc.recommenders.item_recommendation.userknn import UserKNN\n",
    "UserKNN(tr, te, as_binary=True).compute()"
   ]
  },
  {
   "cell_type": "code",
   "execution_count": 15,
   "metadata": {},
   "outputs": [
    {
     "name": "stdout",
     "output_type": "stream",
     "text": [
      "File exists\n"
     ]
    },
    {
     "data": {
      "text/plain": [
       "'/raid/home/gnaneswaras/CaseRecommender'"
      ]
     },
     "execution_count": 15,
     "metadata": {},
     "output_type": "execute_result"
    }
   ],
   "source": [
    "try:\n",
    "    open('fold/folds/0/train.dat')\n",
    "    print('File exists')\n",
    "except FileNotFoundError:\n",
    "    print('File does not exist')\n",
    "\n",
    "\n",
    "import os \n",
    "os.getcwd() "
   ]
  },
  {
   "cell_type": "code",
   "execution_count": 20,
   "metadata": {},
   "outputs": [],
   "source": [
    "# # # convert train.csv file to train.dat file\n",
    "# # import csv\n",
    "# with open('test.csv', 'r') as inp, open('test.dat', 'w') as out:\n",
    "#     writer = csv.writer(out, delimiter='\\t')\n",
    "#     for row in csv.reader(inp):\n",
    "#         writer.writerow(row)"
   ]
  },
  {
   "cell_type": "code",
   "execution_count": null,
   "metadata": {},
   "outputs": [],
   "source": []
  }
 ],
 "metadata": {
  "kernelspec": {
   "display_name": "Python 3",
   "language": "python",
   "name": "python3"
  },
  "language_info": {
   "codemirror_mode": {
    "name": "ipython",
    "version": 3
   },
   "file_extension": ".py",
   "mimetype": "text/x-python",
   "name": "python",
   "nbconvert_exporter": "python",
   "pygments_lexer": "ipython3",
   "version": "3.8.10"
  }
 },
 "nbformat": 4,
 "nbformat_minor": 2
}
