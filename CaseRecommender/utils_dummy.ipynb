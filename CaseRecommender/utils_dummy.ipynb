{
 "cells": [
  {
   "cell_type": "code",
   "execution_count": 1,
   "metadata": {},
   "outputs": [],
   "source": [
    "from caserecc.utils.split_database import SplitDatabase # i want to import from this directory not predefined directory\n",
    "\n",
    "import pandas as pd"
   ]
  },
  {
   "cell_type": "code",
   "execution_count": 8,
   "metadata": {},
   "outputs": [
    {
     "name": "stdout",
     "output_type": "stream",
     "text": [
      "   User_ID  Anime_ID  Feedback\n",
      "0        1         1         8\n",
      "1        1         3         5\n",
      "2        1         5         9\n",
      "3        1         6         9\n",
      "4        1         7         8\n"
     ]
    }
   ],
   "source": [
    "train_df = pd.read_csv('anime_ratings.dat', delimiter='\\t')\n",
    "\n",
    "# Now store it as anime_ratings.csv\n",
    "train_df.to_csv('anime_ratings.csv', index=False)\n",
    "\n",
    "print(train_df.head())"
   ]
  },
  {
   "cell_type": "code",
   "execution_count": 2,
   "metadata": {},
   "outputs": [
    {
     "name": "stdout",
     "output_type": "stream",
     "text": [
      "data/beauty/train.csv\n",
      "file_check: data/beauty/train.csv\n",
      "data/beauty/train.csv\n",
      "['1', '4', '1.0']\n",
      "['1', '4', '1.0']\n",
      "Index([0, 1, 2], dtype='int64')\n"
     ]
    }
   ],
   "source": [
    "SplitDatabase(input_file='data/beauty/train.csv', dir_folds='data/beauty/', n_splits=5, header=0).k_fold_cross_validation()\n"
   ]
  },
  {
   "cell_type": "code",
   "execution_count": 3,
   "metadata": {},
   "outputs": [],
   "source": [
    "tr = 'data/beauty/folds/0/train.dat'\n",
    "te = 'data/beauty/folds/0/test.dat'\n",
    "# tr = 'data/beauty/train_index.dat'\n",
    "# te = 'data/beauty/test_index.dat'"
   ]
  },
  {
   "cell_type": "code",
   "execution_count": 4,
   "metadata": {},
   "outputs": [
    {
     "name": "stdout",
     "output_type": "stream",
     "text": [
      "data/beauty/folds/0/train.dat\n",
      "file_check: data/beauty/folds/0/train.dat\n",
      "data/beauty/folds/0/test.dat\n",
      "file_check: data/beauty/folds/0/test.dat\n",
      "[Case Recommender: Item Recommendation > ItemKNN Algorithm]\n",
      "\n",
      "train data:: 22357 users and 12097 items (254012 interactions) | sparsity:: 99.91%\n",
      "test data:: 19047 users and 10891 items (63503 interactions) | sparsity:: 99.97%\n",
      "\n",
      "training_time:: 1779.199356 sec\n",
      "prediction_time:: 4232.315876 sec\n",
      "\n",
      "\n",
      "Eval:: PREC@1: 0.017431 PREC@3: 0.014018 PREC@5: 0.011771 PREC@10: 0.008658 RECALL@1: 0.007862 RECALL@3: 0.018149 RECALL@5: 0.025159 RECALL@10: 0.03512 MAP@1: 0.017431 MAP@3: 0.026286 MAP@5: 0.028763 MAP@10: 0.030578 NDCG@1: 0.017431 NDCG@3: 0.034534 NDCG@5: 0.039642 NDCG@10: 0.044936 \n"
     ]
    }
   ],
   "source": [
    "from caserecc.recommenders.item_recommendation.itemknn import ItemKNN\n",
    "ItemKNN(tr, te).compute()"
   ]
  },
  {
   "cell_type": "code",
   "execution_count": 5,
   "metadata": {},
   "outputs": [
    {
     "name": "stdout",
     "output_type": "stream",
     "text": [
      "data/beauty/folds/0/train.dat\n",
      "file_check: data/beauty/folds/0/train.dat\n",
      "data/beauty/folds/0/test.dat\n",
      "file_check: data/beauty/folds/0/test.dat\n",
      "[Case Recommender: Rating Prediction > ItemKNN Algorithm]\n",
      "\n",
      "train data:: 22357 users and 12097 items (254012 interactions) | sparsity:: 99.91%\n",
      "test data:: 19047 users and 10891 items (63503 interactions) | sparsity:: 99.97%\n",
      "\n",
      "training_time:: 228.043895 sec\n",
      "prediction_time:: 1.227944 sec\n",
      "Eval:: MAE: 0.645208 RMSE: 1.017163 \n"
     ]
    }
   ],
   "source": [
    "from caserecc.recommenders.rating_prediction.itemknn import ItemKNN\n",
    "ItemKNN(tr, te).compute()"
   ]
  },
  {
   "cell_type": "code",
   "execution_count": 6,
   "metadata": {},
   "outputs": [
    {
     "name": "stdout",
     "output_type": "stream",
     "text": [
      "data/beauty/folds/0/train.dat\n",
      "file_check: data/beauty/folds/0/train.dat\n",
      "data/beauty/folds/0/test.dat\n",
      "file_check: data/beauty/folds/0/test.dat\n",
      "[Case Recommender: Rating Prediction > Matrix Factorization]\n",
      "\n",
      "train data:: 22357 users and 12097 items (254012 interactions) | sparsity:: 99.91%\n",
      "test data:: 19047 users and 10891 items (63503 interactions) | sparsity:: 99.97%\n",
      "\n",
      "training_time:: 56.895418 sec\n",
      "prediction_time:: 0.179748 sec\n",
      "\n",
      "\n",
      "Eval:: MAE: 0.984745 RMSE: 1.22934 \n"
     ]
    }
   ],
   "source": [
    "from caserecc.recommenders.rating_prediction.matrixfactorization import MatrixFactorization\n",
    "\n",
    "MatrixFactorization(tr, te).compute()"
   ]
  },
  {
   "cell_type": "markdown",
   "metadata": {},
   "source": [
    "## Using SVD"
   ]
  },
  {
   "cell_type": "code",
   "execution_count": 8,
   "metadata": {},
   "outputs": [
    {
     "name": "stdout",
     "output_type": "stream",
     "text": [
      "data/beauty/folds/0/train.dat\n",
      "file_check: data/beauty/folds/0/train.dat\n",
      "data/beauty/folds/0/test.dat\n",
      "file_check: data/beauty/folds/0/test.dat\n",
      "[Case Recommender: Rating Prediction > SVD]\n",
      "\n",
      "train data:: 22357 users and 12097 items (254012 interactions) | sparsity:: 99.91%\n",
      "test data:: 19047 users and 10891 items (63503 interactions) | sparsity:: 99.97%\n",
      "\n",
      "training_time:: 20.956471 sec\n",
      "prediction_time:: 0.155023 sec\n",
      "\n",
      "\n",
      "Eval:: MAE: 1.269288 RMSE: 1.439207 \n"
     ]
    }
   ],
   "source": [
    "from caserecc.recommenders.rating_prediction.svd import SVD\n",
    "\n",
    "SVD(tr, te).compute()"
   ]
  },
  {
   "cell_type": "markdown",
   "metadata": {},
   "source": [
    "## Using mostpopular"
   ]
  },
  {
   "cell_type": "code",
   "execution_count": 9,
   "metadata": {},
   "outputs": [
    {
     "name": "stdout",
     "output_type": "stream",
     "text": [
      "data/beauty/folds/0/train.dat\n",
      "file_check: data/beauty/folds/0/train.dat\n",
      "data/beauty/folds/0/test.dat\n",
      "file_check: data/beauty/folds/0/test.dat\n",
      "[Case Recommender: Rating Prediction > Most Popular]\n",
      "\n",
      "train data:: 22357 users and 12097 items (254012 interactions) | sparsity:: 99.91%\n",
      "test data:: 19047 users and 10891 items (63503 interactions) | sparsity:: 99.97%\n",
      "\n",
      "prediction_time:: 2.273526 sec\n",
      "\n",
      "\n",
      "Eval:: MAE: 1.108699 RMSE: 1.420159 \n"
     ]
    }
   ],
   "source": [
    "from caserecc.recommenders.rating_prediction.most_popular import MostPopular\n",
    "\n",
    "MostPopular(tr, te).compute()"
   ]
  },
  {
   "cell_type": "markdown",
   "metadata": {},
   "source": [
    "## Using svdplusplus"
   ]
  },
  {
   "cell_type": "code",
   "execution_count": 10,
   "metadata": {},
   "outputs": [
    {
     "name": "stdout",
     "output_type": "stream",
     "text": [
      "data/beauty/folds/0/train.dat\n",
      "file_check: data/beauty/folds/0/train.dat\n",
      "data/beauty/folds/0/test.dat\n",
      "file_check: data/beauty/folds/0/test.dat\n",
      "[Case Recommender: Rating Prediction > SVDPlusPlus]\n",
      "\n",
      "train data:: 22357 users and 12097 items (254012 interactions) | sparsity:: 99.91%\n",
      "test data:: 19047 users and 10891 items (63503 interactions) | sparsity:: 99.97%\n",
      "\n",
      "training_time:: 115.389130 sec\n"
     ]
    },
    {
     "ename": "KeyError",
     "evalue": "2465",
     "output_type": "error",
     "traceback": [
      "\u001b[0;31m---------------------------------------------------------------------------\u001b[0m",
      "\u001b[0;31mKeyError\u001b[0m                                  Traceback (most recent call last)",
      "Cell \u001b[0;32mIn[10], line 2\u001b[0m\n\u001b[1;32m      1\u001b[0m \u001b[38;5;28;01mfrom\u001b[39;00m \u001b[38;5;21;01mcaserecc\u001b[39;00m\u001b[38;5;21;01m.\u001b[39;00m\u001b[38;5;21;01mrecommenders\u001b[39;00m\u001b[38;5;21;01m.\u001b[39;00m\u001b[38;5;21;01mrating_prediction\u001b[39;00m\u001b[38;5;21;01m.\u001b[39;00m\u001b[38;5;21;01msvdplusplus\u001b[39;00m \u001b[38;5;28;01mimport\u001b[39;00m SVDPlusPlus\n\u001b[0;32m----> 2\u001b[0m \u001b[43mSVDPlusPlus\u001b[49m\u001b[43m(\u001b[49m\u001b[43mtr\u001b[49m\u001b[43m,\u001b[49m\u001b[43m \u001b[49m\u001b[43mte\u001b[49m\u001b[43m)\u001b[49m\u001b[38;5;241;43m.\u001b[39;49m\u001b[43mcompute\u001b[49m\u001b[43m(\u001b[49m\u001b[43m)\u001b[49m\n",
      "File \u001b[0;32m~/CaseRecommender/caserecc/recommenders/rating_prediction/matrixfactorization.py:257\u001b[0m, in \u001b[0;36mMatrixFactorization.compute\u001b[0;34m(self, verbose, metrics, verbose_evaluation, as_table, table_sep)\u001b[0m\n\u001b[1;32m    254\u001b[0m     \u001b[38;5;28;01mif\u001b[39;00m \u001b[38;5;28mself\u001b[39m\u001b[38;5;241m.\u001b[39mextra_info_header \u001b[38;5;129;01mis\u001b[39;00m \u001b[38;5;129;01mnot\u001b[39;00m \u001b[38;5;28;01mNone\u001b[39;00m:\n\u001b[1;32m    255\u001b[0m         \u001b[38;5;28mprint\u001b[39m(\u001b[38;5;28mself\u001b[39m\u001b[38;5;241m.\u001b[39mextra_info_header)\n\u001b[0;32m--> 257\u001b[0m     \u001b[38;5;28mprint\u001b[39m(\u001b[38;5;124m\"\u001b[39m\u001b[38;5;124mprediction_time:: \u001b[39m\u001b[38;5;132;01m%4f\u001b[39;00m\u001b[38;5;124m sec\u001b[39m\u001b[38;5;124m\"\u001b[39m \u001b[38;5;241m%\u001b[39m \u001b[43mtimed\u001b[49m\u001b[43m(\u001b[49m\u001b[38;5;28;43mself\u001b[39;49m\u001b[38;5;241;43m.\u001b[39;49m\u001b[43mpredict\u001b[49m\u001b[43m)\u001b[49m)\n\u001b[1;32m    259\u001b[0m     \u001b[38;5;28mprint\u001b[39m(\u001b[38;5;124m'\u001b[39m\u001b[38;5;130;01m\\n\u001b[39;00m\u001b[38;5;124m'\u001b[39m)\n\u001b[1;32m    261\u001b[0m \u001b[38;5;28;01melse\u001b[39;00m:\n\u001b[1;32m    262\u001b[0m     \u001b[38;5;66;03m# Execute all in silence without prints\u001b[39;00m\n",
      "File \u001b[0;32m~/CaseRecommender/caserecc/utils/extra_functions.py:63\u001b[0m, in \u001b[0;36mtimed\u001b[0;34m(f)\u001b[0m\n\u001b[1;32m     52\u001b[0m \u001b[38;5;250m\u001b[39m\u001b[38;5;124;03m\"\"\"\u001b[39;00m\n\u001b[1;32m     53\u001b[0m \u001b[38;5;124;03mFunction to calculate the time of execution\u001b[39;00m\n\u001b[1;32m     54\u001b[0m \n\u001b[0;32m   (...)\u001b[0m\n\u001b[1;32m     60\u001b[0m \n\u001b[1;32m     61\u001b[0m \u001b[38;5;124;03m\"\"\"\u001b[39;00m\n\u001b[1;32m     62\u001b[0m start \u001b[38;5;241m=\u001b[39m time\u001b[38;5;241m.\u001b[39mtime()\n\u001b[0;32m---> 63\u001b[0m \u001b[43mf\u001b[49m\u001b[43m(\u001b[49m\u001b[43m)\u001b[49m\n\u001b[1;32m     64\u001b[0m elapsed \u001b[38;5;241m=\u001b[39m time\u001b[38;5;241m.\u001b[39mtime() \u001b[38;5;241m-\u001b[39m start\n\u001b[1;32m     65\u001b[0m \u001b[38;5;28;01mreturn\u001b[39;00m elapsed\n",
      "File \u001b[0;32m~/CaseRecommender/caserecc/recommenders/rating_prediction/svdplusplus.py:225\u001b[0m, in \u001b[0;36mSVDPlusPlus.predict\u001b[0;34m(self)\u001b[0m\n\u001b[1;32m    223\u001b[0m \u001b[38;5;28;01mif\u001b[39;00m \u001b[38;5;28mself\u001b[39m\u001b[38;5;241m.\u001b[39mtest_file \u001b[38;5;129;01mis\u001b[39;00m \u001b[38;5;129;01mnot\u001b[39;00m \u001b[38;5;28;01mNone\u001b[39;00m:\n\u001b[1;32m    224\u001b[0m     \u001b[38;5;28;01mfor\u001b[39;00m user \u001b[38;5;129;01min\u001b[39;00m \u001b[38;5;28mself\u001b[39m\u001b[38;5;241m.\u001b[39mtest_set[\u001b[38;5;124m'\u001b[39m\u001b[38;5;124musers\u001b[39m\u001b[38;5;124m'\u001b[39m]:\n\u001b[0;32m--> 225\u001b[0m         pu \u001b[38;5;241m=\u001b[39m \u001b[38;5;28mself\u001b[39m\u001b[38;5;241m.\u001b[39mp[\u001b[38;5;28mself\u001b[39m\u001b[38;5;241m.\u001b[39muser_to_user_id[user]] \u001b[38;5;241m+\u001b[39m \u001b[38;5;28;43mself\u001b[39;49m\u001b[38;5;241;43m.\u001b[39;49m\u001b[43my_sum_rows\u001b[49m\u001b[43m(\u001b[49m\u001b[38;5;28;43mself\u001b[39;49m\u001b[38;5;241;43m.\u001b[39;49m\u001b[43muser_to_user_id\u001b[49m\u001b[43m[\u001b[49m\u001b[43muser\u001b[49m\u001b[43m]\u001b[49m\u001b[43m)\u001b[49m\n\u001b[1;32m    227\u001b[0m         \u001b[38;5;28;01mfor\u001b[39;00m item \u001b[38;5;129;01min\u001b[39;00m \u001b[38;5;28mself\u001b[39m\u001b[38;5;241m.\u001b[39mtest_set[\u001b[38;5;124m'\u001b[39m\u001b[38;5;124mfeedback\u001b[39m\u001b[38;5;124m'\u001b[39m][user]:\n\u001b[1;32m    228\u001b[0m             \u001b[38;5;28mself\u001b[39m\u001b[38;5;241m.\u001b[39mpredictions\u001b[38;5;241m.\u001b[39mappend(\n\u001b[1;32m    229\u001b[0m                 (user, item, \u001b[38;5;28mself\u001b[39m\u001b[38;5;241m.\u001b[39m_predict_svd_plus_plus_score(\u001b[38;5;28mself\u001b[39m\u001b[38;5;241m.\u001b[39muser_to_user_id[user],\n\u001b[1;32m    230\u001b[0m                                                                \u001b[38;5;28mself\u001b[39m\u001b[38;5;241m.\u001b[39mitem_to_item_id[item], pu, \u001b[38;5;28;01mTrue\u001b[39;00m)))\n",
      "File \u001b[0;32m~/CaseRecommender/caserecc/recommenders/rating_prediction/svdplusplus.py:213\u001b[0m, in \u001b[0;36mSVDPlusPlus.y_sum_rows\u001b[0;34m(self, user)\u001b[0m\n\u001b[1;32m    202\u001b[0m \u001b[38;5;250m\u001b[39m\u001b[38;5;124;03m\"\"\"\u001b[39;00m\n\u001b[1;32m    203\u001b[0m \u001b[38;5;124;03mIncorporating implicit feedback in the SVD: Sum (j E N(u)) Yj\u001b[39;00m\n\u001b[1;32m    204\u001b[0m \n\u001b[0;32m   (...)\u001b[0m\n\u001b[1;32m    209\u001b[0m \n\u001b[1;32m    210\u001b[0m \u001b[38;5;124;03m\"\"\"\u001b[39;00m\n\u001b[1;32m    212\u001b[0m sum_imp \u001b[38;5;241m=\u001b[39m np\u001b[38;5;241m.\u001b[39mzeros(\u001b[38;5;28mself\u001b[39m\u001b[38;5;241m.\u001b[39mfactors)\n\u001b[0;32m--> 213\u001b[0m \u001b[38;5;28;01mfor\u001b[39;00m ui \u001b[38;5;129;01min\u001b[39;00m \u001b[38;5;28;43mself\u001b[39;49m\u001b[38;5;241;43m.\u001b[39;49m\u001b[43mitems_id_seen_by_user\u001b[49m\u001b[43m[\u001b[49m\u001b[43muser\u001b[49m\u001b[43m]\u001b[49m:\n\u001b[1;32m    214\u001b[0m     sum_imp \u001b[38;5;241m+\u001b[39m\u001b[38;5;241m=\u001b[39m \u001b[38;5;28mself\u001b[39m\u001b[38;5;241m.\u001b[39my[ui]\n\u001b[1;32m    215\u001b[0m \u001b[38;5;28;01mreturn\u001b[39;00m sum_imp \u001b[38;5;241m/\u001b[39m \u001b[38;5;28mself\u001b[39m\u001b[38;5;241m.\u001b[39mn_u[user]\n",
      "\u001b[0;31mKeyError\u001b[0m: 2465"
     ]
    }
   ],
   "source": [
    "from caserecc.recommenders.rating_prediction.svdplusplus import SVDPlusPlus\n",
    "SVDPlusPlus(tr, te).compute()"
   ]
  },
  {
   "cell_type": "markdown",
   "metadata": {},
   "source": [
    "# ITEM RECOMMENDATION "
   ]
  },
  {
   "cell_type": "code",
   "execution_count": 11,
   "metadata": {},
   "outputs": [
    {
     "name": "stdout",
     "output_type": "stream",
     "text": [
      "data/beauty/folds/0/train.dat\n",
      "file_check: data/beauty/folds/0/train.dat\n",
      "data/beauty/folds/0/test.dat\n",
      "file_check: data/beauty/folds/0/test.dat\n",
      "[Case Recommender: Item Recommendation > UserKNN Algorithm]\n",
      "\n",
      "train data:: 22357 users and 12097 items (254012 interactions) | sparsity:: 99.91%\n",
      "test data:: 19047 users and 10891 items (63503 interactions) | sparsity:: 99.97%\n",
      "\n",
      "training_time:: 3106.821151 sec\n",
      "prediction_time:: 1955.356025 sec\n",
      "\n",
      "\n",
      "Eval:: PREC@1: 0.025516 PREC@3: 0.019811 PREC@5: 0.016139 PREC@10: 0.011955 RECALL@1: 0.012207 RECALL@3: 0.027047 RECALL@5: 0.03545 RECALL@10: 0.049615 MAP@1: 0.025516 MAP@3: 0.038217 MAP@5: 0.041791 MAP@10: 0.04411 NDCG@1: 0.025516 NDCG@3: 0.050218 NDCG@5: 0.057587 NDCG@10: 0.064728 \n"
     ]
    }
   ],
   "source": [
    "from caserecc.recommenders.item_recommendation.userknn import UserKNN\n",
    "UserKNN(tr, te, as_binary=True).compute()"
   ]
  },
  {
   "cell_type": "code",
   "execution_count": 15,
   "metadata": {},
   "outputs": [
    {
     "name": "stdout",
     "output_type": "stream",
     "text": [
      "File exists\n"
     ]
    },
    {
     "data": {
      "text/plain": [
       "'/raid/home/gnaneswaras/CaseRecommender'"
      ]
     },
     "execution_count": 15,
     "metadata": {},
     "output_type": "execute_result"
    }
   ],
   "source": [
    "try:\n",
    "    open('fold/folds/0/train.dat')\n",
    "    print('File exists')\n",
    "except FileNotFoundError:\n",
    "    print('File does not exist')\n",
    "\n",
    "\n",
    "import os \n",
    "os.getcwd() "
   ]
  },
  {
   "cell_type": "code",
   "execution_count": 20,
   "metadata": {},
   "outputs": [],
   "source": [
    "# # # convert train.csv file to train.dat file\n",
    "# # import csv\n",
    "# with open('test.csv', 'r') as inp, open('test.dat', 'w') as out:\n",
    "#     writer = csv.writer(out, delimiter='\\t')\n",
    "#     for row in csv.reader(inp):\n",
    "#         writer.writerow(row)"
   ]
  },
  {
   "cell_type": "code",
   "execution_count": null,
   "metadata": {},
   "outputs": [],
   "source": []
  }
 ],
 "metadata": {
  "kernelspec": {
   "display_name": "Python 3",
   "language": "python",
   "name": "python3"
  },
  "language_info": {
   "codemirror_mode": {
    "name": "ipython",
    "version": 3
   },
   "file_extension": ".py",
   "mimetype": "text/x-python",
   "name": "python",
   "nbconvert_exporter": "python",
   "pygments_lexer": "ipython3",
   "version": "3.8.10"
  }
 },
 "nbformat": 4,
 "nbformat_minor": 2
}
