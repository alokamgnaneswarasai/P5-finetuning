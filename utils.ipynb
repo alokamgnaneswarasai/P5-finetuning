{
 "cells": [
  {
   "cell_type": "code",
   "execution_count": 1,
   "metadata": {},
   "outputs": [
    {
     "name": "stdout",
     "output_type": "stream",
     "text": [
      "wget --no-check-certificate '/open?id=1uesez6E-q9WtS5VO07cXDoJDQz37oq0M&authuser=0' -O beauty-small.pth\n"
     ]
    }
   ],
   "source": [
    "from bs4 import BeautifulSoup\n",
    "\n",
    "def parse_html_to_wget_command(html_content, output_filename):\n",
    "    # Parse HTML content\n",
    "    soup = BeautifulSoup(html_content, 'html.parser')\n",
    "    \n",
    "    # Find download link\n",
    "    download_link = soup.find('a', href=True)\n",
    "    download_href = download_link['href']\n",
    "    \n",
    "    # Find UUID\n",
    "    uuid_input = soup.find('input', {'name': 'uuid'})\n",
    "    uuid_value = uuid_input['value']\n",
    "    \n",
    "    # Construct wget command\n",
    "    wget_command = f\"wget --no-check-certificate '{download_href}' -O {output_filename}\"\n",
    "    \n",
    "    return wget_command\n",
    "\n",
    "html_input = \"\"\" \n",
    "<!DOCTYPE html><html><head><title>Google Drive - Virus scan warning</title><meta http-equiv=\"content-type\" content=\"text/html; charset=utf-8\"/><style nonce=\"C1Hm-1pmctYMBfzmiDhvJw\">.goog-link-button{position:relative;color:#15c;text-decoration:underline;cursor:pointer}.goog-link-button-disabled{color:#ccc;text-decoration:none;cursor:default}body{color:#222;font:normal 13px/1.4 arial,sans-serif;margin:0}.grecaptcha-badge{visibility:hidden}.uc-main{padding-top:50px;text-align:center}#uc-dl-icon{display:inline-block;margin-top:16px;padding-right:1em;vertical-align:top}#uc-text{display:inline-block;max-width:68ex;text-align:left}.uc-error-caption,.uc-warning-caption{color:#222;font-size:16px}#uc-download-link{text-decoration:none}.uc-name-size a{color:#15c;text-decoration:none}.uc-name-size a:visited{color:#61c;text-decoration:none}.uc-name-size a:active{color:#d14836;text-decoration:none}.uc-footer{color:#777;font-size:11px;padding-bottom:5ex;padding-top:5ex;text-align:center}.uc-footer a{color:#15c}.uc-footer a:visited{color:#61c}.uc-footer a:active{color:#d14836}.uc-footer-divider{color:#ccc;width:100%}.goog-inline-block{position:relative;display:-moz-inline-box;display:inline-block}* html .goog-inline-block{display:inline}*:first-child+html .goog-inline-block{display:inline}sentinel{}</style><link rel=\"icon\" href=\"//ssl.gstatic.com/docs/doclist/images/drive_2022q3_32dp.png\"/></head><body><div class=\"uc-main\"><div id=\"uc-dl-icon\" class=\"image-container\"><div class=\"drive-sprite-aux-download-file\"></div></div><div id=\"uc-text\"><p class=\"uc-warning-caption\">Google Drive can't scan this file for viruses.</p><p class=\"uc-warning-subcaption\"><span class=\"uc-name-size\"><a href=\"/open?id=1uesez6E-q9WtS5VO07cXDoJDQz37oq0M&amp;authuser=0\">beauty-small.pth</a> (232M)</span> is too large for Google to scan for viruses. Would you still like to download this file?</p><form id=\"download-form\" action=\"https://drive.usercontent.google.com/download\" method=\"get\"><input type=\"submit\" id=\"uc-download-link\" class=\"goog-inline-block jfk-button jfk-button-action\" value=\"Download anyway\"/><input type=\"hidden\" name=\"id\" value=\"1uesez6E-q9WtS5VO07cXDoJDQz37oq0M\"><input type=\"hidden\" name=\"export\" value=\"download\"><input type=\"hidden\" name=\"authuser\" value=\"0\"><input type=\"hidden\" name=\"confirm\" value=\"t\"><input type=\"hidden\" name=\"uuid\" value=\"68b0c41d-264c-40fa-aff6-800dd6f073d5\"><input type=\"hidden\" name=\"at\" value=\"APZUnTXeSUtu1FDhihqj1Rbc-QpW:1715861553470\"></form></div></div><div class=\"uc-footer\"><hr class=\"uc-footer-divider\"></div></body></html> \"\"\"\n",
    "\n",
    "output_filename = \"beauty-small.pth\"\n",
    "print(parse_html_to_wget_command(html_input, output_filename))"
   ]
  },
  {
   "cell_type": "code",
   "execution_count": 6,
   "metadata": {},
   "outputs": [
    {
     "name": "stdout",
     "output_type": "stream",
     "text": [
      "wget --no-check-certificate 'https://drive.usercontent.google.com/download?id=1uesez6E-q9WtS5VO07cXDoJDQz37oq0M&export=download&authuser=0&confirm=t&uuid=8b7f17d0-3b73-45ef-97ac-f7d4c378b47a&at=APZUnTXOlwK1LWipOrb5u1dsk9v-:1715862887888' -O beauty-small.pth\n"
     ]
    }
   ],
   "source": [
    "# write a code which takes input like this and produce output like this \n",
    "\n",
    "\n",
    "# <!DOCTYPE html><html><head><title>Google Drive - Virus scan warning</title><meta http-equiv=\"content-type\" content=\"text/html; charset=utf-8\"/><style nonce=\"C1Hm-1pmctYMBfzmiDhvJw\">.goog-link-button{position:relative;color:#15c;text-decoration:underline;cursor:pointer}.goog-link-button-disabled{color:#ccc;text-decoration:none;cursor:default}body{color:#222;font:normal 13px/1.4 arial,sans-serif;margin:0}.grecaptcha-badge{visibility:hidden}.uc-main{padding-top:50px;text-align:center}#uc-dl-icon{display:inline-block;margin-top:16px;padding-right:1em;vertical-align:top}#uc-text{display:inline-block;max-width:68ex;text-align:left}.uc-error-caption,.uc-warning-caption{color:#222;font-size:16px}#uc-download-link{text-decoration:none}.uc-name-size a{color:#15c;text-decoration:none}.uc-name-size a:visited{color:#61c;text-decoration:none}.uc-name-size a:active{color:#d14836;text-decoration:none}.uc-footer{color:#777;font-size:11px;padding-bottom:5ex;padding-top:5ex;text-align:center}.uc-footer a{color:#15c}.uc-footer a:visited{color:#61c}.uc-footer a:active{color:#d14836}.uc-footer-divider{color:#ccc;width:100%}.goog-inline-block{position:relative;display:-moz-inline-box;display:inline-block}* html .goog-inline-block{display:inline}*:first-child+html .goog-inline-block{display:inline}sentinel{}</style><link rel=\"icon\" href=\"//ssl.gstatic.com/docs/doclist/images/drive_2022q3_32dp.png\"/></head><body><div class=\"uc-main\"><div id=\"uc-dl-icon\" class=\"image-container\"><div class=\"drive-sprite-aux-download-file\"></div></div><div id=\"uc-text\"><p class=\"uc-warning-caption\">Google Drive can't scan this file for viruses.</p><p class=\"uc-warning-subcaption\"><span class=\"uc-name-size\"><a href=\"/open?id=1uesez6E-q9WtS5VO07cXDoJDQz37oq0M&amp;authuser=0\">beauty-small.pth</a> (232M)</span> is too large for Google to scan for viruses. Would you still like to download this file?</p><form id=\"download-form\" action=\"https://drive.usercontent.google.com/download\" method=\"get\"><input type=\"submit\" id=\"uc-download-link\" class=\"goog-inline-block jfk-button jfk-button-action\" value=\"Download anyway\"/><input type=\"hidden\" name=\"id\" value=\"1uesez6E-q9WtS5VO07cXDoJDQz37oq0M\"><input type=\"hidden\" name=\"export\" value=\"download\"><input type=\"hidden\" name=\"authuser\" value=\"0\"><input type=\"hidden\" name=\"confirm\" value=\"t\"><input type=\"hidden\" name=\"uuid\" value=\"68b0c41d-264c-40fa-aff6-800dd6f073d5\"><input type=\"hidden\" name=\"at\" value=\"APZUnTXeSUtu1FDhihqj1Rbc-QpW:1715861553470\"></form></div></div><div class=\"uc-footer\"><hr class=\"uc-footer-divider\"></div></body></html>\n",
    "\n",
    "# and output is like this\n",
    "\n",
    "\n",
    "#  wget --no-check-certificate 'https://drive.usercontent.google.com/download?id=1uesez6E-q9WtS5VO07cXDoJDQz37oq0M&export=download&authuser=0&confirm=t&uuid=b1720b22-e42d-4f\n",
    "# 72-99ee-4332d61bb515&at=APZUnTX-YfazUggnkYQwCXhEu0PP:1715861362398' \n",
    "# -O P5/snap/beauty-small.pth  \n",
    "\n",
    "from bs4 import BeautifulSoup\n",
    "\n",
    "def parse_html_to_wget_command(html_content, output_filename):\n",
    "    # Parse HTML content\n",
    "    soup = BeautifulSoup(html_content, 'html.parser')\n",
    "    \n",
    "    # Find download link\n",
    "    download_link = soup.find('a', href=True)\n",
    "    download_href = download_link['href']\n",
    "    \n",
    "    # Find UUID\n",
    "    uuid_input = soup.find('input', {'name': 'uuid'})\n",
    "    uuid_value = uuid_input['value']\n",
    "    \n",
    "    # Find at value\n",
    "    at_input = soup.find('input', {'name': 'at'})\n",
    "    at_value = at_input['value']\n",
    "    \n",
    "    \n",
    "    # Construct wget command have to add uuid_value and at value also \n",
    "    # output should be like this wget --no-check-certificate 'https://drive.usercontent.google.com/download?id=1uesez6E-q9WtS5VO07cXDoJDQz37oq0M&export=download&authuser=0&confirm=t&uuid=b1720b22-e42d-4f72-99ee-4332d61bb515&at=APZUnTX-YfazUggnkYQwCXhEu0PP:1715861362398' -O P5/snap/beauty-small.pth  \n",
    "    \n",
    "    wget_command = f\"wget --no-check-certificate 'https://drive.usercontent.google.com/download?id=1uesez6E-q9WtS5VO07cXDoJDQz37oq0M&export=download&authuser=0&confirm=t&uuid={uuid_value}&at={at_value}' -O {output_filename}\"\n",
    "    \n",
    "    \n",
    "    return wget_command\n",
    "\n",
    "\n",
    "html_input = \"\"\"\n",
    "<!DOCTYPE html><html><head><title>Google Drive - Virus scan warning</title><meta http-equiv=\"content-type\" content=\"text/html; charset=utf-8\"/><style nonce=\"_dbOnVcmT95Csw4m_l0qWA\">.goog-link-button{position:relative;color:#15c;text-decoration:underline;cursor:pointer}.goog-link-button-disabled{color:#ccc;text-decoration:none;cursor:default}body{color:#222;font:normal 13px/1.4 arial,sans-serif;margin:0}.grecaptcha-badge{visibility:hidden}.uc-main{padding-top:50px;text-align:center}#uc-dl-icon{display:inline-block;margin-top:16px;padding-right:1em;vertical-align:top}#uc-text{display:inline-block;max-width:68ex;text-align:left}.uc-error-caption,.uc-warning-caption{color:#222;font-size:16px}#uc-download-link{text-decoration:none}.uc-name-size a{color:#15c;text-decoration:none}.uc-name-size a:visited{color:#61c;text-decoration:none}.uc-name-size a:active{color:#d14836;text-decoration:none}.uc-footer{color:#777;font-size:11px;padding-bottom:5ex;padding-top:5ex;text-align:center}.uc-footer a{color:#15c}.uc-footer a:visited{color:#61c}.uc-footer a:active{color:#d14836}.uc-footer-divider{color:#ccc;width:100%}.goog-inline-block{position:relative;display:-moz-inline-box;display:inline-block}* html .goog-inline-block{display:inline}*:first-child+html .goog-inline-block{display:inline}sentinel{}</style><link rel=\"icon\" href=\"//ssl.gstatic.com/docs/doclist/images/drive_2022q3_32dp.png\"/></head><body><div class=\"uc-main\"><div id=\"uc-dl-icon\" class=\"image-container\"><div class=\"drive-sprite-aux-download-file\"></div></div><div id=\"uc-text\"><p class=\"uc-warning-caption\">Google Drive can't scan this file for viruses.</p><p class=\"uc-warning-subcaption\"><span class=\"uc-name-size\"><a href=\"/open?id=1uesez6E-q9WtS5VO07cXDoJDQz37oq0M&amp;authuser=0\">beauty-small.pth</a> (232M)</span> is too large for Google to scan for viruses. Would you still like to download this file?</p><form id=\"download-form\" action=\"https://drive.usercontent.google.com/download\" method=\"get\"><input type=\"submit\" id=\"uc-download-link\" class=\"goog-inline-block jfk-button jfk-button-action\" value=\"Download anyway\"/><input type=\"hidden\" name=\"id\" value=\"1uesez6E-q9WtS5VO07cXDoJDQz37oq0M\"><input type=\"hidden\" name=\"export\" value=\"download\"><input type=\"hidden\" name=\"authuser\" value=\"0\"><input type=\"hidden\" name=\"confirm\" value=\"t\"><input type=\"hidden\" name=\"uuid\" value=\"8b7f17d0-3b73-45ef-97ac-f7d4c378b47a\"><input type=\"hidden\" name=\"at\" value=\"APZUnTXOlwK1LWipOrb5u1dsk9v-:1715862887888\"></form></div></div><div class=\"uc-footer\"><hr class=\"uc-footer-divider\"></div></body></html>\"\"\"\n",
    "\n",
    "output_filename = \"beauty-small.pth\"\n",
    "print(parse_html_to_wget_command(html_input, output_filename))"
   ]
  },
  {
   "cell_type": "code",
   "execution_count": 5,
   "metadata": {},
   "outputs": [
    {
     "name": "stdout",
     "output_type": "stream",
     "text": [
      "False\n"
     ]
    }
   ],
   "source": [
    "# check whether the two strings are equal or not \n",
    "s1 = \"wget --no-check-certificate 'https://drive.usercontent.google.com/download?id=1uesez6E-q9WtS5VO07cXDoJDQz37oq0M&export=download&authuser=0&confirm=t&uuid=b1720b22-e42d-4f72-99ee-4332d61bb515&at=APZUnTX-YfazUggnkYQwCXhEu0PP:1715861362398' -O P5/snap/beauty-small.pth\"\n",
    "s2 = \"wget --no-check-certificate 'https://drive.usercontent.google.com/download?id=1uesez6E-q9WtS5VO07cXDoJDQz37oq0M&export=download&authuser=0&confirm=t&uuid=68b0c41d-264c-40fa-aff6-800dd6f073d5&at=APZUnTXeSUtu1FDhihqj1Rbc-QpW:1715861553470' -O P5/snap/beauty-small.pth\"\n",
    "\n",
    "print(s1 == s2)"
   ]
  },
  {
   "cell_type": "code",
   "execution_count": null,
   "metadata": {},
   "outputs": [],
   "source": []
  }
 ],
 "metadata": {
  "kernelspec": {
   "display_name": "Python 3",
   "language": "python",
   "name": "python3"
  },
  "language_info": {
   "codemirror_mode": {
    "name": "ipython",
    "version": 3
   },
   "file_extension": ".py",
   "mimetype": "text/x-python",
   "name": "python",
   "nbconvert_exporter": "python",
   "pygments_lexer": "ipython3",
   "version": "3.8.10"
  }
 },
 "nbformat": 4,
 "nbformat_minor": 2
}
