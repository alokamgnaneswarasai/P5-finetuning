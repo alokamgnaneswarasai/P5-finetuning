{
 "cells": [
  {
   "cell_type": "code",
   "execution_count": 1,
   "metadata": {},
   "outputs": [],
   "source": [
    "from collections import defaultdict\n",
    "import os\n",
    "import torch\n",
    "import random\n",
    "import numpy as np\n",
    "import pandas as pd\n",
    "import json\n",
    "import pickle\n",
    "import gzip\n",
    "from tqdm import tqdm\n",
    "\n",
    "def load_pickle(filename):\n",
    "    with open(filename, \"rb\") as f:\n",
    "        return pickle.load(f)\n",
    "\n",
    "\n",
    "def save_pickle(data, filename):\n",
    "    with open(filename, \"wb\") as f:\n",
    "        pickle.dump(data, f, protocol=pickle.HIGHEST_PROTOCOL)\n",
    "\n",
    "def load_json(file_path):\n",
    "    with open(file_path, \"r\") as f:\n",
    "        return json.load(f)\n",
    "    \n",
    "def ReadLineFromFile(path):\n",
    "    lines = []\n",
    "    with open(path,'r') as fd:\n",
    "        for line in fd:\n",
    "            lines.append(line.rstrip('\\n'))\n",
    "    return lines\n",
    "\n",
    "def parse(path):\n",
    "    g = gzip.open(path, 'r')\n",
    "    for l in g:\n",
    "        yield eval(l)\n",
    "        \n",
    "'''\n",
    "Set seeds\n",
    "'''\n",
    "seed = 2022\n",
    "torch.manual_seed(seed)\n",
    "random.seed(seed)\n",
    "np.random.seed(seed)"
   ]
  },
  {
   "cell_type": "code",
   "execution_count": 2,
   "metadata": {},
   "outputs": [],
   "source": [
    "short_data_name = 'yelp'\n",
    "full_data_name = 'Yelp'\n",
    "os.mkdir(short_data_name)"
   ]
  },
  {
   "cell_type": "markdown",
   "metadata": {},
   "source": [
    "### For Sequential Recommendation"
   ]
  },
  {
   "cell_type": "code",
   "execution_count": 3,
   "metadata": {},
   "outputs": [],
   "source": [
    "def Yelp(date_min, date_max, rating_score):\n",
    "    datas = []\n",
    "    data_flie = './raw_data/yelp/yelp_academic_dataset_review.json'\n",
    "    lines = open(data_flie).readlines()\n",
    "    for line in tqdm(lines):\n",
    "        review = json.loads(line.strip())\n",
    "        user = review['user_id']\n",
    "        item = review['business_id']\n",
    "        rating = review['stars']\n",
    "        # 2004-10-12 10:13:32 2019-12-13 15:51:19\n",
    "        date = review['date']\n",
    "        # 剔除一些例子\n",
    "        if date < date_min or date > date_max or float(rating) <= rating_score:\n",
    "            continue\n",
    "        time = date.replace('-','').replace(':','').replace(' ','')\n",
    "        datas.append((user, item, int(time)))\n",
    "    return datas\n",
    "\n",
    "def Yelp_meta(datamaps):\n",
    "    meta_infos = {}\n",
    "    meta_file = './raw_data/yelp/yelp_academic_dataset_business.json'\n",
    "    item_ids = list(datamaps['item2id'].keys())\n",
    "    lines = open(meta_file).readlines()\n",
    "    for line in tqdm(lines):\n",
    "        info = json.loads(line)\n",
    "        if info['business_id'] not in item_ids:\n",
    "            continue\n",
    "        meta_infos[info['business_id']] = info\n",
    "    return meta_infos\n",
    "\n",
    "\n",
    "def add_comma(num):\n",
    "    # 1000000 -> 1,000,000\n",
    "    str_num = str(num)\n",
    "    res_num = ''\n",
    "    for i in range(len(str_num)):\n",
    "        res_num += str_num[i]\n",
    "        if (len(str_num)-i-1) % 3 == 0:\n",
    "            res_num += ','\n",
    "    return res_num[:-1]\n",
    "\n",
    "def get_attribute_Yelp(meta_infos, datamaps, attribute_core):\n",
    "    attributes = defaultdict(int)\n",
    "    for iid, info in tqdm(meta_infos.items()):\n",
    "        try:\n",
    "            cates = [cate.strip() for cate in info['categories'].split(',')]\n",
    "            for cate in cates:\n",
    "                attributes[cate] +=1\n",
    "        except:\n",
    "            pass\n",
    "    print(f'before delete, attribute num:{len(attributes)}')\n",
    "    new_meta = {}\n",
    "    for iid, info in tqdm(meta_infos.items()):\n",
    "        new_meta[iid] = []\n",
    "        try:\n",
    "            cates = [cate.strip() for cate in info['categories'].split(',') ]\n",
    "            for cate in cates:\n",
    "                if attributes[cate] >= attribute_core:\n",
    "                    new_meta[iid].append(cate)\n",
    "        except:\n",
    "            pass\n",
    "    # 做映射\n",
    "    attribute2id = {}\n",
    "    id2attribute = {}\n",
    "    attribute_id = 1\n",
    "    items2attributes = {}\n",
    "    attribute_lens = []\n",
    "    # load id map\n",
    "    for iid, attributes in new_meta.items():\n",
    "        item_id = datamaps['item2id'][iid]\n",
    "        items2attributes[item_id] = []\n",
    "        for attribute in attributes:\n",
    "            if attribute not in attribute2id:\n",
    "                attribute2id[attribute] = attribute_id\n",
    "                id2attribute[attribute_id] = attribute\n",
    "                attribute_id += 1\n",
    "            items2attributes[item_id].append(attribute2id[attribute])\n",
    "        attribute_lens.append(len(items2attributes[item_id]))\n",
    "    print(f'after delete, attribute num:{len(attribute2id)}')\n",
    "    print(f'attributes len, Min:{np.min(attribute_lens)}, Max:{np.max(attribute_lens)}, Avg.:{np.mean(attribute_lens):.4f}')\n",
    "    # 更新datamap\n",
    "    datamaps['attribute2id'] = attribute2id\n",
    "    datamaps['id2attribute'] = id2attribute\n",
    "    return len(attribute2id), np.mean(attribute_lens), datamaps, items2attributes\n",
    "\n",
    "\n",
    "def get_interaction(datas):\n",
    "    user_seq = {}\n",
    "    for data in datas:\n",
    "        user, item, time = data\n",
    "        if user in user_seq:\n",
    "            user_seq[user].append((item, time))\n",
    "        else:\n",
    "            user_seq[user] = []\n",
    "            user_seq[user].append((item, time))\n",
    "\n",
    "    for user, item_time in user_seq.items():\n",
    "        item_time.sort(key=lambda x: x[1])  # 对各个数据集得单独排序\n",
    "        items = []\n",
    "        for t in item_time:\n",
    "            items.append(t[0])\n",
    "        user_seq[user] = items\n",
    "    return user_seq\n",
    "\n",
    "# K-core user_core item_core\n",
    "def check_Kcore(user_items, user_core, item_core):\n",
    "    user_count = defaultdict(int)\n",
    "    item_count = defaultdict(int)\n",
    "    for user, items in user_items.items():\n",
    "        for item in items:\n",
    "            user_count[user] += 1\n",
    "            item_count[item] += 1\n",
    "\n",
    "    for user, num in user_count.items():\n",
    "        if num < user_core:\n",
    "            return user_count, item_count, False\n",
    "    for item, num in item_count.items():\n",
    "        if num < item_core:\n",
    "            return user_count, item_count, False\n",
    "    return user_count, item_count, True # 已经保证Kcore\n",
    "\n",
    "# 循环过滤 K-core\n",
    "def filter_Kcore(user_items, user_core, item_core): # user 接所有items\n",
    "    user_count, item_count, isKcore = check_Kcore(user_items, user_core, item_core)\n",
    "    while not isKcore:\n",
    "        for user, num in user_count.items():\n",
    "            if user_count[user] < user_core: # 直接把user 删除\n",
    "                user_items.pop(user)\n",
    "            else:\n",
    "                for item in user_items[user]:\n",
    "                    if item_count[item] < item_core:\n",
    "                        user_items[user].remove(item)\n",
    "        user_count, item_count, isKcore = check_Kcore(user_items, user_core, item_core)\n",
    "    return user_items\n",
    "\n",
    "def id_map(user_items): # user_items dict\n",
    "    user2id = {} # raw 2 uid\n",
    "    item2id = {} # raw 2 iid\n",
    "    id2user = {} # uid 2 raw\n",
    "    id2item = {} # iid 2 raw\n",
    "    user_id = 1\n",
    "    item_id = 1\n",
    "    final_data = {}\n",
    "    for user, items in user_items.items():\n",
    "        if user not in user2id:\n",
    "            user2id[user] = str(user_id)\n",
    "            id2user[str(user_id)] = user\n",
    "            user_id += 1\n",
    "        iids = [] # item id lists\n",
    "        for item in items:\n",
    "            if item not in item2id:\n",
    "                item2id[item] = str(item_id)\n",
    "                id2item[str(item_id)] = item\n",
    "                item_id += 1\n",
    "            iids.append(item2id[item])\n",
    "        uid = user2id[user]\n",
    "        final_data[uid] = iids\n",
    "    data_maps = {\n",
    "        'user2id': user2id,\n",
    "        'item2id': item2id,\n",
    "        'id2user': id2user,\n",
    "        'id2item': id2item\n",
    "    }\n",
    "    return final_data, user_id-1, item_id-1, data_maps"
   ]
  },
  {
   "cell_type": "code",
   "execution_count": 4,
   "metadata": {},
   "outputs": [],
   "source": [
    "def main(data_name, acronym, data_type='Amazon'):\n",
    "    assert data_type in {'Amazon', 'Yelp'}\n",
    "    rating_score = 0.0  # rating score smaller than this score would be deleted\n",
    "    # user 5-core item 5-core\n",
    "    user_core = 5\n",
    "    item_core = 5\n",
    "    attribute_core = 0\n",
    "\n",
    "    if data_type == 'Yelp':\n",
    "        date_max = '2019-12-31 00:00:00'\n",
    "        date_min = '2019-01-01 00:00:00'\n",
    "        datas = Yelp(date_min, date_max, rating_score)\n",
    "        #uis_triplets = load_pickle('yelp/pre_uis_triplets.pkl')\n",
    "        #datas = Yelp(uis_triplets, rating_score)\n",
    "    else:\n",
    "        datas = Amazon(data_name+'_5', rating_score=rating_score)\n",
    "\n",
    "    user_items = get_interaction(datas)\n",
    "    print(f'{data_name} Raw data has been processed! Lower than {rating_score} are deleted!')\n",
    "    # raw_id user: [item1, item2, item3...]\n",
    "    user_items = filter_Kcore(user_items, user_core=user_core, item_core=item_core)\n",
    "    print(f'User {user_core}-core complete! Item {item_core}-core complete!')\n",
    "\n",
    "    user_items, user_num, item_num, data_maps = id_map(user_items)  # new_num_id\n",
    "    user_count, item_count, _ = check_Kcore(user_items, user_core=user_core, item_core=item_core)\n",
    "    user_count_list = list(user_count.values())\n",
    "    user_avg, user_min, user_max = np.mean(user_count_list), np.min(user_count_list), np.max(user_count_list)\n",
    "    item_count_list = list(item_count.values())\n",
    "    item_avg, item_min, item_max = np.mean(item_count_list), np.min(item_count_list), np.max(item_count_list)\n",
    "    interact_num = np.sum([x for x in user_count_list])\n",
    "    sparsity = (1 - interact_num / (user_num * item_num)) * 100\n",
    "    show_info = f'Total User: {user_num}, Avg User: {user_avg:.4f}, Min Len: {user_min}, Max Len: {user_max}\\n' + \\\n",
    "                f'Total Item: {item_num}, Avg Item: {item_avg:.4f}, Min Inter: {item_min}, Max Inter: {item_max}\\n' + \\\n",
    "                f'Iteraction Num: {interact_num}, Sparsity: {sparsity:.2f}%'\n",
    "    print(show_info)\n",
    "\n",
    "\n",
    "    print('Begin extracting meta infos...')\n",
    "\n",
    "    if data_type == 'Amazon':\n",
    "        meta_infos = Amazon_meta(data_name, data_maps)\n",
    "        attribute_num, avg_attribute, datamaps, item2attributes = get_attribute_Amazon(meta_infos, data_maps, attribute_core)\n",
    "    else:\n",
    "        meta_infos = Yelp_meta(data_maps)\n",
    "        attribute_num, avg_attribute, datamaps, item2attributes = get_attribute_Yelp(meta_infos, data_maps, attribute_core)\n",
    "\n",
    "    print(f'{data_name} & {add_comma(user_num)}& {add_comma(item_num)} & {user_avg:.1f}'\n",
    "          f'& {item_avg:.1f}& {add_comma(interact_num)}& {sparsity:.2f}\\%&{add_comma(attribute_num)}&'\n",
    "          f'{avg_attribute:.1f} \\\\')\n",
    "\n",
    "    # -------------- Save Data ---------------\n",
    "    data_file = './{}/'.format(acronym) + 'sequential_data.txt'\n",
    "    item2attributes_file = './{}/'.format(acronym) + 'item2attributes.json'\n",
    "    datamaps_file = './{}/'.format(acronym) + 'datamaps.json'\n",
    "\n",
    "    with open(data_file, 'w') as out:\n",
    "        for user, items in user_items.items():\n",
    "            out.write(user + ' ' + ' '.join(items) + '\\n')\n",
    "    json_str = json.dumps(item2attributes)\n",
    "    with open(item2attributes_file, 'w') as out:\n",
    "        out.write(json_str)\n",
    "        \n",
    "    json_str = json.dumps(datamaps)\n",
    "    with open(datamaps_file, 'w') as out:\n",
    "        out.write(json_str)"
   ]
  },
  {
   "cell_type": "code",
   "execution_count": 5,
   "metadata": {},
   "outputs": [
    {
     "name": "stderr",
     "output_type": "stream",
     "text": [
      "100%|███████████████████████████████████████████████████████████████████████████████████████████████████████████████████████████████████████████████████████████████████████████████████████████████████████████████████████████████████████████████████████████████████████████| 8021122/8021122 [00:40<00:00, 197260.88it/s]\n"
     ]
    },
    {
     "name": "stdout",
     "output_type": "stream",
     "text": [
      "Yelp Raw data has been processed! Lower than 0.0 are deleted!\n",
      "User 5-core complete! Item 5-core complete!\n",
      "Total User: 30431, Avg User: 10.3958, Min Len: 5, Max Len: 350\n",
      "Total Item: 20033, Avg Item: 15.7916, Min Inter: 5, Max Inter: 500\n",
      "Iteraction Num: 316354, Sparsity: 99.95%\n",
      "Begin extracting meta infos...\n"
     ]
    },
    {
     "name": "stderr",
     "output_type": "stream",
     "text": [
      "100%|███████████████████████████████████████████████████████████████████████████████████████████████████████████████████████████████████████████████████████████████████████████████████████████████████████████████████████████████████████████████████████████████████████████████| 209393/209393 [01:14<00:00, 2828.97it/s]\n",
      "100%|███████████████████████████████████████████████████████████████████████████████████████████████████████████████████████████████████████████████████████████████████████████████████████████████████████████████████████████████████████████████████████████████████████████████| 20033/20033 [00:00<00:00, 518269.80it/s]\n"
     ]
    },
    {
     "name": "stdout",
     "output_type": "stream",
     "text": [
      "before delete, attribute num:1001\n"
     ]
    },
    {
     "name": "stderr",
     "output_type": "stream",
     "text": [
      "100%|███████████████████████████████████████████████████████████████████████████████████████████████████████████████████████████████████████████████████████████████████████████████████████████████████████████████████████████████████████████████████████████████████████████████| 20033/20033 [00:00<00:00, 429671.92it/s]\n"
     ]
    },
    {
     "name": "stdout",
     "output_type": "stream",
     "text": [
      "after delete, attribute num:1001\n",
      "attributes len, Min:0, Max:20, Avg.:4.8430\n",
      "Yelp & 30,431& 20,033 & 10.4& 15.8& 316,354& 99.95\\%&1,001&4.8 \\\n"
     ]
    }
   ],
   "source": [
    "main(full_data_name, short_data_name, data_type='Yelp')"
   ]
  },
  {
   "cell_type": "code",
   "execution_count": 6,
   "metadata": {},
   "outputs": [],
   "source": [
    "def sample_test_data(data_name, test_num=99, sample_type='random'):\n",
    "    \"\"\"\n",
    "    sample_type:\n",
    "        random:  sample `test_num` negative items randomly.\n",
    "        pop: sample `test_num` negative items according to item popularity.\n",
    "    \"\"\"\n",
    "\n",
    "    data_file = f'sequential_data.txt'\n",
    "    test_file = f'negative_samples.txt'\n",
    "\n",
    "    item_count = defaultdict(int)\n",
    "    user_items = defaultdict()\n",
    "\n",
    "    lines = open('./{}/'.format(data_name) + data_file).readlines()\n",
    "    for line in lines:\n",
    "        user, items = line.strip().split(' ', 1)\n",
    "        items = items.split(' ')\n",
    "        items = [int(item) for item in items]\n",
    "        user_items[user] = items\n",
    "        for item in items:\n",
    "            item_count[item] += 1\n",
    "\n",
    "    all_item = list(item_count.keys())\n",
    "    count = list(item_count.values())\n",
    "    sum_value = np.sum([x for x in count])\n",
    "    probability = [value / sum_value for value in count]\n",
    "\n",
    "    user_neg_items = defaultdict()\n",
    "\n",
    "    for user, user_seq in user_items.items():\n",
    "        test_samples = []\n",
    "        while len(test_samples) < test_num:\n",
    "            if sample_type == 'random':\n",
    "                sample_ids = np.random.choice(all_item, test_num, replace=False)\n",
    "            else: # sample_type == 'pop':\n",
    "                sample_ids = np.random.choice(all_item, test_num, replace=False, p=probability)\n",
    "            sample_ids = [str(item) for item in sample_ids if item not in user_seq and item not in test_samples]\n",
    "            test_samples.extend(sample_ids)\n",
    "        test_samples = test_samples[:test_num]\n",
    "        user_neg_items[user] = test_samples\n",
    "\n",
    "    with open('./{}/'.format(data_name) + test_file, 'w') as out:\n",
    "        for user, samples in user_neg_items.items():\n",
    "            out.write(user+' '+' '.join(samples)+'\\n')"
   ]
  },
  {
   "cell_type": "code",
   "execution_count": 7,
   "metadata": {},
   "outputs": [],
   "source": [
    "sample_test_data(short_data_name)"
   ]
  },
  {
   "cell_type": "markdown",
   "metadata": {},
   "source": [
    "### Create Splits for Review"
   ]
  },
  {
   "cell_type": "code",
   "execution_count": 8,
   "metadata": {},
   "outputs": [
    {
     "name": "stdout",
     "output_type": "stream",
     "text": [
      "dict_keys(['user2id', 'item2id', 'id2user', 'id2item', 'attribute2id', 'id2attribute'])\n"
     ]
    }
   ],
   "source": [
    "datamaps = load_json(\"./{}/datamaps.json\".format(short_data_name))\n",
    "print(datamaps.keys())"
   ]
  },
  {
   "cell_type": "code",
   "execution_count": 9,
   "metadata": {},
   "outputs": [
    {
     "name": "stderr",
     "output_type": "stream",
     "text": [
      "100%|███████████████████████████████████████████████████████████████████████████████████████████████████████████████████████████████████████████████████████████████████████████████████████████████████████████████████████████████████████████████████████████████████████████| 8021122/8021122 [00:41<00:00, 194307.65it/s]\n"
     ]
    }
   ],
   "source": [
    "date_max = '2019-12-31 00:00:00'\n",
    "date_min = '2019-01-01 00:00:00'\n",
    "rating_score = 0.0\n",
    "all_review_data = []\n",
    "lines = open('./raw_data/yelp/yelp_academic_dataset_review.json').readlines()\n",
    "for line in tqdm(lines):\n",
    "    review = json.loads(line.strip())\n",
    "    # all: 2004-10-12 10:13:32 2019-12-13 15:51:19\n",
    "    # desired: 2019-01-01 00:00:00 2019-12-31 00:00:00\n",
    "    date = review['date']\n",
    "    rating = review['stars']\n",
    "    if date < date_min or date > date_max or float(rating) <= rating_score:\n",
    "        continue\n",
    "    user = review['user_id']\n",
    "    item = review['business_id']\n",
    "    if user in datamaps['user2id'] and item in datamaps['item2id']:\n",
    "        pass\n",
    "    else:\n",
    "        continue\n",
    "    time = date.replace('-','').replace(':','').replace(' ','')\n",
    "    review['unixReviewTime'] = time\n",
    "    review['reviewerID'] = user\n",
    "    review['asin'] = item\n",
    "    review['overall'] = rating\n",
    "    review['reviewText'] = review['text']\n",
    "    del review['text']\n",
    "    del review['user_id']\n",
    "    del review['business_id']\n",
    "    del review['stars']\n",
    "    all_review_data.append(review)"
   ]
  },
  {
   "cell_type": "code",
   "execution_count": 10,
   "metadata": {},
   "outputs": [
    {
     "name": "stdout",
     "output_type": "stream",
     "text": [
      "316354\n",
      "{'review_id': 'Vx-DPb4olxt1Zxf9dI8b2A', 'useful': 0, 'funny': 0, 'cool': 0, 'date': '2019-01-02 19:11:49', 'unixReviewTime': '20190102191149', 'reviewerID': 'Donht4mLJ4aO4FQhqHGJtw', 'asin': '5eV8oUGdBXylwB7HeaDFOA', 'overall': 4.0, 'reviewText': 'Top notch cuisine and very friendly service. Everything here tastes very fresh. The rice pilaf is second to none!! Prices are very reasonable for the high quality food they serve!!'}\n"
     ]
    }
   ],
   "source": [
    "print(len(all_review_data))\n",
    "print(all_review_data[0])"
   ]
  },
  {
   "cell_type": "code",
   "execution_count": 11,
   "metadata": {},
   "outputs": [],
   "source": [
    "def save_json_gz(jsonfilename, data):\n",
    "    with gzip.open(jsonfilename, 'w') as fout:\n",
    "        fout.write(json.dumps(data).encode('utf-8'))\n",
    "        \n",
    "def load_json_gz(jsonfilename):\n",
    "    with gzip.open(jsonfilename, 'r') as fin:\n",
    "        data = json.loads(fin.read().decode('utf-8'))\n",
    "    return data"
   ]
  },
  {
   "cell_type": "code",
   "execution_count": 12,
   "metadata": {},
   "outputs": [
    {
     "name": "stdout",
     "output_type": "stream",
     "text": [
      "316354\n"
     ]
    },
    {
     "data": {
      "text/plain": [
       "{'review_id': 'Vx-DPb4olxt1Zxf9dI8b2A',\n",
       " 'useful': 0,\n",
       " 'funny': 0,\n",
       " 'cool': 0,\n",
       " 'date': '2019-01-02 19:11:49',\n",
       " 'unixReviewTime': '20190102191149',\n",
       " 'reviewerID': 'Donht4mLJ4aO4FQhqHGJtw',\n",
       " 'asin': '5eV8oUGdBXylwB7HeaDFOA',\n",
       " 'overall': 4.0,\n",
       " 'reviewText': 'Top notch cuisine and very friendly service. Everything here tastes very fresh. The rice pilaf is second to none!! Prices are very reasonable for the high quality food they serve!!'}"
      ]
     },
     "execution_count": 12,
     "metadata": {},
     "output_type": "execute_result"
    }
   ],
   "source": [
    "review_data = load_json_gz('./raw_data/reviews_Yelp_5.json.gz')\n",
    "print(len(review_data))\n",
    "review_data[0]"
   ]
  },
  {
   "cell_type": "code",
   "execution_count": 13,
   "metadata": {},
   "outputs": [
    {
     "name": "stdout",
     "output_type": "stream",
     "text": [
      "30431\n",
      "20033\n",
      "sparsity:  0.05189327918159184\n"
     ]
    }
   ],
   "source": [
    "print(len(datamaps['user2id']))\n",
    "print(len(datamaps['item2id']))\n",
    "sparsity = 100.0 * len(review_data) / (len(datamaps['user2id']) * len(datamaps['item2id'])) \n",
    "print('sparsity: ', sparsity)"
   ]
  },
  {
   "cell_type": "code",
   "execution_count": 14,
   "metadata": {},
   "outputs": [
    {
     "name": "stderr",
     "output_type": "stream",
     "text": [
      "100%|████████████████████████████████████████████████████████████████████████████████████████████████████████████████████████████████████████████████████████████████████████████████████████████████████████████████████████████████████████████████████████████████████████████| 316354/316354 [00:00<00:00, 1623301.29it/s]"
     ]
    },
    {
     "name": "stdout",
     "output_type": "stream",
     "text": [
      "316354\n"
     ]
    },
    {
     "name": "stderr",
     "output_type": "stream",
     "text": [
      "\n"
     ]
    }
   ],
   "source": [
    "valid_review_indices = []\n",
    "for i in tqdm(range(len(review_data))):\n",
    "    if review_data[i]['reviewerID'] in datamaps['user2id'] and review_data[i]['asin'] in datamaps['item2id']:\n",
    "        valid_review_indices.append(i)\n",
    "print(len(valid_review_indices))"
   ]
  },
  {
   "cell_type": "markdown",
   "metadata": {},
   "source": [
    "### Prepare reviews.pickle"
   ]
  },
  {
   "cell_type": "code",
   "execution_count": 15,
   "metadata": {},
   "outputs": [
    {
     "name": "stdout",
     "output_type": "stream",
     "text": [
      "316354\n",
      "{'user': 'Tc0DsCR2k5XZAqqjRDtDfg', 'item': '5eV8oUGdBXylwB7HeaDFOA', 'rating': 5, 'text': 'If I could give 6 stars I would. My wife and I dine here several times a month and are never disappointed. Everything is always fresh and well prepared. If we have any complaints at all it would be for them to add humus and tabouli. Would also like to comment on the great service. Thanks guys.', 'sentence': [('service', 'great', 'Would also like to comment on the great service', 1), ('service', 'great', 'great service', 1), ('service', 'great', 'great service', 1)]}\n"
     ]
    }
   ],
   "source": [
    "raw_explanations = load_pickle('./raw_data/reviews_{}.pickle'.format(full_data_name))\n",
    "print(len(raw_explanations))\n",
    "print(raw_explanations[2])"
   ]
  },
  {
   "cell_type": "code",
   "execution_count": 16,
   "metadata": {},
   "outputs": [
    {
     "data": {
      "text/plain": [
       "{'user': 'pGvCyc6xVOyoxeIDgafCCQ',\n",
       " 'item': '5eV8oUGdBXylwB7HeaDFOA',\n",
       " 'rating': 4,\n",
       " 'text': 'I tried the steak entree plate that came with a side salad, pita bread, 2 skewers of steak, and their yogurt sauce (forgot the name). \\n\\nI think my first mistake was that I order the steak \"well done\" as I hate raw steak but I hadn\\'t realized that it was sirloin steak. The steak was chewy and honestly I almost choked on it. The side salad and it\\'s dressing was really good except I bit into an olive not knowing there was a seed in it! Good thing I didn\\'t break my tooth! \\n\\nThe food was just okay. \\n\\nOn the other hand, I order a piece of baklava and oohhh my goodness gracious, I\\'m not even a sweets lover, but dayum this dessert was top notch! The top was flaky and as you got to the bottom of the piece it would get more and more sweet. But not too sweet as I believe it\\'s sweetened with honey. It was like. So. Good. I was supposed to share half with my boyfriend but I ate the whole thing! Whoopsie!\\n\\nSo my advice is to skip the food and just buy the baklava! Next time I\\'m going to try the baklava ice cream because that looked really good too!',\n",
       " 'sentence': [('food', 'okay', 'The food was just okay', 1),\n",
       "  ('steak',\n",
       "   'chewy',\n",
       "   'The steak was chewy and honestly I almost choked on it',\n",
       "   -1),\n",
       "  ('food',\n",
       "   'just',\n",
       "   'So my advice is to skip the food and just buy the baklava',\n",
       "   -1)]}"
      ]
     },
     "execution_count": 16,
     "metadata": {},
     "output_type": "execute_result"
    }
   ],
   "source": [
    "raw_explanations[1]"
   ]
  },
  {
   "cell_type": "code",
   "execution_count": 17,
   "metadata": {},
   "outputs": [
    {
     "data": {
      "text/plain": [
       "{'review_id': 'eyUE1Lte1Loac-y9kpqbCQ',\n",
       " 'useful': 2,\n",
       " 'funny': 0,\n",
       " 'cool': 2,\n",
       " 'date': '2019-01-14 18:47:55',\n",
       " 'unixReviewTime': '20190114184755',\n",
       " 'reviewerID': 'kUUls6-NU6eSYeTXHtSPbA',\n",
       " 'asin': '1WtUgLhdBdQ39aBvEUbsnw',\n",
       " 'overall': 4.0,\n",
       " 'reviewText': \"The fact that all of their sushi is buy one, get one free all of the time here is amazing! I was so tempted to order more food, but my two sushi rolls and the delicious appetizers that my friends ordered for the table were plenty enough! One friend ordered the shrimp shumai and pork gyoza (both steamed, of course) and another friend ordered the spicy edamame... all of which was delicious! \\n\\nThe service we received was excellent and the sushi and sake were great as well. My one friend did not like one of her rolls though and I cant blame her because it was very odd. She ended up getting a crunchy roll which was literally just that. It was filled with crunchy topping and nothing else, then topped with spicy mayo and eel sauce (I think). Either way, it was the strangest sushi roll I had ever seen. I'm a sucker for Asian restaurants though so I would love to come back here again!\"}"
      ]
     },
     "execution_count": 17,
     "metadata": {},
     "output_type": "execute_result"
    }
   ],
   "source": [
    "all_review_data[1]"
   ]
  },
  {
   "cell_type": "code",
   "execution_count": 18,
   "metadata": {},
   "outputs": [],
   "source": [
    "rev_uis_triplets = {}\n",
    "all_user_ids = []\n",
    "all_item_ids = []\n",
    "all_review_ids = []\n",
    "\n",
    "for ind in range(len(all_review_data)):\n",
    "    rev_ = all_review_data[ind]\n",
    "    u_ = rev_['reviewerID']\n",
    "    i_ = rev_['asin']\n",
    "    r_ = rev_['review_id']\n",
    "    s_ = int(rev_['overall'])\n",
    "    all_user_ids.append(u_)\n",
    "    all_item_ids.append(i_)\n",
    "    all_review_ids.append(r_)\n",
    "    if (u_, i_, s_) not in rev_uis_triplets:\n",
    "        rev_uis_triplets[(u_, i_, s_)] = [ind]\n",
    "    else:\n",
    "        rev_uis_triplets[(u_, i_, s_)].append(ind)"
   ]
  },
  {
   "cell_type": "code",
   "execution_count": 19,
   "metadata": {},
   "outputs": [],
   "source": [
    "all_user_ids = set(all_user_ids)\n",
    "all_item_ids = set(all_item_ids)\n",
    "all_review_ids = set(all_review_ids)"
   ]
  },
  {
   "cell_type": "code",
   "execution_count": 20,
   "metadata": {},
   "outputs": [
    {
     "name": "stdout",
     "output_type": "stream",
     "text": [
      "316354\n"
     ]
    }
   ],
   "source": [
    "print(len(all_review_ids))"
   ]
  },
  {
   "cell_type": "code",
   "execution_count": 21,
   "metadata": {},
   "outputs": [
    {
     "data": {
      "text/plain": [
       "316354"
      ]
     },
     "execution_count": 21,
     "metadata": {},
     "output_type": "execute_result"
    }
   ],
   "source": [
    "len(raw_explanations)"
   ]
  },
  {
   "cell_type": "code",
   "execution_count": 22,
   "metadata": {},
   "outputs": [],
   "source": [
    "for j in range(len(raw_explanations)):\n",
    "    key = (raw_explanations[j]['user'], raw_explanations[j]['item'], int(raw_explanations[j]['rating']))\n",
    "    if key not in rev_uis_triplets:\n",
    "        break"
   ]
  },
  {
   "cell_type": "code",
   "execution_count": 23,
   "metadata": {},
   "outputs": [
    {
     "data": {
      "text/plain": [
       "316353"
      ]
     },
     "execution_count": 23,
     "metadata": {},
     "output_type": "execute_result"
    }
   ],
   "source": [
    "j"
   ]
  },
  {
   "cell_type": "code",
   "execution_count": 24,
   "metadata": {},
   "outputs": [
    {
     "data": {
      "text/plain": [
       "('dcaM83FOnpuqxGJt4EABZA', 'dHgbL5EAEawIcqk6aXe2Ow', 1)"
      ]
     },
     "execution_count": 24,
     "metadata": {},
     "output_type": "execute_result"
    }
   ],
   "source": [
    "key"
   ]
  },
  {
   "cell_type": "code",
   "execution_count": 25,
   "metadata": {},
   "outputs": [
    {
     "data": {
      "text/plain": [
       "{'user': 'dcaM83FOnpuqxGJt4EABZA',\n",
       " 'item': 'dHgbL5EAEawIcqk6aXe2Ow',\n",
       " 'rating': 1,\n",
       " 'text': 'When I walked in there was no one to greet me despite them not being very busy. I went and sat at the bar a just hoped that someone would take my order. I got the lobster ravioli the food was ok but not really worth the price. My bartender/ server was very nice and attentive but the manager?/hostess was so rude and so loud. She was cursing up a storm talking to one of the waiters andI thought it was just very unprofessional. When I was getting ready to leave I saw a group of elder black women leaving and the hostess was shouting at them and making a scened and being extremely rude. As I walked out and talked to them and they told me about the terrible experience they had. They said they came 5 min late to their reservation and the hostess immediately started yelling at them and tried to turn them away. Then when they finally got seated and ordered, it tool over an hour for them to get their meals despite only getting salads. They told me that people who got seated after them even got their meals before they did. They think the manager/hostess had something to do with their meals taking so long. Overall the food is decent but not worth the high end prices and DEFINITELY not worth the harassment.',\n",
       " 'sentence': [('server',\n",
       "   'very',\n",
       "   'My bartender/ server was very nice and attentive but the manager',\n",
       "   1),\n",
       "  ('hour',\n",
       "   'on',\n",
       "   'it tool over an hour for them to get their meals despite only getting salads',\n",
       "   1),\n",
       "  ('meals',\n",
       "   'on',\n",
       "   'it tool over an hour for them to get their meals despite only getting salads',\n",
       "   1),\n",
       "  ('food',\n",
       "   'worth',\n",
       "   'I got the lobster ravioli the food was ok but not really worth the price',\n",
       "   -1)]}"
      ]
     },
     "execution_count": 25,
     "metadata": {},
     "output_type": "execute_result"
    }
   ],
   "source": [
    "raw_explanations[j]"
   ]
  },
  {
   "cell_type": "code",
   "execution_count": 26,
   "metadata": {},
   "outputs": [
    {
     "data": {
      "text/plain": [
       "316354"
      ]
     },
     "execution_count": 26,
     "metadata": {},
     "output_type": "execute_result"
    }
   ],
   "source": [
    "sum([len(rev_uis_triplets[k]) for k in list(rev_uis_triplets.keys())])"
   ]
  },
  {
   "cell_type": "code",
   "execution_count": 27,
   "metadata": {},
   "outputs": [
    {
     "data": {
      "text/plain": [
       "308579"
      ]
     },
     "execution_count": 27,
     "metadata": {},
     "output_type": "execute_result"
    }
   ],
   "source": [
    "sum([1 for k in list(rev_uis_triplets.keys())])"
   ]
  },
  {
   "cell_type": "code",
   "execution_count": 28,
   "metadata": {},
   "outputs": [
    {
     "data": {
      "text/plain": [
       "301912"
      ]
     },
     "execution_count": 28,
     "metadata": {},
     "output_type": "execute_result"
    }
   ],
   "source": [
    "sum([1 for k in list(rev_uis_triplets.keys()) if len(rev_uis_triplets[k]) == 1])"
   ]
  },
  {
   "cell_type": "code",
   "execution_count": 29,
   "metadata": {},
   "outputs": [],
   "source": [
    "all_review_data = load_json_gz('./raw_data/reviews_Yelp_5.json.gz')"
   ]
  },
  {
   "cell_type": "code",
   "execution_count": 30,
   "metadata": {},
   "outputs": [],
   "source": [
    "combined_review_data = []\n",
    "no_sentence = 0\n",
    "multiple_indices = []\n",
    "for j in range(len(raw_explanations)):\n",
    "    key = (raw_explanations[j]['user'], raw_explanations[j]['item'], int(raw_explanations[j]['rating']))\n",
    "    if key in rev_uis_triplets:\n",
    "        if len(rev_uis_triplets[key]) == 1:\n",
    "            rev_ = all_review_data[rev_uis_triplets[key][0]]\n",
    "            exp_ = raw_explanations[j]\n",
    "            assert rev_['reviewerID'] == exp_['user']\n",
    "            assert rev_['asin'] == exp_['item']\n",
    "            if 'sentence' in exp_:\n",
    "                list_len = len(exp_['sentence'])\n",
    "                selected_idx = random.randint(0, list_len-1)\n",
    "                rev_['explanation'] = exp_['sentence'][selected_idx][2]\n",
    "                rev_['feature'] = exp_['sentence'][selected_idx][0]   # add a random, or list all possible sentences\n",
    "            else:\n",
    "                no_sentence += 1\n",
    "            combined_review_data.append(rev_)\n",
    "        else:\n",
    "            multiple_indices.append(j)\n",
    "            for k_ in rev_uis_triplets[key]:\n",
    "                if all_review_data[k_]['reviewText'] == raw_explanations[j]['text']:\n",
    "                    rev_ = all_review_data[k_]\n",
    "                    exp_ = raw_explanations[j]\n",
    "                    assert rev_['reviewerID'] == exp_['user']\n",
    "                    assert rev_['asin'] == exp_['item']\n",
    "                    if 'sentence' in exp_:\n",
    "                        list_len = len(exp_['sentence'])\n",
    "                        selected_idx = random.randint(0, list_len-1)\n",
    "                        rev_['explanation'] = exp_['sentence'][selected_idx][2]\n",
    "                        rev_['feature'] = exp_['sentence'][selected_idx][0]   # add a random, or list all possible sentences\n",
    "                    else:\n",
    "                        no_sentence += 1\n",
    "                    combined_review_data.append(rev_)\n",
    "                    break"
   ]
  },
  {
   "cell_type": "code",
   "execution_count": 31,
   "metadata": {},
   "outputs": [
    {
     "data": {
      "text/plain": [
       "316354"
      ]
     },
     "execution_count": 31,
     "metadata": {},
     "output_type": "execute_result"
    }
   ],
   "source": [
    "len(combined_review_data)"
   ]
  },
  {
   "cell_type": "code",
   "execution_count": 32,
   "metadata": {},
   "outputs": [
    {
     "data": {
      "text/plain": [
       "422"
      ]
     },
     "execution_count": 32,
     "metadata": {},
     "output_type": "execute_result"
    }
   ],
   "source": [
    "multiple_indices[20]"
   ]
  },
  {
   "cell_type": "code",
   "execution_count": 33,
   "metadata": {},
   "outputs": [],
   "source": [
    "key = (raw_explanations[422]['user'], raw_explanations[422]['item'], int(raw_explanations[422]['rating']))"
   ]
  },
  {
   "cell_type": "code",
   "execution_count": 34,
   "metadata": {},
   "outputs": [
    {
     "data": {
      "text/plain": [
       "2"
      ]
     },
     "execution_count": 34,
     "metadata": {},
     "output_type": "execute_result"
    }
   ],
   "source": [
    "len(rev_uis_triplets[key])"
   ]
  },
  {
   "cell_type": "code",
   "execution_count": 35,
   "metadata": {},
   "outputs": [
    {
     "data": {
      "text/plain": [
       "[19145, 27837]"
      ]
     },
     "execution_count": 35,
     "metadata": {},
     "output_type": "execute_result"
    }
   ],
   "source": [
    "rev_uis_triplets[key]"
   ]
  },
  {
   "cell_type": "code",
   "execution_count": 36,
   "metadata": {},
   "outputs": [
    {
     "data": {
      "text/plain": [
       "{'user': 'J4LGq7xYlHDfbfHbwbyK8Q',\n",
       " 'item': 'e3PBfbtXUjMziX6XGsOMoA',\n",
       " 'rating': 4,\n",
       " 'text': \"We've tried really good udon, from Tokyo to those hidden gem noodle houses in LA & Torrance, CA and I have to say Cafe Sanuki's is on par. The ordering system is cafeteria style where you walk in, get a tray and pick your dishes or order them at the counter if it isn't there. I've been wanting to try their Carbonara Udon after seeing it on their Instagram page and I wasn't disappointed. The Carbonara sauce (not just a dressed up Alfredo) was authentic-tasting, right down to the generous sprinkling of hand-cut bacon chunks--yes, chunks, not those dried bacon bits found in shakers. My wife opted for the more traditional Niku Beef Udon which boasts Sanuki's silky soft udon noodles served in rich and flavorful signature broth topped with green onions, tender marinated beef! Cafe Sanuki's price is also on point, which is why we also tried a few side dishes like their Takoyaki and Pork Belly Bao. There's more on the menu we'd love to try so it's a safe bet to say we'll be back. We're just happy there's finally a good udon shop here in Las Vegas (and the inly ine we know that offers the Zaru/Zuru Udon!\",\n",
       " 'sentence': [('price', 'on', \"Cafe Sanuki's price is also on point\", 1),\n",
       "  ('gem',\n",
       "   'hidden',\n",
       "   'from Tokyo to those hidden gem noodle houses in LA & Torrance',\n",
       "   1),\n",
       "  ('pic',\n",
       "   'you',\n",
       "   \"get a tray and pick your dishes or order them at the counter if it isn't there\",\n",
       "   1),\n",
       "  ('udon', 'good', \"We've tried really good udon\", 1),\n",
       "  ('udon',\n",
       "   'good',\n",
       "   \"We're just happy there's finally a good udon shop here in Las Vegas (and the inly ine we know that offers the Zaru/Zuru Udon\",\n",
       "   1),\n",
       "  ('shop',\n",
       "   'good',\n",
       "   \"We're just happy there's finally a good udon shop here in Las Vegas (and the inly ine we know that offers the Zaru/Zuru Udon\",\n",
       "   1),\n",
       "  ('udon', 'real', \"We've tried really good udon\", -1)]}"
      ]
     },
     "execution_count": 36,
     "metadata": {},
     "output_type": "execute_result"
    }
   ],
   "source": [
    "raw_explanations[422]"
   ]
  },
  {
   "cell_type": "code",
   "execution_count": 37,
   "metadata": {},
   "outputs": [
    {
     "data": {
      "text/plain": [
       "{'review_id': 'gP21AT5vDEGKF4PiumImwA',\n",
       " 'useful': 2,\n",
       " 'funny': 2,\n",
       " 'cool': 2,\n",
       " 'date': '2019-09-19 19:55:42',\n",
       " 'unixReviewTime': '20190919195542',\n",
       " 'reviewerID': 'J4LGq7xYlHDfbfHbwbyK8Q',\n",
       " 'asin': 'e3PBfbtXUjMziX6XGsOMoA',\n",
       " 'overall': 4.0,\n",
       " 'reviewText': \"We've tried really good udon, from Tokyo to those hidden gem noodle houses in LA & Torrance, CA and I have to say Cafe Sanuki's is on par. The ordering system is cafeteria style where you walk in, get a tray and pick your dishes or order them at the counter if it isn't there. I've been wanting to try their Carbonara Udon after seeing it on their Instagram page and I wasn't disappointed. The Carbonara sauce (not just a dressed up Alfredo) was authentic-tasting, right down to the generous sprinkling of hand-cut bacon chunks--yes, chunks, not those commercialized dried bacon bits found in shakers. My wife opted for the more traditional Niku Beef Udon which boasts Sanuki's rich and flavorful signature broth topped with green onions, tender marinated beef and thick and soft udon! Cafe Sanuki's price is also on point, which is why we also tried a few side dishes like their Takoyaki and Pork Belly Bao. There's more on the menu we'd love to try so it's a safe bet to say we'll be back. We're just happy there's finally a good udon shop here in Las Vegas (and the only one we know of that offers the Zaru/Zuru Udon!\",\n",
       " 'explanation': \"We're just happy there's finally a good udon shop here in Las Vegas (and the only one we know of that offers the Zaru/Zuru Udon\",\n",
       " 'feature': 'udon'}"
      ]
     },
     "execution_count": 37,
     "metadata": {},
     "output_type": "execute_result"
    }
   ],
   "source": [
    "all_review_data[rev_uis_triplets[key][0]]"
   ]
  },
  {
   "cell_type": "code",
   "execution_count": 38,
   "metadata": {},
   "outputs": [
    {
     "data": {
      "text/plain": [
       "{'review_id': 'pHXCr-7s0M0gJGFuQxZ7lA',\n",
       " 'useful': 1,\n",
       " 'funny': 1,\n",
       " 'cool': 1,\n",
       " 'date': '2019-09-17 17:59:38',\n",
       " 'unixReviewTime': '20190917175938',\n",
       " 'reviewerID': 'J4LGq7xYlHDfbfHbwbyK8Q',\n",
       " 'asin': 'e3PBfbtXUjMziX6XGsOMoA',\n",
       " 'overall': 4.0,\n",
       " 'reviewText': \"We've tried really good udon, from Tokyo to those hidden gem noodle houses in LA & Torrance, CA and I have to say Cafe Sanuki's is on par. The ordering system is cafeteria style where you walk in, get a tray and pick your dishes or order them at the counter if it isn't there. I've been wanting to try their Carbonara Udon after seeing it on their Instagram page and I wasn't disappointed. The Carbonara sauce (not just a dressed up Alfredo) was authentic-tasting, right down to the generous sprinkling of hand-cut bacon chunks--yes, chunks, not those dried bacon bits found in shakers. My wife opted for the more traditional Niku Beef Udon which boasts Sanuki's silky soft udon noodles served in rich and flavorful signature broth topped with green onions, tender marinated beef! Cafe Sanuki's price is also on point, which is why we also tried a few side dishes like their Takoyaki and Pork Belly Bao. There's more on the menu we'd love to try so it's a safe bet to say we'll be back. We're just happy there's finally a good udon shop here in Las Vegas (and the inly ine we know that offers the Zaru/Zuru Udon!\",\n",
       " 'explanation': \"We're just happy there's finally a good udon shop here in Las Vegas (and the inly ine we know that offers the Zaru/Zuru Udon\",\n",
       " 'feature': 'udon'}"
      ]
     },
     "execution_count": 38,
     "metadata": {},
     "output_type": "execute_result"
    }
   ],
   "source": [
    "all_review_data[rev_uis_triplets[key][1]]"
   ]
  },
  {
   "cell_type": "code",
   "execution_count": 39,
   "metadata": {},
   "outputs": [
    {
     "data": {
      "text/plain": [
       "73579"
      ]
     },
     "execution_count": 39,
     "metadata": {},
     "output_type": "execute_result"
    }
   ],
   "source": [
    "no_sentence"
   ]
  },
  {
   "cell_type": "code",
   "execution_count": 40,
   "metadata": {},
   "outputs": [
    {
     "name": "stdout",
     "output_type": "stream",
     "text": [
      "242775\n"
     ]
    }
   ],
   "source": [
    "print(len(combined_review_data) - no_sentence)"
   ]
  },
  {
   "cell_type": "code",
   "execution_count": 41,
   "metadata": {},
   "outputs": [
    {
     "name": "stdout",
     "output_type": "stream",
     "text": [
      "316354\n"
     ]
    }
   ],
   "source": [
    "print(len(combined_review_data))"
   ]
  },
  {
   "cell_type": "code",
   "execution_count": null,
   "metadata": {},
   "outputs": [],
   "source": []
  },
  {
   "cell_type": "markdown",
   "metadata": {},
   "source": [
    "### "
   ]
  },
  {
   "cell_type": "markdown",
   "metadata": {},
   "source": [
    "### Metadata for Users & Items"
   ]
  },
  {
   "cell_type": "code",
   "execution_count": 42,
   "metadata": {},
   "outputs": [
    {
     "name": "stderr",
     "output_type": "stream",
     "text": [
      "100%|█████████████████████████████████████████████████████████████████████████████████████████████████████████████████████████████████████████████████████████████████████████████████████████████████████████████████████████████████████████████████████████████████████████████| 209393/209393 [00:01<00:00, 121081.45it/s]\n"
     ]
    }
   ],
   "source": [
    "meta_data = []\n",
    "meta_file = './raw_data/yelp/yelp_academic_dataset_business.json'\n",
    "lines = open(meta_file).readlines()\n",
    "for line in tqdm(lines):\n",
    "    info = json.loads(line)\n",
    "    if info['business_id'] in all_item_ids:\n",
    "        meta_data.append(info)"
   ]
  },
  {
   "cell_type": "code",
   "execution_count": 43,
   "metadata": {},
   "outputs": [
    {
     "name": "stdout",
     "output_type": "stream",
     "text": [
      "20033\n"
     ]
    }
   ],
   "source": [
    "print(len(meta_data))"
   ]
  },
  {
   "cell_type": "code",
   "execution_count": 44,
   "metadata": {},
   "outputs": [
    {
     "data": {
      "text/plain": [
       "3616"
      ]
     },
     "execution_count": 44,
     "metadata": {},
     "output_type": "execute_result"
    }
   ],
   "source": [
    "sum([meta_data[i]['review_count'] > 300 for i in range(len(meta_data))])"
   ]
  },
  {
   "cell_type": "code",
   "execution_count": 45,
   "metadata": {},
   "outputs": [],
   "source": [
    "save_pickle(meta_data, '{}/meta_data.pkl'.format(short_data_name))"
   ]
  },
  {
   "cell_type": "code",
   "execution_count": 46,
   "metadata": {},
   "outputs": [],
   "source": [
    "meta_data = load_pickle('{}/meta_data.pkl'.format(short_data_name))"
   ]
  },
  {
   "cell_type": "code",
   "execution_count": 47,
   "metadata": {},
   "outputs": [
    {
     "data": {
      "text/plain": [
       "{'business_id': 'q3YnYPjLuBGRDi_59yTC5g',\n",
       " 'name': 'Sidestreet Pho and Grill',\n",
       " 'address': '8560 W Desert Inn Rd, Ste D1',\n",
       " 'city': 'Las Vegas',\n",
       " 'state': 'NV',\n",
       " 'postal_code': '89117',\n",
       " 'latitude': 36.1300414,\n",
       " 'longitude': -115.2777854,\n",
       " 'stars': 4.0,\n",
       " 'review_count': 707,\n",
       " 'is_open': 1,\n",
       " 'attributes': {'RestaurantsGoodForGroups': 'True',\n",
       "  'RestaurantsTableService': 'True',\n",
       "  'ByAppointmentOnly': 'False',\n",
       "  'BusinessAcceptsBitcoin': 'False',\n",
       "  'GoodForMeal': \"{'dessert': False, 'latenight': False, 'lunch': True, 'dinner': True, 'brunch': False, 'breakfast': False}\",\n",
       "  'RestaurantsReservations': 'False',\n",
       "  'OutdoorSeating': 'False',\n",
       "  'BusinessAcceptsCreditCards': 'True',\n",
       "  'RestaurantsTakeOut': 'True',\n",
       "  'HasTV': 'True',\n",
       "  'BusinessParking': \"{'garage': False, 'street': False, 'validated': False, 'lot': True, 'valet': False}\",\n",
       "  'BikeParking': 'True',\n",
       "  'Alcohol': \"u'beer_and_wine'\",\n",
       "  'WiFi': \"u'free'\",\n",
       "  'GoodForKids': 'True',\n",
       "  'RestaurantsAttire': \"u'casual'\",\n",
       "  'RestaurantsDelivery': 'True',\n",
       "  'WheelchairAccessible': 'True',\n",
       "  'RestaurantsPriceRange2': '1',\n",
       "  'NoiseLevel': \"'average'\",\n",
       "  'DogsAllowed': 'False',\n",
       "  'HappyHour': 'False',\n",
       "  'Caters': 'False',\n",
       "  'Ambience': \"{'touristy': False, 'hipster': False, 'romantic': False, 'divey': False, 'intimate': False, 'trendy': None, 'upscale': False, 'classy': False, 'casual': True}\"},\n",
       " 'categories': 'Vietnamese, Restaurants, American (Traditional)',\n",
       " 'hours': {'Monday': '0:0-0:0',\n",
       "  'Tuesday': '11:0-22:0',\n",
       "  'Wednesday': '11:0-22:0',\n",
       "  'Thursday': '11:0-22:0',\n",
       "  'Friday': '11:0-22:0',\n",
       "  'Saturday': '11:0-22:0',\n",
       "  'Sunday': '11:0-19:0'}}"
      ]
     },
     "execution_count": 47,
     "metadata": {},
     "output_type": "execute_result"
    }
   ],
   "source": [
    "meta_data[55] # business -> postal_code, name, avg_star, categories, pricerange, is_open"
   ]
  },
  {
   "cell_type": "code",
   "execution_count": 48,
   "metadata": {},
   "outputs": [
    {
     "name": "stderr",
     "output_type": "stream",
     "text": [
      "100%|███████████████████████████████████████████████████████████████████████████████████████████████████████████████████████████████████████████████████████████████████████████████████████████████████████████████████████████████████████████████████████████████████████████| 1968703/1968703 [00:14<00:00, 135901.37it/s]\n"
     ]
    }
   ],
   "source": [
    "user_data = []\n",
    "user_file = './raw_data/yelp/yelp_academic_dataset_user.json'\n",
    "lines = open(user_file).readlines()\n",
    "for line in tqdm(lines):\n",
    "    info = json.loads(line)\n",
    "    if info['user_id'] in all_user_ids:\n",
    "        user_data.append(info)"
   ]
  },
  {
   "cell_type": "code",
   "execution_count": 49,
   "metadata": {},
   "outputs": [],
   "source": [
    "save_pickle(user_data, '{}/user_data.pkl'.format(short_data_name))"
   ]
  },
  {
   "cell_type": "code",
   "execution_count": 50,
   "metadata": {},
   "outputs": [],
   "source": [
    "user_data = load_pickle('{}/user_data.pkl'.format(short_data_name))"
   ]
  },
  {
   "cell_type": "code",
   "execution_count": 51,
   "metadata": {},
   "outputs": [
    {
     "data": {
      "text/plain": [
       "30431"
      ]
     },
     "execution_count": 51,
     "metadata": {},
     "output_type": "execute_result"
    }
   ],
   "source": [
    "len(user_data)"
   ]
  },
  {
   "cell_type": "code",
   "execution_count": 52,
   "metadata": {},
   "outputs": [
    {
     "data": {
      "text/plain": [
       "3096"
      ]
     },
     "execution_count": 52,
     "metadata": {},
     "output_type": "execute_result"
    }
   ],
   "source": [
    "sum([user_data[i]['useful'] > 250 for i in range(len(meta_data))])"
   ]
  },
  {
   "cell_type": "code",
   "execution_count": 53,
   "metadata": {},
   "outputs": [
    {
     "data": {
      "text/plain": [
       "{'user_id': 'ldkOeC_ionczQdTTv7954g',\n",
       " 'name': 'Monica',\n",
       " 'review_count': 509,\n",
       " 'yelping_since': '2009-09-26 23:03:20',\n",
       " 'useful': 2050,\n",
       " 'funny': 755,\n",
       " 'cool': 1172,\n",
       " 'elite': '2012,2013,2014,2015,2016,2017,2018',\n",
       " 'friends': 'vUe_oMp8lVX2yl0c0K5UPA, 1cHyCkgsBY-Vm7T8le8zTA, V2yvmSxPFt3NobiP3kJz_Q, xbfFwxIVFLSKAgDZ-JIIuQ, mJ4lJqYsTnLg1_SoQdtNxw, IqIGQDORptBLTck3CV5bVw, cWw1gyd4IMsLPZRBVVrY1g, 64ppgKw3K9Dt2zLKQIkflg, RBEK-YtY3d5vrU9WotqRBA, 6Z3eOA0pygSyR0bhs3e7pA, Itw8VbqSR3w_9NYbSW-Xgw, bVlNrmQce3EtLIKNURiZJQ, hHhkABQFxzTBZk5eey0nsw, y1uooV1X1a_UZLnHrqkjiw, hRwvsb2IM5JImDHSLqKoIA, Cr3qt7VkPE1DxvEe25C0-A, l7ca06SbARcyUB_sxcSs4Q, upPnHi2Fwqpj3VAYXP8dhw, M2KpWUcZRNxiE6Pbip5oAg, PsO4QWBnlanub-GlaOYGBw, bjH7UXbxKjOob8yJgs8X-Q, f9DCrOFyO-3ALYxT7LJ_Jg, RNbu0LM-RYNnWT2Jxq6nHA, KjbX_39eaT0XWLrVCB_Pyg, ujdyuhBWx3m68IhVRthUVw, TDnlRojKLY_U-ihoqc50PA, Mzly2I7APeoIR8-MRatCUg, ylZuAgRNcJl8NrHr1Fq0lg, _n54aJ5YwcvE8NUzdtHmyg, P_zJ0bvns-RgGdCC2sNi2Q, d6-A8ziC7wTUnwLUFg_TNg, dQc6VbJN3zN_po9spgFysQ, dUA9x7zNEcjnTGSx4M4S1A, 3CzuOl-nZQsk_brwy-LStw, wJoYctT7aPRGjwo05sjUQA, zj4krsutpQu3bRjuJHt_sw, GVKpRGEqyTsmajp3VJB0_g, fZI74YHHDVbzFFUsbZUvgw, L1_7ooZkTvtFoELLr2HZNw, VlYd7Ys6DWGLYwmO64F6Yg, p2YJzBDTaYpD-XB15q2nJg, _o-KGyRZcyffs27d_mSWZw, ufFIpmTD5qjjOfOhCCYUPA, U_vbWl-m-0wFC_RCjD7cyQ, 4tKHI-0PXxNFOIuPRr5DsA, x0ufaAxxrUqjXLcleOvT8A, cnQsK4k8ppbfEYoKFerA_Q, mk5NxXNe2O9LDNYBg8-m5Q, 0L_eb-kjoDdGeKHMuNqYEA, n_4BohcAh0rxjnDbM6AWvw, u3G15dpK4B1Dlymm5mLemQ, PpVuMsy2kypJZb1FouK2oA, NAWUB5wc4K6Hsv8MVMVGHg, vR4MwAxyFvS9GwBg1wqtEg, s4i7xfHfruxlWXrxJqc0QA, 8WeVup-t03ANqNWpWGRITg, qLfujrTBF9XXGa9MaNNv4Q, lJ7HiMq_A3Rtfli_1jnnjA, ltAa8GwoChRXS2FByYPTkg, HUOwFVzuYQKPakIhoim0Zw, IZ-15Y3uFUV6CfR8vPtlfw, 6Biks-qRQuDen-N9SYzo1Q, g0HZKwliqFyrT0qAnjnkHA, lM77lhdDOxJjvSSNNj55uA, -9xaymQuXaC2vL4l9U5frg, 5leauPm5R979ORzs0uuzXw, _Sa9VKULXVaH5r9ZalI7ww, GCpacs4QvVJ0Wi57TJmwWQ, oYJ4k9X8rAc2-LgAZdB9rA, K1nkiANC9IBfV0TYVoDR-A, OcqE78NkTgRDC4muxvfbLA, NsWwfedmrdU8Km2E-dfBBw, 1eRrJPxXRX61mM4WPEKYvQ, mMow3IzfcUIadDZhuO1K-g, jRsNbvH4p24XAx1WX21I4Q, QVrqt3i8yieRM1_9y72esw, d5MUm8FiyNWF7t5bdSh3WQ, ft8nwyMu6FhxPzSWyrHTYg, boum_Mfj6M5vXX5mezQA1A, IqsJqwGP0tETOlQ3OoTzbw, Y6-Ngf7kjn8z0Fp83NQiCA, dR3zi8KM3kLOZxnj9a8KvA, e392Zc4n_cf-BEth08dsqQ, 8pkZ0dxitwYE2bR0l0nMcQ, 3zxy3LVBV3ttxoYbY4rQ8A, YNkhy2g2HvbdC2uxO99o9A, -aVq25qY69oqdEQUdCQICA, zi1-TogvrY-9JKY9UlsMqw, NtTvUvfoQDyBV-perA00vg, JssIQqjUJgkjKZwcwd-Hng, PSWWUObgi-str9zZsdEFmw, B7klY_hnCIXBJpEvs0uozQ, Tt3jilXzWmOCzunrts_XMw, KVmYqyEKAFIgC2G9vA4qGQ, t8PN1mFxF-FHQc9cNfmWBQ, ADTZvzv4hAQwCURg4HOHHA, hOcOzhyTioNntM_HM0VmNQ, fiRi-Jb96rSthODF0BuNyA, FyC8aaF9wAoa-BpqJeAdcw, y1BmrnlKWDg-EzknTfvOxA, GTeE8FB6FnufbXensiNcmA, 5glXGEEgctxrWl2dluuKtQ, 3owKKoWfO7gBm4Q3NgrL8g, DFHQKNJON_B17-rXuPHgAA, MDQaftkTHpa7uYQFT5ESXw, BJDFtAMqLJNVw5V1UkrVzQ, ikStXWzRbhf0o5daUBwWYg, UO8K7rZYQJ0u2Oa9h3fXVg, m3EIVC81-mwEN3DzXC7eMw, ZTVRKcP5cfj0wgCrlMfWWw, pO92C2rUJRfk1wI418I2mg, yDZuqO2Cz0w2axwvQBGMVw, Pypr2vMcVdj2ap_54MTa7g, xwsJIWUAvc3tkpyavnSPjQ, gstFX0NFHumYiaPGSYsilg, 9FHAlCBd429gTNHLBT2n9w, jw-fmnTeAF2o1K0_OkCccg, 2p7rae7haJRDBgMLiS4bbA, poE-FsLJdi9jJD-QtY7lcg, vbzbFfJi5Ok0c4pGeAuMVg, Wtob0VVAk-kmLobgegTarw, 0iuWgNb-KbM8zY_xUKqObw, HZMP5Iau-u9K9MhFrvFczQ, JtZ5meuHT1PCQSgGw-z8zg, 1dqkzF-tYuu1ewIh4gQm2A, mxnis1VG5Y3_h-fNKjtX-g, -sqXhbaD5LVb2m_dIssV3Q, y5_M0jEqybNtTxUNaMLcEw, kJPZ5vX4bNYEll5mSqWZbg, mjw_yHoT00SFlSR2tY3T0g, DTOErzkuQn7tN5o55B9ZNg, NnWhgm2Pz1KH67PY7YG9Jw, PjceathXHfbJx7Hu9cC6sg, yaUn0xHkfPxI39g5yiSq2g, Zl4n38U_T0g0POSDR7fPIA, cGc24OG_A30m__aHh_-Ujg, dki_ONGXj9UWOx6bQSpkbQ, uN7vOWf1EOyJYH_H4cQjbA, wbM569_V1AxIghhg-d1EXg, F-8_T1lRxpN_dBj8k2uSlQ, dw2vAno0RDhtxpm2Ly2IUA, 42gXAohAkvgLHEHahGg4Pw, kIcZU6m8Qevo_tIbmVxCwA, Q4Qoy0Yhuedf_F4G1EGsEw, RgDXkphYsvJdCWkuEVfRiw, CcRfRjqvHkMTWK7aU4bnPw, bA228T3ajeaGqMjsOZTExg, PSdkq7LnefudPRPnsHs_PA, upsfkmG1MiatwWZVUAGjnw, IZMnP-UHqqB5pYhl_WyCUQ, BXNDSb-se5s7NufKhyY5-Q, H2udpYwM6WtipKqMyAS5ZA, YymHGt8RiImWZX5DmFlhMg, 6Fkn2cT6lqNPRQZhXnh-NQ, NoaeDeUY6r1uKtsoF9rIHA, VgLT0mswlOIDSqfQIUOkFg, J31YnTktng6xOEjMwUI7gQ, VHGl-EJCSZR9jtyY5XG72Q, iIYbNSAoELr22Onf-tCecA, stGcf-b0fZw1FMth-c3I6A, lADSVfwmVEcCltZfovHMVw, 73H9P3DO-cY8SfTsXcNaXQ, kaMBqNqZbCb7s0bHhfJ8CQ, ncvgNeEsAIAuMWYFN2blhg, Pkg-U--pHwDudGXv26pqMw, DEN5GuDr2sKBprkygzlzMg, 7_kMfpJw-dpViNa9e7J7kw, A_nYNaHSDKWmBUOHlcYAJg, mDmoIj5rb82KOy0RBwXrkg, khbm2B9jQx7s_xfV4_IW6A, kZE5K9p0UZqdS7l1s9Jn1Q, Gg8l36zARvYVPJ32hA4tOA, AyYKTOCL5qM8589oBsqbfA, xoI0hYwp5GEbsgf5gUS1nw, rMsB82tk9uOB6JumPMgczg, i3BADJwNlS2D_ZzqBLJTcg, IL2ROnBX022SJj2xhyHpQA, J9yXmO8xv0imwD3Y7s_lPA, ryzVILLjzCTUClBVe4xegA, WLqOecyWcqZnEHQfM2UFMw, bylJtNr9AbAiuIgqJB8gfg, pg0SYMLOPeqkNE74HRWr3w, Pd3xR1HOCOYt9z33YcDrRg, rBoMiTHLxx_hjfFpVXN7cg, MoUcsky93deae2VwGG4qrA, _pjXSsCd4DbwAIJfSpGZmA, aHcY-RFVhlcY8vFrT-z5NA, sRIkQKynysNsXzeSquJrIQ, SGvsZuy8MXL9cw9W1Vrxjw, IFFHqEizEuzq_zQ7zYnZxw, KZRg7A1UvQS5m_5aEoiXQA, tnF_pc3RO2ZIWjb4tlCnpQ, chmOEVUeumUeERdB9C_Dhw, 7GX54Wbd-av74ySZRVbygg, mziYbgGzpS69MRB3LTENkw, BpZhWMx-_ZKLIl0BvTBpwg, VJmSsWFo-Whv6fpCevy-pg, rdTGINoKmhESJShNK3T0jA, h7HWZPqSN40UkqvN-NAYIA, -gc64pFmB3wJI7sq50jIvw, Cd8emhWzKiaOEH91ZKgEZA, ZunpIqKOBFyJoxcsbKxH5w, lem4xAPky5NvWVKhlvKOUQ, y04uXYmnnrR-0GdNBxuTOA, 9QQS4gkciKUwGnKKecc97w, sWHSeA36BSmpbo1YOs9NBQ, drJBSla_hamMGVgQSQxf5A, EihVt_L_DsV6E-OlPSidHA, L6DbdSSUZ9SaeBDLBpnNiQ, -EQ_PrBgSYadWSigBsmEiQ, FDl2n7XpuVX1iiKoxV5nuw, xU9xpGnviTnpahoGgalX_A, giCRbcdWn8tsZUkWRqYZnA, 9kCfj8A6CjizIPdYuTa2bg, 9TFT9aqHmXPKIatP_Za-DA, xd83pVCDLiBRJTba4bE_HQ, Z_8clYC-IkqrfHcTCjzAiA, MjQ-VfeX4ORrmvwfa3eNRg, 5O0ejMUB7XHzyTf1rLu2zQ, AAhUr2dL-Z8EnDVE7L0MmQ, R9Sg7UkLOTle_7lyXXOTEw, BiYoYIgjRXSs1tgxHVmcig, I9gbyj7mYYXRRiIGNFpu_A, DmAHfq2q9MfOvRRkJIYe9w, QTwDthfy6hAcNlVpwRWb4A, BfWfP68SdrujhzRKWMzOgQ, du0Qtryz_sCP_wd19RSYLg, wjb9m6CfDDFrcUehYS346g, tBXwcUqNhbVPUh5fS7dllA, btYyY6zkA_kvt0u6SMQYTA, wpCEoPmyPhU3OXUdUcMuTQ, mpqSlvOFNFFXWqnOim9TOg, 6DC0wklyCCirKpglOOCyow, Mdk0rz4p_6Upm2FwT2FDHw, DYPHsYoAcy2VP9EXXf_K9Q, -NbeVN5tnwdyYAvdNkKMjw, rzc_rZh0x_dw3KgrWaaCWQ, uvF5F-R_CCbAO-eNjLsz7g, mEmj8pJmuUMB_CupY8RmMA, 4_j3bJHzvuBwu6qRXehjJA, bnkec2SmOHR7KzWFlSU0PQ, WxO-Kvl7DluLoy091uF1HQ, 9_AW43Aoprx9zS9bk8H01w, YByTsXhSJo6jdf2oC589xA, -2CZx6JxMj1raYw_CeXUTA, dCxvi7Es5o5dKgGCT7vCNQ, L6BdBVcEPDxfJhknhhWYIQ, BIyo1Hf23H6EIujLSYzw2g, iJVsB4SST-yiBE24e54KBQ, aDLhP6j4XJ1-484AkLifcg, 0Iak7OaONhkJ6_soNTzf2Q, p1ney-lvcGP4YhcI1rfs8A, Z6X7wj6Z3JHPQfS7Fysopg, hP77ekIt7q922IwS1DHk_A, RaocpMaJn96FL2IILCQ7JA, -Imr1FuKIOclB22lsLv0rA, dzm6JzYbZSxhzTwQ5quG-g, 6iPc1T-xeEBudaxxBy6haw, t0Q0p9fYkAOQwxd2wjuVig, 2X5-M_r7uBm53JQHPWq3KQ, JeVZgl6ykwbvyRGWudU7rA, n2LM24lHn0f6aeUI_JJYJA, -uaW1x0piE_GHq1a5PmEKA, BZIWFA8QbJUKr61cxwDXtw, Ay3wqprbjNPp2B8axwcv_Q, uPADb4d7Ua1_LeCyj5DXRw, 93dgvt4r0B4P6Tx78melQA, 8reymsZi8NjaD4ezAfNZzg, qJwc6VUOttRB0W5qhFo5wg, huuqSfQUV96FoJopt_ARjw, B7p4CEblAmsin8TFQGm9zg, iEFAnpeU0A_nVc4RdGxP5Q, d6rhc9xb-KENLU1zqQcQXQ, CawOJG8Q-XmsNkaFPZBxOg, z4dmEZf5wvTVnWbYBGgJxw, bCfEgE1S8RhXHaC34sw9Nw, Ij-G1TH1HZCkUbQsvuCXWg, s0TKz5XT_8AautwM7SlBsA, WoyK44hlr6ve8UJCfW1uAA, H2KecqMll0uQccT_S1J1ag, n9davvnX8OZthdMyC4M3Yw, 1_M8C5Efo8r2XiQUhJM3gw, 0iQxKxrZDv6CUpNf7_teTQ, BZyenicXZP8A3iMKFB6opw, SviANh0p42BkNDD9FKR5kg, premtm6v-dvkZ14tTJ6yJw, XHgpExMsWp8DN0ciZFtQ4A, yxYEvuGESedtOs1eGb82dw, SGRB2e0aagNkK5HOoVG7TA, Vee9WumkUWXz4XI0FpjGng, 7eZ4kawgQFT0diq_Y09tXw, yLtz7oZVSqxKOglsi_-Phg, rSsbCUYJpw0mkqZ-Hwlj3Q, MOUH2sPERmHmx83HTFOU1A, 9TtBYy_0yJsnHDW10os3cg, NeVJeEAHyp0G1wfVQKHIQg, ul3fA4YpTJbNmgBeGNJ2Mw, r04zj2pKbU9na9jh09vLgQ, L_IQLvKOjCDTaf4iG3tzDQ, kVdKG3JNRKCW8g-yvDfKcA, cw-J_DIpayw4mqbJ2jVlKg, kN0KrCC3NC2q7Tbc8GFwzg, tQOv0dZnoQO-XxwGmo0osg, pXx8ZNj2xt3uLWI2uw8EUA, yW_32MkxcAH0djrkSrY_Ng, Xn4VNf7_kwLgINbDGwHMAw, Pjfob_ehghVSUsyl1oozAA, nB0v5GcsQpZxc5U2PQISdQ, LaLTqNPlyOMosQleyBgvRA, fAfPZexu1h_nqUJL0Plopg, Pw3F05xi7KQoP2FdZjxwjg, 66MuIO4CosmulHv2sig9Wg, 3fwp2KH1X2KLU-laPLlzmQ, PUoM7dtP0LKBxujOACsy_A, Gv7yLqLR5j3no0fH-Dl0lw, 5MWgERqPEgsJHoFikTLMyQ, ZHZh9lQu4MXqU-AqqqSA8w, O3EV2K_BnzXG5vnS5XdF1w, 9espsv3rsMPhW3Jp4QnNDg, 0hw7wmMTv7j6DnMfHvd9WQ, h26L3dZL1As_KCng1OrrGg, HEo7C59jf1YvOoJiGQNvBg, Qj1oRGGmwU-BNo8eUICjeQ, 5cnFjNasyBRrKqmjsOw9Ew, pc8Wuq-DrMTX2ANCFUAM_Q, OJ6hjvWYnnmlciz8otYtdA, eM9VhoxlLHKQfxoqAUxT3w, wh7z834761WNSkCTACvtwA, UTDv1NQ0BDd5n2k6DyRdsg, qTYwg9N3lZcRg5k5CLHGEg, 6jHQkGWiAP2rz2IKfZxz8Q, u-DzPL1zJZLo-xtYyxmOrg, 5zVxvvS9u4Ni7PPwHXpg1w, b5eWTYtTsCcBwweEkmzOlg, xiq2qWtoyK3VQyO1NUEb8A, xZIS0iyY463Pxv9_v8GBTg, 4LnTxJVyR_6k-56pw2DFGQ, v6siiCS_MjK2u2LvYXistA, ZVj3yLncL0AGmPtQCgQzjg, ft1YgQ6gz0DwSh4G2VhmHQ, 4VeI-cL42xv8thqkSLuUeA, k2U9_Llt-OjS4oBVJqwUMw, Ixvidfsztbnh9ydd2PL2uA, 4aCF363Weu2RNAtl3mJ2eg, ZMrrMJIbWTTe9TQPOZT_Xw, gYm5WujteCSMhwdA2jqqzg, Rtda94q2oyCae_cfeXcDKA, rjVc9vvW5h5mGun0qM35FA, Kd33BceVx5Bq46yABE0qLQ, DcTeXN2MOTZfHNTIey7toA, frhvnmgj7Xp9jDFdrCWDdA, FHfTj-6-nW2JmY5QXOG7Qw, VzDNh3EqkWGTG_fxBEQEmA, OZnSThw9or8gvsAQe7mA5w, waU73yz0bACTogNVzbHEVQ, C4BC_I0C_ZF1DqysmxOMrw, APK2yrvPHAcGXM2pm8ZCVQ, HHYFEDpSmK-BBM0NiYE5dg, vbU22KKNTuP4F_3pQYNE8A, G1uLI-WxSfNXhnZr93pzzQ, phMklT9gHFxqA0WIY9Damg, CHeg0Ar8p0tcIt9Kjbof5A, dmNhiDUaoBZzF3Zx3CMsSw, GZXnvRT_4GikSJ2FZ880uQ, Ozb5wbQtcQvWA0DSYnn4nw, ITYaswucUPJqRDwuDlTJWA, NTB2UE7D2dTF-Zq1wg3Dkw, KKYWpTVmqEbJ2sMUxuYFAQ, D3XsswPaVD1-Fcaz-GjWIQ, ovr0gNZW1MYu1YUxzfhD4w, m7Dv5hmJyZZ8sNZcQZcG4w, jYqsQKAoyIKUEziIIAIx4w, VrKGFwtowM7nkD_F1mypWw, dvDm7GXkcSzdTmqvEPHwow, goXxVVkpjsIsgO0kePqdQA, uVDJlnPJNx07_jDqI4jgYA, 1ndbGFoz4MRzyhlgLYFzNw, NkRIuIhn6-DGMItAVOPkiA, vEWvZy22oWIzQm4yT9MPrQ, DlNFNf6YwiyZU2FgEXvtDg, -9-zua6RbBkyXnUP-xRs-Q, sxrbLwuq2CC5Zjf4pDiITg, _d8xYE-X4VuMmHXtmeES0A, vhkWdR3Dme9LsWkDPhT0JQ, L-D8A9Td8mKZvI1l5_nKvw, AAOpru2J0kz1h5dVfWVdmw, zpBBCTPLD9DJ4l5EYj_cmw, 81WJVxwzEs24kJgwVHLy5A, DiLZ_xFS2alCFIUbAJjlpA, -xDW3gYiYaoeVASXywTPgw, jdNO_1g4rZQb6PZv9UYd8w, wCK82ng0FNzqiuKwmFqeHA, GFw8V9KFrIiYjvG1ORJfpA, m6OZG66JPXVIZRkqm6reDg, o93PCqIEIDSU3Jj0oYG0JA, _Zf6_Kafa0rYPSTlZy5sig, t2LoCqGXkr5mPtu2a336SA, O3yvRcA-5UanweNlNInUgw, 2rBYD3mg9e2M3U74l8xXlA, EZuX3JkYNwnb1zztKMVvaQ, Pw0l63Y-Nm-96X3nwS8RdA, xO9e8fszFlFVi6xSQF2OTw, 53o-Xyyk2sEO4Fg-et1MhA, XDeM-dWTFuQmq_DpKucysQ, wvaRQrf7oaIV9VNFW8KG9g, vizOuY0rIvSsl3q_kEbRlQ, 2HYb6VNp-sm9eigqAuu6Yg, da9itGYTK4V_Y0v2CuCDpw, U_QBgvu-li3aeNrfZ_g8EQ, KuuyJ0zbHTZwd5zk3rg0RQ, 0HQG3PGeKC-H0TNfHGp0ZA, t2zS6yiIzLEv7tTboNts0w, UGmZP3E1QHCCHky0edX44Q, pLRoNVCrycvjxyjhLtAL9Q, M-AVzPMSf1PzhyUTgB5Flg, RcyQzTMDC4FmZkmm0v0hQg, yceRpJ0RGqXHPD8O8qwqow, -iiech__-f25FAjtHKUH1g, HfznY2r8oXWVHY7n1_5-9w, mQi-hQ1NicZYpP4oF9K30A, 3QNBCBtCwVsteWed9YyIUg, 16HRI60TWitimt7KugEmyA, 5ha3hdYRbS4bs6YQ-30-xA, DoSC-yAciU8Dey1uW-KS_Q, yB7bHWKsj10NuyJZG_HPDA, glisxM9gXzCBpwb2fTPVxg, IJYcJOnuf4GvvPEtYlkyXQ, PyX0ywr4rRO6OQ1GExt_zA, 63vQmhTDdT_Dg9OaGj3sxg, ASDcT6rV4gPw11-zPgJ9LA, doFhBZMCQAzshdb94hv7rw, jTofUKTkM3AcrZTdETbGEg, ptHTKu-D-hRqsz7S6WePEQ, VmQKTjsGj6nZ0Au1LiRqKQ, i_e47hxfeeLpvZaRy91lXw, pt2II1qVF5aZpMhyva6mTw, CoWKUQRbrNo9nqXB3Y0T7A, fzuXTQdraSAr9K6myHDI8A, F9UYjmClnjw48hZMOxHvHg, KIggglAeJx32KMWRMtbgwg, otQLHWhDpQ6MPIR_hXZTyQ, noMRWcUE_Ayr-S8UlGnMfw, A1DDQZPVk3glpC2y2k3Mtg, _3F47ZuxJ77ad4lYJkXN9Q, h91DYs6RdBHB3MtY62E-Qw, pVQP8bt11eRqMseLmeSWQQ, xPbaH1Fc8XrETNkDQSBubA, ozL4RNTobELg3LJb9sM2kQ, 7CW5iUmh_m3ORCLcfL-4LQ, YAO7QVm37XIc-1ICKVZwRQ, Nsq1xLBOhaz4VqoSR-rH9A, njjwqpqb4VLbZ466BNEbPw, hQJWJM46yXXwmOhl6-vbNA, NYl72VtbsWXG096rINA9pw, z6ehZvae3syl3H6KxeOPuA, 9vI7UpHA0pQxy2hDi6wXXQ, goJDybqelU-LYXdsdn5Q-Q, JjXNPvjc8e61ltX7O3CXAA, BTXj55FN4DBAMes1ef1RfQ, ncQnsTH6hHxxlKWlorbjdg, Cf2undsdm2zB6iwsHNxJ2w, 6bZtn2rXLX441_jmqSsDvw, H9xurTKDuUTVuJJDWMnJug, rf3desqdA23zIswrHJPPcg, wF5xuDhvE-B6nXQJL4eAYQ, jvFYKmBB80FDql8euBtl4A, VofSq3ehP7q1nHebQXOLoA, I-e78VFlDRqD4brcrXCDiw, p-Oqf57hoXwYb7udej-4ig, p1zN6mWdFppkcUCQhZjrMQ, bM8YB9-LSGhBWTty1_QwwQ, -_3Ln8J4gZEN-Njsfbwhzw, 39ASA-PU98ZxEZ3P77kv2A, 33X86HL08JTR-JzrY1iaew, LNPyE5X1K5B_flcTCH9StQ, CInFyn0Qp3oStWhmrjC4ow, UpHXuKQUCPYFsZngRppOwA, t_pedW5FWGfsohibdBC8xQ, pwFjg1TrvJdC-8DNWZNntQ, a_5KUo01DJ9lSp4wyBKd8Q, _JRjj0QOv1wb2RHinXQxeg, -exvXUUTiQeHhtvpzhKq7A, OHqjs0mLoI25ThlW7Don6w, od94VO6DdBh2ubafPIxAvw, V-Qj4t5_8GYDlMZinj_1YQ, 4ssUfjPLmMl2M4bED1wgwA, EuJKiIKRKiMe1jkLIif4qA, GDVDWlJAneHlpr5zbwshCQ, 9_pT9z9z0lJknwQJSDg6nA, vWk5ld84WemnirQpdql1Cg, 8MpZ9vh7n6XzrFeEPRmvQg, xjIsB1X7xplfREQOQ560ig, hJmNMApx73rtK1UPWqWGbA, N6PZZG5IbbdG3z_3TeMSpw, XImLhxUs2iqIRwdNJVMnGQ, Itj4nkoZs4GOjGFmtnw5SQ, 0FR7IDXckoiSywxXW1TcVA, 4uJXindoZlYPawRRJp4LZQ, OadcJA4RAZ5XsCMe0cYLnA, 1E-kWvW2QTDX_aMIFRsPAA, 8Ga7dxXr5APujBHANwbfaA, jCGOrehzgJixLCPk3Sw3xQ, IvSwHpU9jlGfrRGtZ2a5Hg, nws3XIxJkHEEkvg9twDIag, JrmZlrgINZPBKqqXJDPXcw, 8DEyKVyplnOcSKx39vatbg, l1vgFJtI7N0YmGXDLywKJg, AjHlIIYfFCMmt5dJ3ldH7w, 8I9Gz7OF3FmDrCureXNuHw, vOYaKoj2JahFOoP92SJw9Q, cuIGSOIcsYdhcf16oy7RiQ, HSOQaaaZO8EAUWucz4ohQw, jNXTyRfdehUOGSuWvu-RiA, 4oiiXsnH8MFM8RicmD98AA, Pbc_cGTi6txOAouXC1x83A, lOlQR0Hu8WMqTYnA6KDDrw, ZkGEQxVKozRfPu6cofmDKQ, G-mWHSm6XVp1oe9PN7NUPg, rQpeGsQxKeImuUS3QP7OcA, 68HU57iNEjVHuW88f9f4KQ, KbTdI1meCocI0E8NS7eNVA, qdKKxhzyFBO9IgMSJUoqKQ, hE9FCBh0BPd2hEhTMNFp3A, 3hxGv-z8JQBPthp9D3ZbTg, I5xO2CQPsb_dCnjYVQtDbg, akBWbwfWEyxhF1nUoBCEzw, 2PLK2CdeCKK0iLyuo4Hz7A, hn478Cjp_kWJGsMHJNagOQ, RzUxZht1MTPAFduMzl0zwQ, 434Cx7LqH8zx50J5BXLFiQ, mbUIlDzzZeTlNMK_RKrRUQ, vM2ua5NhXQHDHijFhCk_DQ, sdpIz4-s15T239CZ4Bd6Ag, 2unAGe7PH6miEK4DV889IA, W7o-AY6Hpyb5WkgxwGH_Yw, 2bXNfbGZo4h2V3leKUuWzw, JUfvqtXdZFEKs7qoQ6RTAw, cBA0AYXEsI-eMRe4Yzgc1Q, 8v3aEuuHEJU_8h0OgmsfDA, K7G9u7j6u7jhtVy65niLpg, -tatdTQEz7fW0BrVGloFLQ, 3CrGsfbHgUvj7DKzEnngoA, LmLcpnLErBRqI5g1ftb6bw, ez24d08Qyqb7mCKEuTaifQ, kp5XdD18aJD1iEdtVgqf7Q, O3dokr91hRIxdCUJWm0Vqg, -2yBSR2DbHhXHFqh5j2Weg, 99iWfFr1MCKM0kxqnCsw5g, mNh30kWrgAaJwFt4JPXrog, JULjZl5ng-p1IQL-M3y7Wg, qO7Y0i1ib57wefq8YFtKgA, qFBuBFX-nZ2vdxMklc0nyw, GhN_TOGvJa0b38bn3bxW7Q, JGhI1ZwKIdqiySjvH0i3aw, TYshQ9dZbfX7Pawa-Epv7A, kk9936q_0LN-_giPdfed6A, lEdQKZcmf2PH8HTJpe9zbQ, a0DvjQ0AsPT1HX1JAljRTA, MeDuKsZcnI3IU2g7OlV-hQ, VQ_1T_ZFT7zqEkiZWW2rVw, mkLN8vt_Qz0HwGmbnO6HyA, 99X94i8yfMxwvUtef1RJ-A, yZpzRSK00hFeLNnwOf8R1g, u9GbAJh2RjDm6NBDUrMWlw, WS0OwDRLWHPiWAg2RHXCUg, qpjz4ezvBsc0C_7vzqADrA, 3xrARBcLtARF-ks0WIvWcA, 69tBMWUPfNqOb8RVe0tXCw, lPBKQCf7TYcwgIyzVZqNJA, qqc01ExUlWOz_7JuxnJY6A, FyvlMGXZRG7RWzNHMCuaRA, KAPSLqFGFBHiIhrRM-59HQ, SS_sTKbubQ9k0tg5w0SMTw, GGPHv3BUNO_EJZYALbErrQ, _TAEPjEWwjQO0GVpaJC00Q, Yg-96beSeUx3u32GOeXZ2Q, 7XdR2OvFXBoOmQ05pALzmg, T4sY2XxNXli3x27RwvQUZA, _dy1UXsoPG5Zq4Fhwm4GBg, J2UgiPKkeC1J9CTb5AX7RQ, iwjAOwzad27MvVEVhTTiHA, v8q7ll7zkDH7p12Yev0pIQ, HiwC7IsMPgmJG4U1pZvWeg, NOYdJrbQIrf60OK_mBeQbA, sDQxWA2aEjnFP_VVNuFWnw, LcyMXGb3jmWZQ7rQGCr_nQ, gXfYpbrXztITOEtNYr7GcA, _40_SF48bdF99gzhOvsrug, 7G0QwAAN5LvPdDssic9BMg, LF-OiuEJx1awlj8LiGMPUw, Eu6_PSG5ENcRBfe2em3eXw, cY73rzaTAn-4bGi51emagA, YfoaFpIHCfgm9BsNfprpCg, rUQ0uTP4lbqbEl7PGhCugA, qFlxZfEOIwXLV2fsa7oQyQ, qa2JUtGxzMcDLtxPaFDzvA, b3m5MkeNYcpCHTFIhdpMCA, itImEaniDIvfWxj9UJQB5A, RYxRtcO64bhL5QdLz3FLFg, uolAe-RqSfhAinO7VpxHIw, y1cQaYIsa1zjw98wZgi8tg, 65GY-LY1Y9OLQ24bk05VYg, dQoZUr5dFJiM67LyfEjcvQ, -prL_1Uynd919b6fAlb64w, AjopnI5068P7O-yviQLlsg, AjSRCmXXS7OgFxpOqauqwA, lbr5RglV56bHABXEYC3MRw, FZDI31ZMDlbs3aYdh37-lQ, dnPyeYzPpHxSW07m-tZ9aA, cepndkd5obZbarntp5BYtQ, kPDRoCcCQy_COJ1NQQNwQg, p0uz4Au6CgVclZvQEWNwqw, PuamHkGmYOXY83_ItwlPwg, WjzWdRzDhLLKdXx79Wz0UA, Pdb7YTj6g-sa7WNd8odl-Q, Bh27bAXb7C2eIDk4232_Pw, fIIUXeRTJreisGYe2shgww, 2OnNbLWgNINRQjhfOGdc6Q, 5J-UFj5LtRFFMW8fa83TJw, 2KgajQbWwPmnzn2Z_doEyQ, XLHjIF1IdkZLFGDltU2nhA, 9CR-1Mq8na4Xr4lQuaSN-Q, HeWFJoIfoWTgWsLXNQP2pw, d7d_WNSf77uNfRlV8QwQUg, TwKfbVIJ7vj7bspc75b22A, rMvQLkIgoMhXXGU-4y-0Sg, UGNaAGlHj7ZkNhhlkvoJMQ, 1PPbGtVGOD-DTxbO35t9cA, FPktGhsu8CBD-OL8B6BVng, aJhPksY3sfA6adTBcQUdlw, 1a0uG6itF-9hSypcAufY2g, lPASgZdHyLr-dLg8QwfCWw, Gi3p6VVXQ87DDAhkwu4nyg, q7Myk88teql6tIId-OM8eA, c_iZUsKg7W9Zs507hNZVzQ, BdbEJd-urxTqLBwJgmQnmA, pvH8qFN6Xl7IJB3YETRwPA, rJXFrGqR03SP-S6QjycvNg, LpGPKHRcEcAyuN2W_Fzjdg, G9Ngk4XN9PMRIeBMUljSCA, CHhq4xiriYTsK2TOruhIJA, Xp5PWhlm87nUY46C1LM1Xg, spQMbvAokpUrgrDCSfYSgw, cNQWfyh6SeT7QwRUsJHk9Q, HdQkVYgzY1OCgNGL0IraFQ, k7Dp8Yz-VbhNfbvZEmc4xQ, yhcP4kj1QOd7Mss5eN85xQ, dATVH7r1JP4KdtkUpB-rNQ, MCuSUtKMvQnEyzFisg5I0A, pzTBG4ETka9AUgPvspgcNA, Z7hJvuNZ5z3SP90GJfYR2A, WbpCaJLZih8f-cqQWUa7rw, DwrywaXwI9XbAUKhVijDIA, w4iq-E3y2YcgqTAuI2527g, TMiFtpUjsbomn4NspbwGMg, GEWmOFFQU0vSaL8dwsA5Dg, e0bJ8mqattZwbKzkX2mWnA, aEKX1hBw0TK4AB614543UA, d2KplQs2fMrYOGwOSabQaw, GYLIjGosx4F-ZUu7MEl8aw, _FWuFlUqloEk8r-GZPfa3g, FGlHIy01m4ArKPe82LfXfA, RP7BqWSHkel288RlqCGUvQ, 3wOu8vA9boHsYuwK-N9tOw, Oy9Y9vEdCPNQlUbBK8WXJw, 8CLsUa6rX2ZwXeDhj1j3Rw, j3XOFu2hzqCEHsEpIEe3lg, IZZjRPi3Pd4OKe01sW5NDA, WoKV5vPLizo3OMvuVSC30Q, rD-_GKIfT1yyI8QZocTz7g, JNk02REROAsFnVcH_AmPjw, 2CGap2o3L8-ELvA0kv2_HA, IjkTcyzJBUK2O4qMZsX6hg, ABMsRgyf43Jdw7ER234lNA, nWyzGhjsouWfX6KKCVhDHg, -SVSUWSCLsYLcMk2CfmPhw, MZ_lchL7TPe35K3UiP7RXQ, DTRBgjTjFTO_lbG9AYPqjw, 9dU8NlcCM2TLPW83ifo5Pw, 1Fz81SDs6kLN6ZiSL0vdmw, Dig8kfYhgHS6hyVoGfRwkQ, TAd7X1iUtkZaZyy8E-DTpg, eLkIiAO-MoVbyTEt9FkuKA, FXqRnCrryuQrHtljgoQDiw, R4Q2CkkCjfQ6i2CEvmHD-Q, 7na97RZqc5kUHsuPhwpi2w, _qxctEgJDaJ-fP2Z9ME4fg, Ak464Hf_zBI1I4FmbYD9Bw, oS08QPCfz3sCpU3oz-9BLg, mTTzstv---q1tld8KIQ_pg, _njoZDD459EJiMdD6AJtyQ, FHVhc_j4bE911A4_r8z-Kw, xHIft_7vRigsOeq2wmzcsg, xB8oGhDpmzKjxVgV8BFtdA, uqfOlUP5uLfn3T7e0OyOgQ, JTRJjFso_bPY8NK0EiuyCQ, usWQnlSXQOktxFagdD8iCw, wE52e1ZCqIhvMzhszEN90A, AmfLK-osRRZvO6dbwKxxzA, _O40ebN0WrldBm9CrIgbJg, PQqMRwXo8X5IpIqOyXz6PA, 6y7hsgM0_YzoYULs_HPS5w, jm7uXgxZ077UJrZDqNk3HA, 8x1eysLtR-UDPmZ48q2zFw, PG4vO46IEmmiHQ9fsqlntg, 7ssB0C6g6K0C1g52-S78fQ, AtU_f6ZGCH5qz7QyShxdWQ, YKkJ555Lj1P7qnGfhTrcIQ, fpDmKJ9e9ez2kUEY3XO1KA, VIIE-2Y0dErGikBX71U87w, 3f_XR_s4DuIqTiAB-xCJ_w, KGuSv3iQbtTE6C9gfFI-FQ, xXxgdB2Yo4l2OICbqmC1tA, _JkYYB316OA6qLv_UUiJkw, sIKezWQU9yVEjUneZKpsoA, MhNqtci0ngWRXrSSMCfvUg, LR-0tJ17nGzysx99N0oREw, so-Avh5SLnyTJraLlB63oA, sXfdUudSqkjTmlrqvhbeJw, gOK8jl_pNX2zjPdU4vO9gA, 8H5eGq4vMxyNxl1fa2YxJQ, OTw_Xlwf-n9C094ixbIEhg, WJkNuoTbhMX9VGnANLjvxQ, AhVnnFyKJRQxVxi3SitJgQ, M10Izt28n57paDbDwFsuaw, SdO4HuBcpJnt_Za6fo67fQ, 6s18mYBkhAtSTtch1bwgdA, s-fil7GsybkaiXn4zP4ZqQ, jxCMyJQz2O9gMLmd3iHeJA, OlitJqTzlm2KLquyTbNFpw, AzgWdoISCjRDj3DAw2w7hQ, f9BHKdaFgBTK7x4QoerlkQ, 7yiYYY-kL9yq_4WwJTE85w, Q8_IbGe3t-WOdSNdXmCTPQ, knFwHcdFmxOHcHUY8IOoUw, YL6ZZVq_2UDhH_lb1JEU5Q, D871O4hXvOFV1hYteArXwQ, cuh1c31tQiFTgffuf4rKaQ, jGKraIJiAstrtllxeT6dDQ, -KPuT1VpxjShme9q4g3TPA, WycgPXK5NbMN6oxPCNEJ0A, c0WVBnDvUtB58471lCKonQ, OxdJz-B4b04rdlbyNWIK1A, BcnHKteUyM3hPPdOpjA0tw, 5IWixlxYYSOTl3R4Rz1IYQ, 5tmeriOi5y9zT-7m53HtGw, dpjNIVLWkayxuaPMyozP6A, z8YghxZ6bf_di_x6CJ7sYQ, 65ykqcS54hI0T6UTjPPShw, E-UhmCbKFZ7HvA_kekmqZA, vHw1GzygYlbprsDFnyRYow, ZEDqGw8wPi6MCeRCC_Od2Q, eSfKzdc-XUx1ox_KnagntA, kT3vrtMPC796pfJ3hXhLJg, SXpH_H9fCqR3v4_wh4Wk7w, oa_eCqjpJPCICa5II8-b_Q, 2JUW4ay9IEcJSxMDSm-HBQ, n2STX1GhTH0OBHr4BXh-Ug, UZnjcld3NtR8pVFxhDapyw, Qz83ck0pXfS9NHnl8IkJLA, JFosoWhn0ck7W8UYe6XEpA, XAwFsxJ9k36KobIu_xIJwA, zpiQuFLEKgP5JTMzgmC6xA, li0EFrKzFtryiwnbKuqjGg, NLV4dDqWQ4KXcRWcfKxeGw, CeRKOgKt9w5-Xlay84MhKg, 9US-BTucEgx_baKD-8jxdg, t8CO3FjEwIpuQsmiVw1x5A, 8JO6oqJiU1GMkp-GrW1Srg, oxa48vMNDZUZMhCWg1PmHQ, tcE3yoxs3xWNTUXeg4QyeQ, 19QME5MNG_eyOEe4Y3BqKw, FSrX5DXnJjliCBR5jge8Sw, Mcjg7e6XBZgwcB8OYbXeqA, Dn9jcTgvQmWkjTr0MXvTdQ, zZ-8UWJINzlifo8xOXK2Ew, xbWWoMAm8mLDYxQBEotp8g, Di3Y_GnLfutxMKsFyKCaHw, jxAlfINOAIzD_QKAG6LjlQ, bxdndKBnVfctBwgXC2aPvw, zeZYmRExFf0tOKz8z9RsiA, qFlfMHVBq3Vv1hc9yHtarA, O7kj6dd3XuLM6LNDjw0NTQ, kOA2cOb0YGshrBQYv3bgrQ, 03Bx7tzN2FaNfoD5OxoTsw, n2WdjmYQmlhLglPN1FIk9g, pJDbzQdsJpWCcWl2PSXNqA, mBUDrCuZGdCBJhLcSmZzLg, Ob9M3-zADbxtxyw5XnbxFQ, 0fcXVDi6zmRYs7t3hTpYkQ, VAolf3dAdPinDkwk8a0_AQ, ms8HbBjugaNiSOyysNE3Dw, 1536NhAqDhKKR6maADCOIQ, ySlTAGfTmPiyp6yVsWW2pg, oZmfeL9P33PNT8ebudc4jA, aemPoxFzfxfPZr0FaVwFwQ, prU0ytt8J9nPzSO_ld75HA, u2IKXbqAykEBRPt6bOAQVA, Sh_mP1c5Px-EAYl2-dn3lQ, eABky-MBNWXsWr0qWXGpUg, GN4is4xXYmpp9BkMGLlv5w, qmx1LqNKFkC9MYL-ykDkLg, thmU1DFMvWKJeuYVyqY7uQ, qPq3_1p-M_BmWGh7UpcrKA, UB19ofbKajMcLP9t_bGKzA, mUQJ5WvIiNJbJxwZyYUftA, QfCzQebVWAMCCvMhj-IP6A, XP0HN4w2tylyuON1fh_uhA, IRCaOndVdkRLi3Q6u_8C4w, Mbjj_ENbAaMMdFlIBSzjyA, 5Z_-ASvyHM7XpeccoKDKNA, EhxCvpKhabsbWwlEeI0Q_w, UJPhSEUh5yJOnyq5c_23Yw, O3Vr0YZPaB-kG78KtXNUFA, RdBwOaSpZjBPmITZwE9f_g, YintZdEm9yHz9FF20dwOPA, N3MxlERuOJg01e7wybTZtQ, 3uYmQC1_nz9b6A23k0m9cw, VWVKrQYnFSwoAyiXQlVKNA, ibDxICur8v-CGaemWYVURA, etGsCPw2RL4BipYwTE2IPw, Rf_qQYBWRiuWshPZ7hzoEA, GAXq-sOMWYNpa3Gou0MS_w, VqX5cNN2UAJz9L01a_vwVg, Oi5ENKS82ZBO8RL_AGa8xg, zzrXWq48w0h5ygPJsOXDuQ, Z8CwQaRdTL2-X9S9yGGHtQ, 2DX2XYOB0h8zUi0fIfzH1A, 8Ht4cH-rb4GR6NHd8dGl-g, HT2iN7mnY5uWY14hOWXWgw, 5a710mCMClCuhqXUU-OBtA, qY8R64XPR6gKmMOyeFZvfQ, DlPbIEYVQoKt1HBgnoLa1Q, M4nrLFyLb0ZGiK-yG2GBUw, LCP7_a8lXYIKdziF6vxH1g, YSb8JRyI75M8FkbYWLH4UA, oZB0o_YQPV5w3zP3tiWIdQ, BPsNscwAuhtFqhIKr0V5Qw, uf05hVKp8fUUgK5ZusfEyw, Z-Shvzs0gUnMZwlizQrZ1w, FgJXicjaS9mRoAz-6Bh--w, rms-Xa87PBNvIZafreTPfg, EuNfC5IUXncBnu56DBTdNw, qJnbV7ureE-C64d9OvJa6g, vroJzXiDN2u00DfK89bbng, DB764FXnTlVP_mHXts_vZA, LCBntbTJzx3fnJbTHgk-pA, MDA31Nn_khnSOizLer1-7g, kmPRk398bXDS92LUitSbfg, -RSukZZoshcIzG71RL46JA, 78gAmLPVcqGzRx_C3gqwtw, TmHlLhH6lsVN2T2vucCXLg, nmQlgFXOV9rnbtz4uRsdZQ, ibRZvEfZP2jxFJQCYpY42w, G5lV-RlG_tLNIAUchx-0rg, abY68HFYKb8i7gro7vFQfA, eeU9JojOKLB2zrUeIMiCtQ, P2WSfzyA6XW6M3xWOFxKvA, ZL1dRKNzjlf1MQnwv2IGoA, CiaBULJQ3BLridGmFAEuDg, QVUBTF6isLQkfOudRGIDwQ, eyq79nS98HAYS_HiI54beg, Cq8nMJ9ifPRjP7kqwFqXtA, COt8Zr3CoxQK4jlg-0SaGA, QS1fJ-2_QcmbiKFVoA7PAQ, UALzZH1itJrMbCBqWiqx0Q, 4XW6psmURYBM4TexM3RnGw, c0oXLYlNBttuqSolNYCW0Q, 8kXFhjHG7mCjIgLNoYQgvg, GZy1PFiDUOObyVP0L1wGPw, Ay993aSK4REAQ5MhLk3Evw, tok3nP1EopeUsZFYJ3X5uw, oY1M-ZWJRDyL9nQI2hBRrQ, 0sPPUl_uiQhJ1PIDlxJijw, KKgz8vDFEn6gTIpTq7uqhA, nE1FcLi48MWpPFusEXb8PQ, MAo4BB6anvAzQq_87IAomA, 4b6E38MeZd4j4NIJF5y1_Q, DwcGZeR6gPpzMoabLOrXrA, ycCPqoaDlbOY6unBoLSnWA, icuP2FppU_r51BpKEXR6uA, yx_uLPuDu-nN22dXVbs0tA, s5Vw2RlP1Xx0Zrl3hsKo0g, 6RrQYMY7jw1UCn818FefLA, MB-EEfIk9umFgVowJTXltg, fxmzz4_Kj5YAkjDLnhYs3g, bf3DuDNXjfW7LPIqiEntKg, 0zcPTA1SHZDTJFsz0Z_MRQ, tCtPCZwcb194gRelUeRZuQ, FJFXS14Cj3pE84ZUUJqaTg, RpuDHED0VEDc1KGtKzj3lQ, IuT0j_Yv-sac4VdEt90pfA, U1oMvh8H4rL69B3CjXPsbg, rJNlkfeF4ZPfEID9jVxlzg, QXXGkZ_ZMgtTKyWj7ciZ4A, 71VuJf8diEUysnPKDMRHyg, AkpuwLHwmxMrtHXnXwqgnA, eJgX_uxTvv2yZEM9y7w6TQ, Vrl1c0uVQnMKVFT7sBGPmA, NbQD_5-0dxMg66DFvZvbkA, q5hllSllC45_lFdQEvMdtw, 8XDwiTx1WGCP286-CSYxhA, etP_BfGZSPQKc0e2wUwIDQ, b2eTTzw5d9f9xYjWB0F3rw, buEjH5vCvObaZ67ROYzXrA, u_vJLwR5-9S9cYbNqsIGtA, M7n7PPmVJGtyLpEt7Nj98Q, W4_prT9Yj-BIQEnoS4JguA, BkERxkEkvtwkhC6nUNbEwg, XXT2_qC7V4D4Y2SH2YV3Gw, W-EnbIo2PO175aHwTOdbgw, JS6SCyDbl2ojGejiPRAXsA, tULJHn-y_aQXFeW6y7OsFw, WDpZX3OdIDKGIKF06ktcIw, m9d2zHAkKbxwZ7Sb9WDR4w, 1yHP7V5V0ktCve4hx3WehA, 93JOUzQwY8KdV13xlFaDHg, zXdkTBXcZdv0AkgQoguXCQ, kKZ1Mu_pB75BF0CRS-7hug, bmivTE0ca1bhfe8P2tCP0Q, jyYaYDiMmtVi-ghN8PyPJA, dMbt-K_m-x3e1JE-dWWicw, Ozxs_YK6zg97NnvDuEHAzw, GWMHU10lVaw0tj8r8YYJiQ, Vib7PBFv223K0ZZScU0-ng, l9QroWcndhh0FFB1zfKk3Q, xh3gC28M1CNikDqQg425nQ, nzBU2hv47wrpXYLV35ZsbQ, WAoAALdmjgsIyaSvdrSOsQ, cvVNCKN2M8o3vuUxanWdLg, 699JnrI3cV4-soU3OsLIJA, 5I2FZKlWTEaf8xOrVW8K1w, Qkz6BIhf_m88roGiYx-L5g, B8U5qYzFoTydtdCfix4x-w, XlS51TcH7iak22sKTxel_A, my1KWKsV5GnJhwwEK4SU-g, Nhk0jTP2gkU12G4LHJVR3A, 5qVcFE-LV78QVi770qq1Vg, cCcqCuVMKKvIIqyz0IYyvg, zoTiAM4iIHDfj6PFWFb5Fw, KBfRxkhL60najjuWNNZy3w, w6GMT9MEAOMlnlUjimltbQ, VC5BapEEvg7sF0Hv_qq3Aw, AyzHFnMca6hRwfx0MabwCA, J4v7eVrbsY5m0KjdVOVpCQ, bN5Pnm5uU8LIR2gv580Fww, 7khzQKMUsV8hMXDBCOAvMg, Rd2wRyBMyA8AFMyurHwnQQ, fGqU1Qw_GwsFAPh-vlln2Q, EhT2aruOvmpvv1fDaD1F0g, VVDqATDeoPVSnHJXGUZatw, s5fEygQzEXPfiXUtpUHG4A, 5FpZpe1mFf8D-00d4P2_EA, wfsDkpnodQ1-SVyaDwVzaQ, e3Ztu0-mBAJmGIxEHI8GmQ, xvIloKsULStsbW-BS7MNow, 7TkG0nwmM0VVhWkKk1iRmA, mS-CXQNrdqfmt5q7bCSICw, LyVMM2Ed8fAqb1PPvcA5nw, vJkNOQTsAfUWRT_P7x6oZw, T6sCVB9ou9QKbNm-2iu4Ag, hPnjoslfPtoh3ydPRju2-w, -E9NHrYsHWPkDmtfd3C4kQ, mhzMcm1fApiKLGhgUZ8i7A, DSdmCtINIDp-8QU1V8nT_w, 8FxcbyJnYLDBDM6lQ9ZrTA, v1gEX7GAxhCELLJRePJPMA, _CGBZXly5TbzIwos6INJyQ, wnOc25piXtiovXWxYCWDhg, 9BKiAg_eNzRG_eLqS9WisQ, _YEyvkN7qhoWyma68kGHoA, h5juv6UEb57OIDH-w9EePg, 5CEETvKmy3C1MMzkjN9KAA, 4pgR_DyBnBlxdsq_kFvaMA, Cxi-hfc188JbNk_-Mn0SWQ, 2i-kJgv1pQqjpuMz8GNJNw, p_hBXZOTDpWOwtXtcB_YGg, VbrKKJWG7NAzIQP0EIaJFg, iw_Q3-8DjkPdmF3RZAHm8w, uhrz98IHukcOUJdXM9boAA, wdBy9fVufV6-Nz2OonGH2w, gNA27XA4bEatt3EMgZqH_Q, R_SsW1TAW9opofs1yV68Sw, TaNd766qlfHJ2H92nsbEWw, ZwsUXuNG19eMgPZS9oietw, CN4sEMMOM4oDA2di_MMODg, MmP8VbAVHxwfd0kyIorB1w, xQoFv8bHbvCA3wrF02d49w, j1PqDxAXfd28FuscGhs3fA, oMb1JcVORE_xmfoz_aGsWg, 2s42Mz0hilYEnLEXklkNmA, wdoQxnl1vdOtgZD6nT9NRQ, FljrXsruuoFB6v8InG-3Ig, L6a6IPg3mxjwea9daNmFkw, SMQ_E2PTmRvWqFCpZb53Ow, jCbWoiJyHY55K4Hnxp0p_A, g3TYtpqCarODbR4bNI7JSw, pAvEtn9lXclvPPdnha6tFg, OYDbplhUHpbyLxNxJAg2Iw, vwwxSFaxGpm3_AIiejlAQg, ME_tTji5ojVCyU7TDMNlSw, o0Mr1Ny6TXE2essSAJRrgw, qQb5kBOpdE-PSBr2a9LeNw, 8ubJ1btOm1t1TulNJblcdQ, vaIscmwpCkwwd1GzvdGTcQ, ZWt6av6xUrGPaOEcp553-w, empDeJT-jh1CCn1ZTwS9bQ, O_m1l285jvNYTGG8eAyrgg, uM0fSUpHVrSnPhJx19SINw, uPSosCYbDE6GI0MjHesRRQ, rrn7hcjak9RRv-0ZIbbGTA, aWeT6DA5d5pg6Dyb17BRwA, WnelOXjq1NWK9HuULI1wDA, pX5tKnlyboJ0yTty5XtWwA, tYQ-5fwyMWcjDzm5wmCtrg, Lpl9kZ_RhW3CytrLH1m2og, Xqi36h63q1nwNPLrxuetxg, G4belrloHa037Jplmq_Naw, OT2u16v_6EeNMA8XAw5hqg, SEtMm4SBMS5i7HCeWnM9kg, IZUJs_Tw8sLQ54YPxWF9Lg, eHi1RVI53yema9tp4bE1cA, BN-E32LJ4a41tkpeeYuWJw, l8_VGmbHExg0v-8xvrZNSw, V9doxrjqG6S94V9WpHGr7w, wH3-1NZ2Bm7BxWOgLH6glA, dNysm2rfE9PlIzG7DyNisA, QJlwJF1fscAOazJu6WU_tg, irWfbKCC2JFG8BiuW155LQ, uln1eIdnV10we4Kh0VaV4Q, Sxj0URTobwWxf85r6FI3Fw, -VScNLmuQQv7fIV1A9pAow, aCkyWsBDHZqEpuDxc9S0dQ, xQ3kpEXFzS95Ej3H_gRc1w, lhqYedazj3zsWCG_BPfUHw, MoNP0uIprXOF_py_TSnKvQ, pbmG4FkLOV7dReoUr0pTnA, aKAZvT6MYCjs6YjzXhDT7Q, _PyAYn1bkRTqWI3nzkiSNw, Ix9B-1THxumpp2PA_39M1A, lUNpMq8Zk1FHrtT7E_Keqg, 5eKI5IE1LhtzUzE_DDWc8A, _F5FBGiJmq3qgu9vNlOTJw, HdkaIob8gS8OmRAfLJizjA, 0YijGEorIkyfGMvTPgyp3A, GIY651aLyx8JlXwvclJpxA, NZKgAXB3weu9f_DQbiJY7A, _c3XGHywC8TVrvG9asGuQQ, D0OHfnUKdAo613LnyrBvkg, QyWpmeUmmzp3EoK8EFy01g, RmT0fJPYgtOn5y2m1Fb9fQ, saie3d5QLfZ--giElq_UTQ, AQxvwnwwRlcEgfVkbSMj4g, so4-sX8EGM3U47qDBRSj2w, Gm2sr4E3z9yDjlipk3nLqg, pyhl4QoEEPd73hkxys-ttA, 13tBRHRIC74QkXfCVdg9hA, Rrj-E-35LTE_e6iyMxVc8Q, vEJy_uS9_3kB_kxTfDrgfg, HPOvYNEFKkhzUkombiTDxw, BYhuVTmG0ze8vu-8Njiqkw, pWryXnZsGTWo4sQabqQgnA, u6h_3zqgr3TERsw_coYQ4A, KN88ddvb4RHJ8b8zPsbVDA, N2OHQZs-djLu3C6l2d9kHA, AoZPvxRAbwuRX4N5PCPcZw, 99Q9optfhdNusKqwhg5RJw, qxxTzTH0ZsgTxmMOoJ3QrA, qSpTiWuxVo8RSOYdMzbnYQ, OruAKi7fXQQKbTQUc-cG4w, 5CWIk3Ui7Q8OCKGYLBYuAw, Vko-slSvB-UpvrTy-DLbSg, tuVPg_uTievTqS1oFOpl8g, TOXzzkNk1Bh3hrPtyc_qJA, CxcAAIvR_6XtwZ1IRx_mBw, VOrDzNQh6jNIrSV46Bjptw, gpLhKBtEt5jo4JkI5ZF1rA, 5G4SeAc4KgmZTd_qPKpW-Q, gz9bw5SyxhCTWvzczBzqMA, 0AAgWm8DiUEYro_N7ITF9w, -HtwA8-wRucMpYMdnBAYBQ, g3iUSnsFcTJa-f7ypIqgYQ, asOp_lVOUZ7SSDuGeMwnWw, KvWwhIkXolQOJ1_TOEiQWg, I0EUkywPSC761UMFyXZy8Q, rxNaLjdEiwp_UtZSFb8Ydw, 2yD9onC4Bkhk11wcUyimRA, 4C_JFKgEo15R2eJa1s4vTw, 4ZKRW6halYt2Es1Y3UgARw, K1fVLNLr8QUJQrfI35LX-g, izoNMYGgbrE_cYkI_1ylwA, YttDgOC9AlM4HcAlDsbB2A, VAhh74SA39npNnCdzyPU_w, OHbm1FGAIZKcupA-n7rxRA, 1JkEKR9HPuOW0h9mrMFgBA, uDcIcxnYNGrByX1-3oEuVA, ytzx5EJCPy5M1dJ7Xf4VtA, 2cvk-3tBkadmPfeA4u6e3g, Y4ubovEnbK9oAm2GtZp7Tg, 8LTO04UwefkMEmiyNuNNsg, yvG5Fdp4z_bc1OpzGU_W7g, J8hgTlbH29I4qEiiIVFQdA, S6XvBQR-UpiHLyODDz9qPQ, EIMoUYS1qHKEHpjSRPKRuw, Gd2skv9x3x6By-cLHvNgBQ, dxaz3o-XoRyvdUhdDqrBCA, ymI91xySoHPOMecxUDHgiQ, 2uXgAglORO1fB05ez0kflA, nal7DZeg_yd_JFAe3pkNlg, j3Kyy9UdWYel3H9FgcUBOg, 7iAJ54iTpdvr92EhAfytTw, wuCwX7ft2D2-eJKhNoEx6A, 3QNYt2H4S7qQBcvM_6LITg, 8jqVCWS8Qsi2KLCgR81fIw, 5H9BA6GZZrC6x9OUbeHbYQ, DU4YchNziFK9c6WlJuZDYQ, Aw0x_dXz8rQbP6ZoYE8Y0g, jJtQUEXRr1se7JNtegGh8A, W8nbY3a56pguZwcYILMIKQ, KwjHSOoJAa5XvpBHAb6IYw, GWs9J6lIUqrySTxl6uXO0A, EqUHksRcJ0Xoeonfn3b_iA, u1dJcoE5DrpDa-g1E4wzKg, nVEhxEIkbPE7RxPBvnpbMg, 4L8c-tIEFU90-X7v0O9tfw, gjxzQrNtA1m-KyDa-N58tg, iMuU7XiFKFUmyBvGKuRAkg, rHhABVq5BPuKXXOGP1h68Q, YecWIvd_wvaucCfn7LUNVQ, zCHq0wLtrQJ0qPqaxw0FLw, 4j3CqGWrmfxZ6wtLpXXnMw, wt_bgdUQk_J6JS6QpkIqiQ, wD-rq62eaJSUj0dZqE2PDQ, CbRaullgOGQt-LqBDsjVIA, 3MhJvI5mQk5QZVZepm-llA, y0NDDksZW4VzpG5E5Gpzgw, pg1FWDhzKADbhxA9KbJ78w, MpSmxjmL5ZyC64OyotVq2A, rVRlFuniRoabB9y0-RXWzQ, yTJpnx-dqaLNEbtxhbdQSg, 4WyvMY58ZCC11V0auE6vUw, 7KNM_67dtQLrXCpviKp5uQ, x7I9MaV8MfallzdfcCqfSA, sBT35mwnan6bdevBzCotQQ, WSkgaE5BctiG7i9ZvT7kIw, _QMJMoftU30q__zPxevHkg, 98uzhBtpEBf-daoQ4x_VOA, -EtI7vbaZnV9ZYnU64Qx_Q, XaBqpOFEN-Lsgf4g9SMThQ, bu7YpHe7kK8Jsc6cP0fFEQ, t49dFsFj6TxaA6URIqzVDg, r15ctywBe6q9uJ5HWUCeeg, UfmxjtmLhdX5XIuVkkbdGg, 67oaYApbddEW24Eqc2llAg, ieMXlkCHKY5M10ERa0cqjQ, L3mjqiVI6x3twUQYCQFQYw, -daRiuuQNNtFDGptYUriSA, cgNIzDnVy2q1DNtoOa2tcw, JXZAjLZZWiqAdHFVMIZx6Q, Fa0vwOWBMe_DM2XPqQ4qTA, P39Byvh7tOJVgjwsqqw9Sg, 3b_HRhscJ7XZ6GhgQqucHw, xvgkEh2NEGEzU-vXwXTk0w, hXmkWrpkYt_mtnApecjDRQ, Pppgw1XLOzcbfgUataz8CA, i4gkq9nSV5wofPWExpSSNg, _Pe7CGnRzSnmijhhi8rVrA, 4eiZeIIdF4KRP62auTw44A, _IvQNur6pLbLhMsL-g3dvg, vZ0sarpbUMwWFPWrYQz7mA, epsNZBsIihqaZL9B2eeZcA, C5x6mH8WJGWBejaRWxToZw, _0_TYBvt1PqjU9-rEqoYNw, WDpvs6U_TCx4799oxXcnag, dpExdAMLfGcNPtDypbb3Bw, kEssfC2VvsT5lMRmS-1iDw, x6MUSYDnPzUTuAw9WnlGRA, 2cuuLgVlJdyDc0gSDjmGOA, zLy2jzKaG4LcmCURxBmsMA, UO3mzrek6_Rg1QzRkZ2PSg, QccdbzX9mYbf86Es8lR73A, 5RwMcU2Hwkiz7Ji3j-J-eA, qCTNo4MJg0xB_oihPitfrw, x9ECc7nOuBSjCM2pwduVHg, 2D0BMVMq8Ddm5IKl16lbuQ, S4wIDUBQa_YGHP691_sxnw, odRssKJFcgbIe_JCu17vKg, mLLvF3JawTa5friTpwRRBw, ZRHkEFCc557N97SdxF0GzQ, Au1zbmtXCPQfVNSNN5ylDQ, cYvF-7N4fzuPQEr4-aq0eg, i6UPXfiQ1z94OLbS_uOfcQ, tXTsJtBaIEpDwsAShf8ofg, vfdOLnr8XjZgZg-rKz5ojw, DfFEys7aGyNA6CGthRstGg, JxeT3psAmxnsRFu9wikxmA, 2vx9HEp6p3xb0iqUr4Tk5w, xf9qbd4ppSlku34tQFEAdA, UY3pIKKhXG3z6wga0Enf7A, gbsn957ZCgeHe3e5OvpaZw, XVO3Ffytg80IVe-BCoReog, 1JaIiK3BpqxOx4EG6TRBdA, n-Z14Kl-iHFLVFU7EUfJCw, C7Vo14RpRTG5Bc84l4q6DQ, iHi1gVY4b6ZodhcIC4QI7Q, DY8ncSwATLCThEZ27RInYg, SjpYMaSRSiGj6epvFKE8qQ, BGzMhRc73w9DxjMhcjoZ2Q, 7Ogp_LBNpyoDUNl0FqWJkA, CbNQ3Lkkh6DIxnIHrmeegQ, DrXIEzQ4zWs2I_9QjxgQjA, rgTpGNB_itBGSeSI5-Z5Gw, Wv3RzZyWW0WsmS7rseiYBQ, kEzlKm0cnJY1zae75xAAtg, meJr-ntTAB1mfQ707LSLbw, -gyNDd84iBKYKXHgu_Z90g, MDRlnTdOo9Odpc60oF-H4w, QsE8_uSGP3t0sNio9j8UHw, 8RLMAiHJrLZVaZgrDhvZ7g, Hu6C0bniAqkwZGqs9obFlg, ToYS2oRWRROcD3_mQEbTuw, ulM0B0JOkRDNLdZW3-rvFA, kS8CMQ1ePrU1LRjY5Q6V7w, Ov2dwtZA1fAOe1q2aUBDAA, bqzSCxSKTtqa4dsmhDe0Yw, hxugiP7WSyR5AoC795fITw, sNuqaRuyJbuNJIemx7uoCQ, tG8jt8ZB9LalIRZ2ZtlVvw, iXW2Zpku8BLa_rm_zYG_Ww, i7aHZIh8GkOOkV8dFb7b5w, 40gfA08FMhy458VQ2kJ_Eg, 2yZCyUdF9NeNNxWKbX-YVw, r-JFKicLab8M47B3vOXbiw, VijKup3YFKvcxvUiGeIDIQ, 7QK1oqbNMlEwBPOtEMRxpg, 71BU7BtYJ4u5izyxoymcyQ, VijPI6gaThHFLDsTOCeDFg, 4zjCV-2XrPLsbsZ4Moq6Fw, qKvr9SsJeVdpMYtO5-1stQ, 9QBLKjxmyw3lmpBsdAhmiw, L9coXhQj9cF8qz98944TlQ, pJKI0YB2l72ijwWT-4RcTw, YaWCAaurf0HnJnFRBc-43Q, 3yXCYnN-lXjtaa7W3lpSPA, d9zg81tKZwhlRZLT6weOXQ, 4Fz5F3ilBQNgdDW7my3IIA, gfvyeVxfobnl9DDpLUR5vw, fCbFKQ1X2Py-NpfWsRv1eg, R6uh54LlA2yNAmzGG7i1eQ, HQpglSyGE9tERz4f0aJzkg, EHCy_rn-D5mwuX-qdpp2og, hZP6suEGLDPaeokfEeTkvQ, 4RDTKgbwHDJYZEjPy4OtHQ, cyc3z9GDujzyia55697WCw, dZLyMDg699hJVwEWA_5U6w, g8uLSJyyYOz-i_l1rdX0Vg, c8E18-exNt5TmPeQr3R_dQ, A5DZXo6qAoxtcXgw_KavNg, KcQc7iJ1Y_u2p7CIQknE-Q, DMHAqVd59r7jR1xZFhrMkQ, IoeDmygzml91On_RduYWSw, L_exlHZUajQi0O5-PQyu-Q, LzmVsmIGmLTG3xJEatKy5A, QXepMbxXXm75BbDANv46ng, Zm2JSBGCNqvtaAQoVvsSzw, 7WfkY-xbGv7kklyxuG_jHA, e6thcDRrPUtQ0_jzlf5CEA, HIsweQWD0MvUGZa7dRWisQ, RpUXIrcgdPmVldY0b-NJIQ, U2WKDmAF2z0whvkWZXwZdQ, W0qe_I8QnBpVyxIceBlyqg, bZXHp4RUSYpdjdOfq1HYvA, WUnaYBwQ7MjiYPYohLuj-w, WXHxhF6DlwFMOfJMubIZOw, Nw4kTtXhwje9xm3pfY3rZA, EYXeXsCph3CfbpouId-QZg, eauJLJ_MIsHV65WO2lYZTA, BJI1RPtoBUSjc9f_cisLtw, yKhgHwA32xIO_ZY-1d33fA, 3LDqdKdePtKfs4hljybDag, ZFyksKzL7ZwXc3NiiRW-Nw, RghfawqQxMQGh6oXeO7sRg, eMtw2cJUJksX4jj1L9ojog, -TznxsqYvbY5Afe_UbS5uw, ibJpuByZH896nLZY7f1wJQ, fafQY-OvIFOO0ail09Mvgg, gFjnFijE2mI9jrO6o9yQ7w, tP_UUmQPDSEKIeKj2TGXvw, _ciFHpwN8GLlGPDJ0BTw2w, b3uYN2Il4_mlqALVhQBbJg, r0FKeAiu-8vobxr4r8bDQA, khpkk-as_M9n9a-2mMoiJw, 3OXW_bthMrMUVCl8DHqZeg, nyyGmJyad2l1j4SJPGLagA, KAjfHPAHknuqzJf6QVs0Cw, 8nN8WM0m4UwHST0X5VNYwQ, qtKj4AMZJa9y9jzUaTt6HA, PTOPStfY7Y-2EJ4LwIfq2A, TYip27aUzuy6bZz1o7N4RA, 7wQCrL53pIEpvjQUPjeN2w, 13WZohsc3fD6XWXvkjbQag, Yxb-LbkDRAAFkoDcBJjjSA, Z4bbWtxxElrcBjHSHt7C_Q, BNphTOAZAlKhAKwHhbAfQQ, _Xke8EiNOKqIlpdKuG19NQ, U3iPGq_z3WsrK2w1dcDm0A, eSsk97mB-IGWC6H2-QRnIw, jtJWmkvcnkZzcwzUnvXxbA, 3oLnrs0kkwXI7Qg4xZ0IDg, 7yidTwi3Sg3DgGiF1iP62Q, -TWmOCrqnTwfO5k04S3QrA, DzaHYnnaukPbyyq3AWRK5g, I46M5OeK1997WtjOX1Zq8Q, dChP4dFx9RanmCOcj3cdVQ, NDqpN5iHbt2dRJ7AGLxo0A, 4aFG0JLeRgigxoXM2rMggw, WvE0rSPjHhMco7g3qLpT7A, ZDy_rmGYyNV6-4lZaAWH4A, GnSt13tAZSBRvCGDbJyyfg, oxdRzht_UpErDQvOP6-5zw, jl1reVlOrV_VkkSAvj6WKQ, 5aN5wlyKJTF-Fz3zC1mTMg, fKNmV8QUkRTgY_W0r46JRQ, qdcmfJs2BMoDMWsJl1HK9A, w2HDCmNZS9YrN9qkT6sv9Q, iEoX7akY_X3bpAnOc_N4kA, WGtZD03c3nZoBiQxWYRPSA, QUAS6v4RlwcS8_mJ4-P2ZA, cnOiGgSPmATMG8jq5JiEZA, BYePXpE4YTfFpGdUw38BlQ, To_FqQAiLmfrp2sfwFhheA, jZejqQ9D706UBmk-dFD-aQ, iJ6wu2U1gi55NIB5TGh9_Q, MTbmxAFDpbBQQIOWhUnmfg, 7JVdkSKye0OWQUUxJHC8Rg, aFcA5AcVFvqMF6KnI892nw, dRZvceShqfJ7sVxS56P6hw, f3zY9dRwJACSlcm7a7Ym7Q, 6jjKzxYOqgO3pmyaGivyVg, EvkVeufbAyhQhxJDHDyc_A, 3CE78FNdE9pFRIlgF3ogHw, hi4EhpQgUjZ1xO2OvpabAQ, xQKSx2TxuI_uj5GOW26iWQ, 7dJgBUhQqS_mEsIZicRMCQ, qfcn7QYlJHpxBDTGDTU-KQ, biUOiXgtVVwp6Hh4Zf0A9g, brV8ZobzZk_M1WvQg_pLKQ, NgGs9TQODdPzkIibsGiBHw, qUanPZWXbA0EFj6cWDDz7g, bGtMnTryAL-bTfAidSQagQ, Q47rheAkeQJMoRkaZ3A5OQ, DoRCeCcJbrsM2BiAKj3trA, nHmiH-t8ca3eokKlGrSZdA, IetS95K_b5O-4VdYlyI6ng, ESlOvPzGaPeSQy7DKzdfSA, WLYF4VbeC8Qv9B4j2Dx9CA, tIQ9UbMDcKZ6Rj_8JA-zdg, Ng3Dkfql8zm4m7MRkMWUJQ, 3rqb8JwBHHeJ5UTZ_PaITQ, P-aeIDwnD_7K-DUDVrLdew, 0GxLGV1e7vQ1UKDHNwKPaA, KGTIRA8ECbBhpIlPcufYAA, PbHiBh8zBvtAs9Zz3uOj3Q, 7GXoLSO-AeqDbmv3k9tECg, w6Jr7NNskaaHmeVKj--e2g, 77HSDna0Vj6zlVuxffoUJg, RzIhLO6CRiTy1-0Df1uiug, 74QhLYFCty23YEsDfY7FBA, thVHdQ9pLKG-ionXMr7MsA, 9eYr1MaaPFyCjU-t5R7xFQ, ssNycioA8e41SUwaHhpaiQ, 8x3HY2FmN-38blg5Aq1fJQ, _nOuogwjwLX8KYjvquIu8A, NND_pOB-ipc8BjTI5p4p4g, 3L-aNIRk_TGEG4GG6nXTzg, ER87JFeCrofu3keOen7_mg, j0kdekQMaafRByP3qMI8iw, 2lMngkVzOl8DYcnTiAIeBA, Rp2BjvwZKWKtS0uYLzBXwA, cUTAO7xfjpRuOcXefbF2Bw, YyAXgqNcvcqSqF_ja0uOxA, BZAaNYmUWg6thj7FlMAYEw, aVDlsgguicnAJ3THv3zJWQ, S_69eguHI5yhc6AtzWW9Fw, 8G0Hu9OH8_5J3b0WycdLQw, 3ZNmFJh6vY6BPL3WzMtB8g, w8VteE6guMzYKbLSMUP-RA, DhXb2pWsway8tYtCT5d7uw, 5qGtWWLguAlER0SGlT_-RQ, czup1QatX4V8lUn0q41Zjw, s9B_iJYg4kgsSgG_L2-p4Q, rd6Y8AOmJiAGKehqEeXZBw, 0XYspKj0xKy0Bbkc615vaA, mXaddJvviAUkRPiO74fkfg, 4gTl6UK0U_z_3Z5yyV3_Gw, wjhXOkkWU0E6nUK6gN80dA, KgsfVkhgWtSYL-0_us9Jfg, 7haQWyYboP5XYChyN50wAg, RPPdkahHbokZTKoMDDdLFA, 7uFlbfFaSo6JkKnBnAGLsQ, GrzleIyHSs1Sw2OtxNY5cA, Foxos1f4RItC498wHyMANA, fEhDyM1UWzzplDr6azyVvA, i6wQpPKSvDX6x0UOQ5vzaQ, F12zBZpFC06wZhDqPMp80Q, BTGLnSqXYJKr-Ewy5DkiqA, Qb7YM6U4ZIyx-rZK1KfT7Q, JVk-bDzwjfvMMeMtwsByGA, 2h3odhf7eAhF9QoIHDsWUw, EOmDKIhzOaivdD2d3REexA, D-qg7MOa9XPfMfp32k1sGg, DwrfzYhGJMqnMLh6mvBCDA, qBVFnHLgphp0yqDO9r7dqQ, RsgHPN7Aeqm1PDrBnsRUsg, V1BvEveJpGUOJVQRk3ksag, UucuUW_j1AwPRcO868aixw, iv2WBbIfSxEDokeHzUaXhg, WiFKRnb7chwn-JxFSGAwIA, 9LyynU1r9vn5Ecjsnh2Kog, oi4nH9SGcsI8cD2h6zmZkw, J6SFutKA2wNIsWlLB44f9Q, Yu7d_7G_IcB8qWGixFmVZw, 1zieI-bPaY3vYgUxp7hqjA, 9kyzNbb10yJMjl9A76VxfA, k8dbcJxF6eW9hm9j0LbNog, lSP1TjUSVewWdia45iBOgw, gKWqINApM_U5VJgnygexrQ, qhi7Bdh6IPbPsx69GD_rtg, yP4SgmFAp4NiieKOFZUqsA, PIP5ZcU1mGGCJidOeB214g, L8ip13xVb8Q4YCtSt4jHmg, Td8c16NCGWopkFRtvKCaEQ, tz1qB6MFI18a9fpau6KwBw, nTm4fVOxWc9UAbe1g90E3Q, IR3edpTJUdUkri_ra0euBw, xhNMMZ0Q5pMCIkEva6Sd_g, NNQ7qsXXqn9NCTpsEYYZkQ, gGj9RhcHLIb2wRHJpGeEAA, k4YZUumI5NFMMnwsVoF4OQ, 9069VVbbnZg9Q-bkzfkaCA, dETsnnV6doVhmC8bMu2KkA, dp0PYVSUQFi_LrvgdMG8Ag, 5Z5Pq5tMKzbXjATgXsKFFQ, Jo1iczpzeC9lxxHnaHFong, Ud0-tzamNWd3EZwkwyaYvA, sHOuzYvPKeOkEtMwS6F5yA, FKDvF-sYvL0LLTIhwNHP6w, B50DrLgHgGKTe92aPshxGA, V06VGeh2hfKTFTLBSMzuCQ, w1PBYKRoY5k58igVuKvGOA, xFd6-OhIzhIgxmeUnNcoGQ, wA6HRLMg25n2MQcyvBovCg, lmKXTJ-IZk-MnChnuh886w, 1Vyr9J-2agSjoImb03Tfxw, h7n97vYdyxpn_YgJgTd7Pg, jr9gkiqwcug0K9uYVpmWlg, qqvdFbMcuY8O2TTPNwoh0A, sif5ugatpfFtBjHR1gD0OQ, YOx9ymlyZF9sCJ2LPqTVhQ, bY5-d5KnmDXgSyiLBrZ8Rw, Yy-pM8T1tX1vKb26Oo66ZQ, Y3YqBcQpRLR7_XTc1oqImQ, Z793mzazfu14bwHjkNmY8A, mU32djCR0i7ypHf4tUfqcw, _PzGRV0toDl9YzZ8EaQ2Cg, N7hCyAiLgkVLcGivw2WsYg, qF837lvJItvV7AQiqyRGUA, ZseejmpbfqYtI2XfoYNahw, u-7CzSaFrl-jGScGnCJ_9w, vunT0tg-8JnCFn2bz4sl-w, vZemiyIx5ph3JdGJ7RZVYQ, 5tZ1sPIh33OnJo0WsT5yWg, zU7lw1g_TGl5BtDiZCXwow, rgjR-MyPHFzl40Jv2zB6XQ, J9kSMMK4sTwObaDl2ioTsA, 0i2sJwxKBp1uKTKrbBGDfA, Rrq38eJfAX4WyJuBXp72XA, 7i7d3XyZYzE1SQ2L98qqlg, pGA9t9vcjjgybH10SBKtXA, XPvogLprFIAHhYtlPi3OAw, mrP5h5xx8s7slV9RDA-dSQ, nncxdRzS5eifnzZjXD5CAg, sd3Cr0Eg6MAS0BonQfpgiw, WPu2W8jZvFZ0uQUjPQ0rIw, HWHTEHZ_ohgUKGVkTX_gXg, m4E0a5m_J3-AhXeg66pv6Q, eiQjnSrthTGU5zlSgT8igw, htdqU19Nf0JQ3JXv2n4miw, C5otz_RhvIFKnEoXx8V4Fw, lKwSNzlR0f9mD3ZgP_0wgw, XxPTQLtDdRVAJyTsJOSiEA, nf7D9Ncdfv1STv6SRZqHgA, 5IlqPkAxG8jGObbDL1V_ww, HoWOJibZG6flsNu89PPBKQ, 7EvXG-ASw4R9zmncFulBNg, xPcYb6rPN5ZBaDJvZVdSow, Bk5S6n0OhhlsIcgph-RkvA, Gg2MrQlvkhE1sKm7LdQmgg, w76Uos_E1PRyuLSFPu_mSA, uezMXmzdyoGIZpUmslCcOQ, 8H29K8ViPum4pk0S3YymTw, vgpKz2YtGy667mg0_kKHAw, At1vUzn6uRC0TOBjq0IHLg, 9uvYUcvE6Sit1fe9n9-0AA, JjQ5f6LzdwkEeqm9D0s-yA, mv-Qpd9PbPO4Uhtwn9sNLg, WVjOSNfwLc_uEdUsRSSeNw, rCXiuurbj5gPECLvk5k3-w, xvfzL9rIk0gZI33nj2YllA, EeUzOGZ6bu6YIiOf1L8KrQ, ZkgwN9RKqB_QdPYHNg2kqg, Y2U7i-z7Wh0Tyi2gMPUyIQ, h6CJHkHsASPG4a7DxwzHZg, D6ZAsyAIvd1WZKs50fyC6w, wJSOB-AxuCfSitBv4skxKw, j0OeQ1OZCPWso97BdanRFw, az__tEVHFhkTs9sBbYqK-w, 0dshq7hIBwqZ3nRG0TNZOQ, Z9q-W77jKoZqAJqUEIM5ZQ, or2rhkWruQq_h5xUfhRfoA, XIs17hTg7CJQaAQfuXzQwg, bIgVlmoOITyd4XYYz4uk6A, gfPnmZIwzTQsVMy1pPzoCQ, JCXMv2g7K-15zzsS0HSDHw, w7RP1MZad3YO7Vjgp3s3Dg, Moj4J3xrAGw3rOzLUPkvDw, NU6_pMhSTocG7rvBARoiIw, jbCp_lWONzSSw70cMdBclQ, iB56w81WelQXfhWklAmqXg, 9IckwOhrW2-90kBDq8B2Eg, OnGeBXTYpnOtMJBLUqJDCg, 8GNoFZA7tPOgcsfvRUl3aw, TafDgiNPJF9jaV_TcZHhyA, XUBbGa4rmJdyZoI7YyrDJA, 4veJJhfN1MRPDFGbUZhR6Q, PPoIycpgbTkRIabLPwTCMw, LEmcVgJrF84AEgW3TtDPqQ, s58ic3AYMxSHmZmtLvPs8Q, R8fcCeQW8j4LZ0gJaiWk2Q, eFhXXFGkNvJg3MavvBfq7A, pT7DJGs3vp1kYY9ewD5Grg, GvTx_-Bis43Wt045zVt2jQ, V1Scc_PQdaj1I93cP6F4Dg, qK2XJPlHUGtG6Ynechdp1A, UIIgh3pLe38Pn5dSB_t6gQ, Gt7jPrfEBjFjIda3iFASRQ, EHEjClf98dMwyG1lpO8xHA, hhWnst360XR8spfZU5ZJww, -RN_MbdIkz1OVGck1aWJSw, 0P89RGWt_xW4hu_A_Av23Q, SMCpGJOcUDRvMLohPCzoSA, mK9EDidLbkQpw1vFQtPADA, Qq4u6fmnRG-pHajcPEYg5w, KLUE6_kzEDXcqGTXnOq-sg, TARoiUBu0l2QzHhmAP1Rvw, QCr2VCLDyIDpiYTBFA3DQA, uBu8Ke2KEr4p7bKrIPgtSg, 4ABkJkTpMLpcrK_yX_Pr3Q, Xc_Zqv4dp4It6goj5Dulqw, wHCVDdOD1jWIUAmYwqoWHQ, leRAF7Pi0lrsagKsGZCEVA, -bEZ_3sRYd8xNl_BIFyLtA, IX55vTJQvTZla5aTkHykOg, Yg1czp8pvyjbTyBE_Ulzqw, eKE7ZRxNYTpIW3I6ZegNmA, 4zBahb5XhG_cN_v54urcCg, 3ch8CxRLlIhX05b4QIUOGQ, UTLJrTHTFvr5oV1ngQ87Zg, JfDOlHGJOrOuxruwoNcGQQ, CZswT67TOPXjh3_oIeFvpQ, WB-rJRtX6pZELKlB17gJLg, XrlurJv4ExLam5Vln6qQLQ, Iqr9Uo5iQnjYNIzjQPX6fQ, UbPG-Yg31hftQ0HAPAv9XQ, bMEJ8jwUEOrac3HWxFoTGQ, 3y3eV4Nml5fsj-im5YuYRg, e1Y7v-Gwi7W0Zz-KtMH47g, Ch5lVGqULsY42EWu5tnNSA, G09Xc39__6oqghOfg3_qFg, wkvgwj3Wjqo87IY6cRWsCA, VQymjXs-9ENE4v2YnA4U8g, WBQCwRWPC9d_0NyOs5PBvg, 4XO58j4DdOR0vwjwaQvQFA, ssM5QiP9xayLs8XlY6t4kg, BqUeDshKWzFMBDJrmL4DrA, RnUlIA8k8qt5vPwd5sDD4g, aZp9Ylc4Kp09WCS-RQZ5wg, 4qM1BMrlMfdBo95y9NmbVw, yOcpfmzGLVNrDy7uEE2lSg, oDbJskSTRfHGadJ9avbILw, uD1AzkdVgUf4rznat_3PjQ, JdK3dEPQkVldiDjpTmsJYw, y5yDNRrtapWiIDL8IsvvfA, ErFztPoq0KSWYY0kXykQPg, FygtzWy9jWTflKnz4PnivQ, GpRcBl72jLKOMIUCf9N_Cg, 1DOQfTsH9dFkVSBMGn92wg, knxPjB5kpGS65dqDjCc6yw, 946d7_la9Y25BsSK4n6mpg, JZicKqXG2uMUKGk-FlczRA, lZbotco47bHU7oE5b3d1DA, gRdr1iGXS-I86OpaNfIb-w, fiLCmexeQgNySyveP2EgQQ, c3N8l3QDLB1UuyB8addgIg, Ijzu4MyGR51UvLHZG6GdIA, MujxwXSHcPDKq0cHtD0-ig, ged_gDYYtSxhmQA3y1DIhQ, VzdF-Eqnp3FpKb8cYWeTSw, qCYs9X_HIpwdqOC3stPPZQ, eWzDejiCtRhb1M9G14W29Q, I3axJuMSw8OLdvYypHGQ5g, mFsrTC9WT6WrOmrKJD0ONw, laAdtXsAJCqzB5T26NA6Mg, eLZM-Soo_x6e7zHVkhE5QA, IJm4r3hxgWOeIoDcyFIxWw, Jp4laIWRSFuQkQ5JqooRRw, GHnZ8FyFtojEDChFRs4TJw, CEgeyUXZSvDIeP1sNVMN6g, _dLKZfEl-XwJoFCOhR4FZA, 9rLiEJIi__bgMKX4eZGW1A, OPQIPatq4_pveun5mAZJiQ, cJcYbaDXXtb6UlREktzunA, E--Kv33XwhanP1giXENdTw, j6njSq8F3mwzMl7XUFMqEw, suqYm9UY89fABKA1Vhsnkg, h4orG9M-mw-7O3GfmWLJpg, 59fe-KVqa-Xtl0q56RhR2Q, ohOnHe9TsyXiDM6OfQOTCg, iAe5f68DZJqXRedAxcRJVQ, aq7PsU-EerT2gSPsBc_FCw, xlXNYfzUGQ4IMWDD8eYGPw, C3mInTPbewzX1CYFM4H7eg, gKKxQoy3WSTJKiyW_MjeVQ, wnEhxbLqYnBY5r_UZYm-Tw, m-4rZN-eHABcKtfdad3K9g, G_zrrVn4PXxOvPfQEi17zQ',\n",
       " 'fans': 114,\n",
       " 'average_stars': 3.83,\n",
       " 'compliment_hot': 53,\n",
       " 'compliment_more': 12,\n",
       " 'compliment_profile': 3,\n",
       " 'compliment_cute': 2,\n",
       " 'compliment_list': 2,\n",
       " 'compliment_note': 34,\n",
       " 'compliment_plain': 43,\n",
       " 'compliment_cool': 49,\n",
       " 'compliment_funny': 49,\n",
       " 'compliment_writer': 53,\n",
       " 'compliment_photos': 13}"
      ]
     },
     "execution_count": 53,
     "metadata": {},
     "output_type": "execute_result"
    }
   ],
   "source": [
    "user_data[60] # name, elite, average_stars, useful > 500, fans"
   ]
  },
  {
   "cell_type": "code",
   "execution_count": 54,
   "metadata": {},
   "outputs": [
    {
     "data": {
      "text/plain": [
       "3.8"
      ]
     },
     "execution_count": 54,
     "metadata": {},
     "output_type": "execute_result"
    }
   ],
   "source": [
    "round(user_data[60]['average_stars'], 1)"
   ]
  },
  {
   "cell_type": "code",
   "execution_count": 55,
   "metadata": {},
   "outputs": [],
   "source": [
    "user_dict = {}\n",
    "for i, user_item in enumerate(user_data):\n",
    "    user_dict[user_item['user_id']] = i"
   ]
  },
  {
   "cell_type": "code",
   "execution_count": 56,
   "metadata": {},
   "outputs": [],
   "source": [
    "user_id2name = {}\n",
    "for i in range(len(review_data)):\n",
    "    user_id = datamaps['user2id'][review_data[i]['reviewerID']]\n",
    "    u_info = user_data[user_dict[review_data[i]['reviewerID']]]\n",
    "    assert 'name' in u_info\n",
    "    user_id2name[user_id] = u_info['name']"
   ]
  },
  {
   "cell_type": "code",
   "execution_count": 57,
   "metadata": {},
   "outputs": [],
   "source": [
    "save_pickle(user_id2name, '{}/user_id2name.pkl'.format(short_data_name))"
   ]
  },
  {
   "cell_type": "markdown",
   "metadata": {},
   "source": [
    "### Create Train/Val/Test Splits"
   ]
  },
  {
   "cell_type": "code",
   "execution_count": 58,
   "metadata": {},
   "outputs": [
    {
     "name": "stderr",
     "output_type": "stream",
     "text": [
      "100%|████████████████████████████████████████████████████████████████████████████████████████████████████████████████████████████████████████████████████████████████████████████████████████████████████████████████████████████████████████████████████████████████████████████| 316354/316354 [00:00<00:00, 1101662.14it/s]"
     ]
    },
    {
     "name": "stdout",
     "output_type": "stream",
     "text": [
      "0\n",
      "316354\n",
      "{'review_id': 'tuNJg57DIbe8G9ZOKiJ4bA', 'useful': 0, 'funny': 0, 'cool': 0, 'date': '2019-02-23 08:33:06', 'unixReviewTime': '20190223083306', 'reviewerID': 'pGvCyc6xVOyoxeIDgafCCQ', 'asin': '5eV8oUGdBXylwB7HeaDFOA', 'overall': 4.0, 'reviewText': 'I tried the steak entree plate that came with a side salad, pita bread, 2 skewers of steak, and their yogurt sauce (forgot the name). \\n\\nI think my first mistake was that I order the steak \"well done\" as I hate raw steak but I hadn\\'t realized that it was sirloin steak. The steak was chewy and honestly I almost choked on it. The side salad and it\\'s dressing was really good except I bit into an olive not knowing there was a seed in it! Good thing I didn\\'t break my tooth! \\n\\nThe food was just okay. \\n\\nOn the other hand, I order a piece of baklava and oohhh my goodness gracious, I\\'m not even a sweets lover, but dayum this dessert was top notch! The top was flaky and as you got to the bottom of the piece it would get more and more sweet. But not too sweet as I believe it\\'s sweetened with honey. It was like. So. Good. I was supposed to share half with my boyfriend but I ate the whole thing! Whoopsie!\\n\\nSo my advice is to skip the food and just buy the baklava! Next time I\\'m going to try the baklava ice cream because that looked really good too!', 'explanation': 'The steak was chewy and honestly I almost choked on it', 'feature': 'steak'}\n"
     ]
    },
    {
     "name": "stderr",
     "output_type": "stream",
     "text": [
      "\n"
     ]
    }
   ],
   "source": [
    "valid_review_indices = []\n",
    "review_data = []\n",
    "\n",
    "for i in tqdm(range(len(combined_review_data))):\n",
    "    if combined_review_data[i]['reviewerID'] in datamaps['user2id'] and combined_review_data[i]['asin'] in datamaps['item2id']:\n",
    "        valid_review_indices.append(i)\n",
    "        review_data.append(combined_review_data[i])\n",
    "        \n",
    "print(len(combined_review_data) - len(valid_review_indices))\n",
    "print(len(review_data))\n",
    "print(review_data[1])"
   ]
  },
  {
   "cell_type": "code",
   "execution_count": 59,
   "metadata": {},
   "outputs": [
    {
     "name": "stdout",
     "output_type": "stream",
     "text": [
      "316354\n"
     ]
    }
   ],
   "source": [
    "population = len(review_data)\n",
    "print(population)\n",
    "data = range(population)\n",
    "\n",
    "user_mention_dict = {}\n",
    "item_mention_dict = {}\n",
    "for i in data:\n",
    "    review_datum = review_data[i]\n",
    "    user_ = review_datum['reviewerID']\n",
    "    item_ = review_datum['asin']\n",
    "    if user_ not in user_mention_dict:\n",
    "        user_mention_dict[user_] = [i]\n",
    "    else:\n",
    "        user_mention_dict[user_].append(i)\n",
    "    if item_ not in item_mention_dict:\n",
    "        item_mention_dict[item_] = [i]\n",
    "    else:\n",
    "        item_mention_dict[item_].append(i)"
   ]
  },
  {
   "cell_type": "code",
   "execution_count": 60,
   "metadata": {},
   "outputs": [
    {
     "name": "stderr",
     "output_type": "stream",
     "text": [
      "100%|█████████████████████████████████████████████████████████████████████████████████████████████████████████████████████████████████████████████████████████████████████████████████████████████████████████████████████████████████████████████████████████████████████████████████| 30431/30431 [00:05<00:00, 5182.45it/s]\n",
      "100%|█████████████████████████████████████████████████████████████████████████████████████████████████████████████████████████████████████████████████████████████████████████████████████████████████████████████████████████████████████████████████████████████████████████████████| 20033/20033 [00:08<00:00, 2489.21it/s]"
     ]
    },
    {
     "name": "stdout",
     "output_type": "stream",
     "text": [
      "48555\n"
     ]
    },
    {
     "name": "stderr",
     "output_type": "stream",
     "text": [
      "\n"
     ]
    }
   ],
   "source": [
    "train_indices = []\n",
    "for u in tqdm(user_mention_dict.keys()):\n",
    "    index_cand = user_mention_dict[u]\n",
    "    random_choice = random.randint(0, len(index_cand)-1)\n",
    "    if index_cand[random_choice] not in train_indices:\n",
    "        train_indices.append(index_cand[random_choice])\n",
    "for it in tqdm(item_mention_dict.keys()):\n",
    "    index_cand = item_mention_dict[it]\n",
    "    random_choice = random.randint(0, len(index_cand)-1)\n",
    "    if index_cand[random_choice] not in train_indices:\n",
    "        train_indices.append(index_cand[random_choice])\n",
    "print(len(train_indices))"
   ]
  },
  {
   "cell_type": "code",
   "execution_count": 61,
   "metadata": {},
   "outputs": [
    {
     "name": "stdout",
     "output_type": "stream",
     "text": [
      "267799\n"
     ]
    }
   ],
   "source": [
    "remaining_indices = list(set(range(population)).difference(set(train_indices))) # in population but not in train_indices\n",
    "        \n",
    "print(len(remaining_indices))"
   ]
  },
  {
   "cell_type": "code",
   "execution_count": 62,
   "metadata": {},
   "outputs": [
    {
     "name": "stdout",
     "output_type": "stream",
     "text": [
      "204528\n",
      "253083\n"
     ]
    }
   ],
   "source": [
    "sub_indices = random.sample(range(len(remaining_indices)), round(population * 0.8) - len(train_indices))\n",
    "print(len(sub_indices))\n",
    "\n",
    "final_train_indices = list(set(np.array(remaining_indices)[sub_indices]).union(set(train_indices)))\n",
    "print(len(final_train_indices))"
   ]
  },
  {
   "cell_type": "code",
   "execution_count": 63,
   "metadata": {},
   "outputs": [
    {
     "name": "stdout",
     "output_type": "stream",
     "text": [
      "63271\n"
     ]
    }
   ],
   "source": [
    "val_test_indices = list(set(range(population)).difference(set(final_train_indices)))\n",
    "print(len(val_test_indices))"
   ]
  },
  {
   "cell_type": "code",
   "execution_count": 64,
   "metadata": {},
   "outputs": [
    {
     "name": "stdout",
     "output_type": "stream",
     "text": [
      "31635\n",
      "31636\n",
      "316354\n"
     ]
    }
   ],
   "source": [
    "sub_sub_indices = random.sample(range(len(val_test_indices)), round(population * 0.1))\n",
    "\n",
    "val_indices = list(np.array(val_test_indices)[sub_sub_indices])\n",
    "test_indices = list(set(val_test_indices).difference(set(val_indices)))\n",
    "print(len(val_indices))\n",
    "print(len(test_indices))\n",
    "\n",
    "all_indices = final_train_indices + val_indices + test_indices\n",
    "print(len(set(all_indices)))"
   ]
  },
  {
   "cell_type": "code",
   "execution_count": 65,
   "metadata": {},
   "outputs": [],
   "source": [
    "train_review_data = []\n",
    "for i in final_train_indices:\n",
    "    train_review_data.append(review_data[i])\n",
    "    \n",
    "val_review_data = []\n",
    "for j in val_indices:\n",
    "    val_review_data.append(review_data[j])\n",
    "    \n",
    "test_review_data = []\n",
    "for k in test_indices:\n",
    "    test_review_data.append(review_data[k])"
   ]
  },
  {
   "cell_type": "code",
   "execution_count": 66,
   "metadata": {},
   "outputs": [],
   "source": [
    "outputs = {'train': train_review_data,\n",
    "           'val': val_review_data,\n",
    "           'test': test_review_data,\n",
    "           'train_indices': final_train_indices,\n",
    "           'val_indices': val_indices,\n",
    "           'test_indices': test_indices\n",
    "}\n",
    "\n",
    "save_pickle(outputs, './{}/review_splits.pkl'.format(short_data_name))"
   ]
  },
  {
   "cell_type": "code",
   "execution_count": 67,
   "metadata": {},
   "outputs": [
    {
     "data": {
      "text/plain": [
       "{'review_id': '79eSH5_62rml1Msb9K4uSg',\n",
       " 'useful': 4,\n",
       " 'funny': 0,\n",
       " 'cool': 2,\n",
       " 'date': '2019-01-04 03:04:03',\n",
       " 'unixReviewTime': '20190104030403',\n",
       " 'reviewerID': 'ZW_4gIdXNG8eU5_aBJQwcQ',\n",
       " 'asin': '_iEl9sCLsvXEFHUWPvgsAg',\n",
       " 'overall': 2.0,\n",
       " 'reviewText': \"Had dinner here on NYE, there were 4 of us. The look and feel of the place was fine. We ordered chips, salsa and elote for the appetizer, which was good, but the elote was luke warm - a reoccurring theme. For the main course we ordered the Green Chili Chicken(very good), the Carne Asada(they hit the medium rare perfectly). \\nWe also ordered the Scallops and this is where things started to fall apart. The scallops were sandy, as in sand. While this is not unusual, these scallops were inedible. We were picking sand out of our teeth for the rest of the night. The scallops were also undercooked, which we sent back to be  finished. Finally, we had the Lobster Chili Rellenos which was cold. \\nOver all, we spent $160(tip included). It was not a good value and we won't be going back.\",\n",
       " 'explanation': 'Had dinner here on NYE',\n",
       " 'feature': 'dinner'}"
      ]
     },
     "execution_count": 67,
     "metadata": {},
     "output_type": "execute_result"
    }
   ],
   "source": [
    "train_review_data[200]"
   ]
  },
  {
   "cell_type": "code",
   "execution_count": 68,
   "metadata": {},
   "outputs": [],
   "source": [
    "train_exp_data = []\n",
    "for i in final_train_indices:\n",
    "    if 'explanation' in review_data[i]:\n",
    "        train_exp_data.append(review_data[i])\n",
    "        \n",
    "val_exp_data = []\n",
    "for j in val_indices:\n",
    "    if 'explanation' in review_data[j]:\n",
    "        val_exp_data.append(review_data[j])\n",
    "\n",
    "test_exp_data = []\n",
    "for k in test_indices:\n",
    "    if 'explanation' in review_data[k]:\n",
    "        test_exp_data.append(review_data[k])"
   ]
  },
  {
   "cell_type": "code",
   "execution_count": 69,
   "metadata": {},
   "outputs": [],
   "source": [
    "outputs = {'train': train_exp_data,\n",
    "           'val': val_exp_data,\n",
    "           'test': test_exp_data,\n",
    "}\n",
    "\n",
    "save_pickle(outputs, './{}/exp_splits.pkl'.format(short_data_name))"
   ]
  },
  {
   "cell_type": "code",
   "execution_count": 70,
   "metadata": {},
   "outputs": [
    {
     "data": {
      "text/plain": [
       "{'review_id': 'WH5HArgVVXwql5Xj29TNCw',\n",
       " 'useful': 0,\n",
       " 'funny': 4,\n",
       " 'cool': 0,\n",
       " 'date': '2019-04-10 07:31:31',\n",
       " 'unixReviewTime': '20190410073131',\n",
       " 'reviewerID': 'YLxW1eLf4aTj8Mhqp2v1Gg',\n",
       " 'asin': 'e3PBfbtXUjMziX6XGsOMoA',\n",
       " 'overall': 4.0,\n",
       " 'reviewText': \"We went here a few weeks ago because I was craving udon and this place is the only one I've seen that serve Japanese udon in Vegas. \\n\\nThey have a variety of udon to try. I got the curry udon with some tempuras. The udon itself is pretty good - cooked the way I like it. The curry sauce was just okay. I think I'll like it better if it's a little spicier. \\n\\nMy husband got the gyudon with the poached egg. It was actually really good - I would definitely get it again next time. He also got the clam udon - it's pretty simple. Just steamed clam in its broth with udon. \\n\\nThe service was great. There were a lot of workers and they're friendly. There's a lot of parking space at the parking lot. I'll definitely go back again when I crave udon.\",\n",
       " 'explanation': 'The service was great',\n",
       " 'feature': 'service'}"
      ]
     },
     "execution_count": 70,
     "metadata": {},
     "output_type": "execute_result"
    }
   ],
   "source": [
    "train_exp_data[200]"
   ]
  },
  {
   "cell_type": "markdown",
   "metadata": {},
   "source": [
    "### Re-balancing Training Split"
   ]
  },
  {
   "cell_type": "code",
   "execution_count": 71,
   "metadata": {},
   "outputs": [],
   "source": [
    "data_splits = load_pickle('./{}/review_splits.pkl'.format(short_data_name))\n",
    "train_review_data = data_splits['train']"
   ]
  },
  {
   "cell_type": "markdown",
   "metadata": {},
   "source": [
    "#### Augmentation of Minority Ratings"
   ]
  },
  {
   "cell_type": "code",
   "execution_count": 72,
   "metadata": {},
   "outputs": [
    {
     "name": "stdout",
     "output_type": "stream",
     "text": [
      "253083\n",
      "{1.0: 0.08432806628655422, 2.0: 0.0666145098643528, 3.0: 0.12658297870659033, 4.0: 0.2609183548480143, 5.0: 0.46155609029448835}\n"
     ]
    }
   ],
   "source": [
    "counts = {float(r): 0 for r in range(1,6)}\n",
    "for record in train_review_data:\n",
    "    counts[record['overall']] += 1\n",
    "T = sum(counts.values())\n",
    "print(T)\n",
    "for k,c in counts.items():\n",
    "    counts[k] = float(counts[k])/T\n",
    "print(counts)"
   ]
  },
  {
   "cell_type": "code",
   "execution_count": 73,
   "metadata": {},
   "outputs": [
    {
     "data": {
      "image/png": "[encoded data removed]",
      "text/plain": [
       "<Figure size 432x288 with 1 Axes>"
      ]
     },
     "metadata": {
      "needs_background": "light"
     },
     "output_type": "display_data"
    }
   ],
   "source": [
    "import matplotlib.pyplot as plt\n",
    "X = [float(r) for r in range(1,6)]\n",
    "plt.bar(X, [counts[x] for x in X])\n",
    "plt.show()"
   ]
  },
  {
   "cell_type": "markdown",
   "metadata": {},
   "source": [
    "#### 1. How should each class augment"
   ]
  },
  {
   "cell_type": "code",
   "execution_count": 74,
   "metadata": {},
   "outputs": [
    {
     "name": "stdout",
     "output_type": "stream",
     "text": [
      "{1.0: 0.1656719337134458, 2.0: 0.1833854901356472, 3.0: 0.12341702129340967, 4.0: 0.0, 5.0: 0.0}\n",
      "0.4724744451425027\n",
      "{1.0: 4.158133953719351, 2.0: 5.826634954567998, 3.0: 2.0635805487782406, 4.0: 0.0, 5.0: 0.0}\n"
     ]
    }
   ],
   "source": [
    "augment_prob = {r: max(1.0 / (len(counts)-1) - c,0.) for r,c in counts.items()}\n",
    "print(augment_prob)\n",
    "sum_P = sum(augment_prob.values())\n",
    "print(sum_P)\n",
    "all_ratings = [float(r) for r in range(1,6)]\n",
    "augment_multiplier = {r: augment_prob[r] / (sum_P * counts[r]) for r in all_ratings}\n",
    "print(augment_multiplier)"
   ]
  },
  {
   "cell_type": "markdown",
   "metadata": {},
   "source": [
    "#### 2. Augment with variation"
   ]
  },
  {
   "cell_type": "code",
   "execution_count": 75,
   "metadata": {},
   "outputs": [
    {
     "name": "stdout",
     "output_type": "stream",
     "text": [
      "{1.0: array([0.66006601, 0.1980198 , 0.0990099 , 0.0330033 , 0.00990099]), 2.0: array([0.16666667, 0.55555556, 0.16666667, 0.08333333, 0.02777778]), 3.0: array([0.07894737, 0.15789474, 0.52631579, 0.15789474, 0.07894737]), 4.0: array([0.02777778, 0.08333333, 0.16666667, 0.55555556, 0.16666667]), 5.0: array([0.00990099, 0.0330033 , 0.0990099 , 0.1980198 , 0.66006601])}\n",
      "{1.0: 79972, 2.0: 82496, 3.0: 60328, 4.0: 21286, 5.0: 8887}\n",
      "252969\n"
     ]
    }
   ],
   "source": [
    "import numpy as np\n",
    "dist_to_prob = [0.2,0.06,0.03,0.01,0.003]\n",
    "rating_perturbation_prob = {}\n",
    "for r in all_ratings:\n",
    "    P = np.array([dist_to_prob[int(abs(r - r_2))] for r_2 in all_ratings])\n",
    "    P /= np.sum(P)\n",
    "    rating_perturbation_prob[r] = P\n",
    "print(rating_perturbation_prob)\n",
    "augmented_counts = {r: 0 for r in all_ratings}\n",
    "augmented_records = []\n",
    "for record in train_review_data:\n",
    "    record_rating = record['overall']\n",
    "    M = augment_multiplier[record_rating]\n",
    "    remainder = M % 1\n",
    "    M = int(M)+1 if np.random.random() < remainder else int(M)\n",
    "    sample_amount = np.random.multinomial(M, rating_perturbation_prob[record_rating])\n",
    "    for i,n_sample in enumerate(sample_amount):\n",
    "        for j in range(n_sample):\n",
    "            new_record = {k:v for k,v in record.items()}\n",
    "            new_record['overall'] = float(i+1)\n",
    "            augmented_records.append(new_record)\n",
    "        augmented_counts[float(i+1)] += n_sample\n",
    "print(augmented_counts)\n",
    "print(len(augmented_records))"
   ]
  },
  {
   "cell_type": "code",
   "execution_count": 76,
   "metadata": {},
   "outputs": [
    {
     "name": "stdout",
     "output_type": "stream",
     "text": [
      "506052\n"
     ]
    }
   ],
   "source": [
    "data_splits['train'] = data_splits['train'] + augmented_records\n",
    "print(len(data_splits['train']))"
   ]
  },
  {
   "cell_type": "code",
   "execution_count": 77,
   "metadata": {},
   "outputs": [],
   "source": [
    "save_pickle(data_splits, './{}/rating_splits_augmented.pkl'.format(short_data_name)) # for rating"
   ]
  },
  {
   "cell_type": "markdown",
   "metadata": {},
   "source": [
    "#### 3. New counts"
   ]
  },
  {
   "cell_type": "code",
   "execution_count": 78,
   "metadata": {},
   "outputs": [],
   "source": [
    "train_review_data = data_splits['train']"
   ]
  },
  {
   "cell_type": "code",
   "execution_count": 79,
   "metadata": {},
   "outputs": [
    {
     "name": "stdout",
     "output_type": "stream",
     "text": [
      "506052\n",
      "{1.0: 0.2002047220443749, 2.0: 0.1963335783674405, 3.0: 0.1825187925351545, 4.0: 0.17255143740168993, 5.0: 0.24839146965134018}\n"
     ]
    }
   ],
   "source": [
    "counts = {float(r): 0 for r in range(1,6)}\n",
    "for record in train_review_data:\n",
    "    counts[record['overall']] += 1\n",
    "T = sum(counts.values())\n",
    "print(T)\n",
    "for k,c in counts.items():\n",
    "    counts[k] = float(counts[k])/T\n",
    "print(counts)"
   ]
  },
  {
   "cell_type": "code",
   "execution_count": 80,
   "metadata": {},
   "outputs": [
    {
     "data": {
      "image/png": "[encoded data removed]",
      "text/plain": [
       "<Figure size 432x288 with 1 Axes>"
      ]
     },
     "metadata": {
      "needs_background": "light"
     },
     "output_type": "display_data"
    }
   ],
   "source": [
    "import matplotlib.pyplot as plt\n",
    "X = [float(r) for r in range(1,6)]\n",
    "plt.bar(X, [counts[x] for x in X])\n",
    "plt.show()"
   ]
  },
  {
   "cell_type": "code",
   "execution_count": null,
   "metadata": {},
   "outputs": [],
   "source": []
  }
 ],
 "metadata": {
  "kernelspec": {
   "display_name": "p5",
   "language": "python",
   "name": "p5"
  },
  "language_info": {
   "codemirror_mode": {
    "name": "ipython",
    "version": 3
   },
   "file_extension": ".py",
   "mimetype": "text/x-python",
   "name": "python",
   "nbconvert_exporter": "python",
   "pygments_lexer": "ipython3",
   "version": "3.8.12"
  }
 },
 "nbformat": 4,
 "nbformat_minor": 4
}
